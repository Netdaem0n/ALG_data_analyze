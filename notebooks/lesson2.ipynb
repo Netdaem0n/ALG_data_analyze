{
 "cells": [
  {
   "cell_type": "code",
   "execution_count": 1,
   "id": "initial_id",
   "metadata": {
    "collapsed": true,
    "ExecuteTime": {
     "end_time": "2024-02-18T04:36:22.799810200Z",
     "start_time": "2024-02-18T04:36:18.892655Z"
    }
   },
   "outputs": [],
   "source": [
    "import pandas as pd\n",
    "import numpy as np"
   ]
  },
  {
   "cell_type": "code",
   "outputs": [],
   "source": [
    "df1 = pd.read_csv('../data/GoogleApps.csv')"
   ],
   "metadata": {
    "collapsed": false,
    "ExecuteTime": {
     "end_time": "2024-02-18T04:36:23.916999200Z",
     "start_time": "2024-02-18T04:36:23.884659600Z"
    }
   },
   "id": "cc22b3c79337cb8b",
   "execution_count": 2
  },
  {
   "cell_type": "code",
   "outputs": [
    {
     "data": {
      "text/plain": "                                                    App             Category  \\\n0        Photo Editor & Candy Camera & Grid & ScrapBook       ART_AND_DESIGN   \n1                                   Coloring book moana       ART_AND_DESIGN   \n2     U Launcher Lite – FREE Live Cool Themes, Hide ...       ART_AND_DESIGN   \n3                                 Sketch - Draw & Paint       ART_AND_DESIGN   \n4                 Pixel Draw - Number Art Coloring Book       ART_AND_DESIGN   \n...                                                 ...                  ...   \n7347                                        Chemin (fr)  BOOKS_AND_REFERENCE   \n7348                                      FR Calculator               FAMILY   \n7349                                   Sya9a Maroc - FR               FAMILY   \n7350                   Fr. Mike Schmitz Audio Teachings               FAMILY   \n7351      iHoroscope - 2018 Daily Horoscope & Astrology            LIFESTYLE   \n\n      Rating  Reviews       Size    Installs  Type  Price Content Rating  \\\n0        4.1      159  19.000000     10000.0  Free    0.0       Everyone   \n1        3.9      967  14.000000    500000.0  Free    0.0       Everyone   \n2        4.7    87510   8.700000   5000000.0  Free    0.0       Everyone   \n3        4.5   215644  25.000000  50000000.0  Free    0.0           Teen   \n4        4.3      967   2.800000    100000.0  Free    0.0       Everyone   \n...      ...      ...        ...         ...   ...    ...            ...   \n7347     4.8       44   0.604492      1000.0  Free    0.0       Everyone   \n7348     4.0        7   2.600000       500.0  Free    0.0       Everyone   \n7349     4.5       38  53.000000      5000.0  Free    0.0       Everyone   \n7350     5.0        4   3.600000       100.0  Free    0.0       Everyone   \n7351     4.5   398307  19.000000  10000000.0  Free    0.0       Everyone   \n\n          Last Updated         Current Ver         Android Ver  \n0      January 7, 2018               1.0.0        4.0.3 and up  \n1     January 15, 2018               2.0.0        4.0.3 and up  \n2       August 1, 2018               1.2.4        4.0.3 and up  \n3         June 8, 2018  Varies with device          4.2 and up  \n4        June 20, 2018                 1.1          4.4 and up  \n...                ...                 ...                 ...  \n7347    March 23, 2014                 0.8          2.2 and up  \n7348     June 18, 2017               1.0.0          4.1 and up  \n7349     July 25, 2017                1.48          4.1 and up  \n7350      July 6, 2018                 1.0          4.1 and up  \n7351     July 25, 2018  Varies with device  Varies with device  \n\n[7352 rows x 12 columns]",
      "text/html": "<div>\n<style scoped>\n    .dataframe tbody tr th:only-of-type {\n        vertical-align: middle;\n    }\n\n    .dataframe tbody tr th {\n        vertical-align: top;\n    }\n\n    .dataframe thead th {\n        text-align: right;\n    }\n</style>\n<table border=\"1\" class=\"dataframe\">\n  <thead>\n    <tr style=\"text-align: right;\">\n      <th></th>\n      <th>App</th>\n      <th>Category</th>\n      <th>Rating</th>\n      <th>Reviews</th>\n      <th>Size</th>\n      <th>Installs</th>\n      <th>Type</th>\n      <th>Price</th>\n      <th>Content Rating</th>\n      <th>Last Updated</th>\n      <th>Current Ver</th>\n      <th>Android Ver</th>\n    </tr>\n  </thead>\n  <tbody>\n    <tr>\n      <th>0</th>\n      <td>Photo Editor &amp; Candy Camera &amp; Grid &amp; ScrapBook</td>\n      <td>ART_AND_DESIGN</td>\n      <td>4.1</td>\n      <td>159</td>\n      <td>19.000000</td>\n      <td>10000.0</td>\n      <td>Free</td>\n      <td>0.0</td>\n      <td>Everyone</td>\n      <td>January 7, 2018</td>\n      <td>1.0.0</td>\n      <td>4.0.3 and up</td>\n    </tr>\n    <tr>\n      <th>1</th>\n      <td>Coloring book moana</td>\n      <td>ART_AND_DESIGN</td>\n      <td>3.9</td>\n      <td>967</td>\n      <td>14.000000</td>\n      <td>500000.0</td>\n      <td>Free</td>\n      <td>0.0</td>\n      <td>Everyone</td>\n      <td>January 15, 2018</td>\n      <td>2.0.0</td>\n      <td>4.0.3 and up</td>\n    </tr>\n    <tr>\n      <th>2</th>\n      <td>U Launcher Lite – FREE Live Cool Themes, Hide ...</td>\n      <td>ART_AND_DESIGN</td>\n      <td>4.7</td>\n      <td>87510</td>\n      <td>8.700000</td>\n      <td>5000000.0</td>\n      <td>Free</td>\n      <td>0.0</td>\n      <td>Everyone</td>\n      <td>August 1, 2018</td>\n      <td>1.2.4</td>\n      <td>4.0.3 and up</td>\n    </tr>\n    <tr>\n      <th>3</th>\n      <td>Sketch - Draw &amp; Paint</td>\n      <td>ART_AND_DESIGN</td>\n      <td>4.5</td>\n      <td>215644</td>\n      <td>25.000000</td>\n      <td>50000000.0</td>\n      <td>Free</td>\n      <td>0.0</td>\n      <td>Teen</td>\n      <td>June 8, 2018</td>\n      <td>Varies with device</td>\n      <td>4.2 and up</td>\n    </tr>\n    <tr>\n      <th>4</th>\n      <td>Pixel Draw - Number Art Coloring Book</td>\n      <td>ART_AND_DESIGN</td>\n      <td>4.3</td>\n      <td>967</td>\n      <td>2.800000</td>\n      <td>100000.0</td>\n      <td>Free</td>\n      <td>0.0</td>\n      <td>Everyone</td>\n      <td>June 20, 2018</td>\n      <td>1.1</td>\n      <td>4.4 and up</td>\n    </tr>\n    <tr>\n      <th>...</th>\n      <td>...</td>\n      <td>...</td>\n      <td>...</td>\n      <td>...</td>\n      <td>...</td>\n      <td>...</td>\n      <td>...</td>\n      <td>...</td>\n      <td>...</td>\n      <td>...</td>\n      <td>...</td>\n      <td>...</td>\n    </tr>\n    <tr>\n      <th>7347</th>\n      <td>Chemin (fr)</td>\n      <td>BOOKS_AND_REFERENCE</td>\n      <td>4.8</td>\n      <td>44</td>\n      <td>0.604492</td>\n      <td>1000.0</td>\n      <td>Free</td>\n      <td>0.0</td>\n      <td>Everyone</td>\n      <td>March 23, 2014</td>\n      <td>0.8</td>\n      <td>2.2 and up</td>\n    </tr>\n    <tr>\n      <th>7348</th>\n      <td>FR Calculator</td>\n      <td>FAMILY</td>\n      <td>4.0</td>\n      <td>7</td>\n      <td>2.600000</td>\n      <td>500.0</td>\n      <td>Free</td>\n      <td>0.0</td>\n      <td>Everyone</td>\n      <td>June 18, 2017</td>\n      <td>1.0.0</td>\n      <td>4.1 and up</td>\n    </tr>\n    <tr>\n      <th>7349</th>\n      <td>Sya9a Maroc - FR</td>\n      <td>FAMILY</td>\n      <td>4.5</td>\n      <td>38</td>\n      <td>53.000000</td>\n      <td>5000.0</td>\n      <td>Free</td>\n      <td>0.0</td>\n      <td>Everyone</td>\n      <td>July 25, 2017</td>\n      <td>1.48</td>\n      <td>4.1 and up</td>\n    </tr>\n    <tr>\n      <th>7350</th>\n      <td>Fr. Mike Schmitz Audio Teachings</td>\n      <td>FAMILY</td>\n      <td>5.0</td>\n      <td>4</td>\n      <td>3.600000</td>\n      <td>100.0</td>\n      <td>Free</td>\n      <td>0.0</td>\n      <td>Everyone</td>\n      <td>July 6, 2018</td>\n      <td>1.0</td>\n      <td>4.1 and up</td>\n    </tr>\n    <tr>\n      <th>7351</th>\n      <td>iHoroscope - 2018 Daily Horoscope &amp; Astrology</td>\n      <td>LIFESTYLE</td>\n      <td>4.5</td>\n      <td>398307</td>\n      <td>19.000000</td>\n      <td>10000000.0</td>\n      <td>Free</td>\n      <td>0.0</td>\n      <td>Everyone</td>\n      <td>July 25, 2018</td>\n      <td>Varies with device</td>\n      <td>Varies with device</td>\n    </tr>\n  </tbody>\n</table>\n<p>7352 rows × 12 columns</p>\n</div>"
     },
     "execution_count": 3,
     "metadata": {},
     "output_type": "execute_result"
    }
   ],
   "source": [
    "df1df"
   ],
   "metadata": {
    "collapsed": false,
    "ExecuteTime": {
     "end_time": "2024-02-18T04:36:33.793048700Z",
     "start_time": "2024-02-18T04:36:33.748574200Z"
    }
   },
   "id": "f31310c2e611dc85",
   "execution_count": 3
  },
  {
   "cell_type": "code",
   "outputs": [
    {
     "data": {
      "text/plain": "Category\nFAMILY                 1574\nGAME                    911\nTOOLS                   631\nMEDICAL                 318\nLIFESTYLE               275\nPERSONALIZATION         270\nFINANCE                 266\nBUSINESS                246\nSPORTS                  245\nPRODUCTIVITY            234\nPHOTOGRAPHY             231\nHEALTH_AND_FITNESS      216\nCOMMUNICATION           206\nSHOPPING                176\nNEWS_AND_MAGAZINES      162\nTRAVEL_AND_LOCAL        159\nSOCIAL                  142\nBOOKS_AND_REFERENCE     142\nVIDEO_PLAYERS           114\nEDUCATION               108\nMAPS_AND_NAVIGATION      94\nFOOD_AND_DRINK           84\nENTERTAINMENT            84\nAUTO_AND_VEHICLES        63\nLIBRARIES_AND_DEMO       61\nART_AND_DESIGN           58\nHOUSE_AND_HOME           56\nWEATHER                  51\nPARENTING                43\nCOMICS                   42\nEVENTS                   38\nBEAUTY                   36\nDATING                   16\nName: count, dtype: int64"
     },
     "execution_count": 5,
     "metadata": {},
     "output_type": "execute_result"
    }
   ],
   "source": [
    "df1['Category'].value_counts()"
   ],
   "metadata": {
    "collapsed": false,
    "ExecuteTime": {
     "end_time": "2024-02-18T05:14:06.090292800Z",
     "start_time": "2024-02-18T05:14:06.066791300Z"
    }
   },
   "id": "75035790fc896ceb",
   "execution_count": 5
  },
  {
   "cell_type": "code",
   "outputs": [],
   "source": [
    "temp = df1['Content Rating'].value_counts()"
   ],
   "metadata": {
    "collapsed": false,
    "ExecuteTime": {
     "end_time": "2024-02-18T05:18:15.827575200Z",
     "start_time": "2024-02-18T05:18:15.807987300Z"
    }
   },
   "id": "86668e4e8316637f",
   "execution_count": 7
  },
  {
   "cell_type": "code",
   "outputs": [
    {
     "data": {
      "text/plain": "Content Rating\nEveryone        6166\nTeen             868\nEveryone 10+     318\nName: count, dtype: int64"
     },
     "execution_count": 11,
     "metadata": {},
     "output_type": "execute_result"
    }
   ],
   "source": [
    "temp"
   ],
   "metadata": {
    "collapsed": false,
    "ExecuteTime": {
     "end_time": "2024-02-18T05:19:55.924326900Z",
     "start_time": "2024-02-18T05:19:55.915178Z"
    }
   },
   "id": "7d422bdd974e6c8d",
   "execution_count": 11
  },
  {
   "cell_type": "code",
   "outputs": [
    {
     "data": {
      "text/plain": "19.39"
     },
     "execution_count": 14,
     "metadata": {},
     "output_type": "execute_result"
    }
   ],
   "source": [
    "round(temp['Everyone'] / temp['Everyone 10+'], 3)"
   ],
   "metadata": {
    "collapsed": false,
    "ExecuteTime": {
     "end_time": "2024-02-18T05:21:16.105705Z",
     "start_time": "2024-02-18T05:21:16.093602900Z"
    }
   },
   "id": "9d4730c2e5c86894",
   "execution_count": 14
  },
  {
   "cell_type": "code",
   "outputs": [
    {
     "data": {
      "text/plain": "                                                    App             Category  \\\n0        Photo Editor & Candy Camera & Grid & ScrapBook       ART_AND_DESIGN   \n1                                   Coloring book moana       ART_AND_DESIGN   \n2     U Launcher Lite – FREE Live Cool Themes, Hide ...       ART_AND_DESIGN   \n3                                 Sketch - Draw & Paint       ART_AND_DESIGN   \n4                 Pixel Draw - Number Art Coloring Book       ART_AND_DESIGN   \n...                                                 ...                  ...   \n7347                                        Chemin (fr)  BOOKS_AND_REFERENCE   \n7348                                      FR Calculator               FAMILY   \n7349                                   Sya9a Maroc - FR               FAMILY   \n7350                   Fr. Mike Schmitz Audio Teachings               FAMILY   \n7351      iHoroscope - 2018 Daily Horoscope & Astrology            LIFESTYLE   \n\n      Rating  Reviews       Size    Installs  Type  Price Content Rating  \\\n0        4.1      159  19.000000     10000.0  Free    0.0       Everyone   \n1        3.9      967  14.000000    500000.0  Free    0.0       Everyone   \n2        4.7    87510   8.700000   5000000.0  Free    0.0       Everyone   \n3        4.5   215644  25.000000  50000000.0  Free    0.0           Teen   \n4        4.3      967   2.800000    100000.0  Free    0.0       Everyone   \n...      ...      ...        ...         ...   ...    ...            ...   \n7347     4.8       44   0.604492      1000.0  Free    0.0       Everyone   \n7348     4.0        7   2.600000       500.0  Free    0.0       Everyone   \n7349     4.5       38  53.000000      5000.0  Free    0.0       Everyone   \n7350     5.0        4   3.600000       100.0  Free    0.0       Everyone   \n7351     4.5   398307  19.000000  10000000.0  Free    0.0       Everyone   \n\n          Last Updated         Current Ver         Android Ver  \n0      January 7, 2018               1.0.0        4.0.3 and up  \n1     January 15, 2018               2.0.0        4.0.3 and up  \n2       August 1, 2018               1.2.4        4.0.3 and up  \n3         June 8, 2018  Varies with device          4.2 and up  \n4        June 20, 2018                 1.1          4.4 and up  \n...                ...                 ...                 ...  \n7347    March 23, 2014                 0.8          2.2 and up  \n7348     June 18, 2017               1.0.0          4.1 and up  \n7349     July 25, 2017                1.48          4.1 and up  \n7350      July 6, 2018                 1.0          4.1 and up  \n7351     July 25, 2018  Varies with device  Varies with device  \n\n[7352 rows x 12 columns]",
      "text/html": "<div>\n<style scoped>\n    .dataframe tbody tr th:only-of-type {\n        vertical-align: middle;\n    }\n\n    .dataframe tbody tr th {\n        vertical-align: top;\n    }\n\n    .dataframe thead th {\n        text-align: right;\n    }\n</style>\n<table border=\"1\" class=\"dataframe\">\n  <thead>\n    <tr style=\"text-align: right;\">\n      <th></th>\n      <th>App</th>\n      <th>Category</th>\n      <th>Rating</th>\n      <th>Reviews</th>\n      <th>Size</th>\n      <th>Installs</th>\n      <th>Type</th>\n      <th>Price</th>\n      <th>Content Rating</th>\n      <th>Last Updated</th>\n      <th>Current Ver</th>\n      <th>Android Ver</th>\n    </tr>\n  </thead>\n  <tbody>\n    <tr>\n      <th>0</th>\n      <td>Photo Editor &amp; Candy Camera &amp; Grid &amp; ScrapBook</td>\n      <td>ART_AND_DESIGN</td>\n      <td>4.1</td>\n      <td>159</td>\n      <td>19.000000</td>\n      <td>10000.0</td>\n      <td>Free</td>\n      <td>0.0</td>\n      <td>Everyone</td>\n      <td>January 7, 2018</td>\n      <td>1.0.0</td>\n      <td>4.0.3 and up</td>\n    </tr>\n    <tr>\n      <th>1</th>\n      <td>Coloring book moana</td>\n      <td>ART_AND_DESIGN</td>\n      <td>3.9</td>\n      <td>967</td>\n      <td>14.000000</td>\n      <td>500000.0</td>\n      <td>Free</td>\n      <td>0.0</td>\n      <td>Everyone</td>\n      <td>January 15, 2018</td>\n      <td>2.0.0</td>\n      <td>4.0.3 and up</td>\n    </tr>\n    <tr>\n      <th>2</th>\n      <td>U Launcher Lite – FREE Live Cool Themes, Hide ...</td>\n      <td>ART_AND_DESIGN</td>\n      <td>4.7</td>\n      <td>87510</td>\n      <td>8.700000</td>\n      <td>5000000.0</td>\n      <td>Free</td>\n      <td>0.0</td>\n      <td>Everyone</td>\n      <td>August 1, 2018</td>\n      <td>1.2.4</td>\n      <td>4.0.3 and up</td>\n    </tr>\n    <tr>\n      <th>3</th>\n      <td>Sketch - Draw &amp; Paint</td>\n      <td>ART_AND_DESIGN</td>\n      <td>4.5</td>\n      <td>215644</td>\n      <td>25.000000</td>\n      <td>50000000.0</td>\n      <td>Free</td>\n      <td>0.0</td>\n      <td>Teen</td>\n      <td>June 8, 2018</td>\n      <td>Varies with device</td>\n      <td>4.2 and up</td>\n    </tr>\n    <tr>\n      <th>4</th>\n      <td>Pixel Draw - Number Art Coloring Book</td>\n      <td>ART_AND_DESIGN</td>\n      <td>4.3</td>\n      <td>967</td>\n      <td>2.800000</td>\n      <td>100000.0</td>\n      <td>Free</td>\n      <td>0.0</td>\n      <td>Everyone</td>\n      <td>June 20, 2018</td>\n      <td>1.1</td>\n      <td>4.4 and up</td>\n    </tr>\n    <tr>\n      <th>...</th>\n      <td>...</td>\n      <td>...</td>\n      <td>...</td>\n      <td>...</td>\n      <td>...</td>\n      <td>...</td>\n      <td>...</td>\n      <td>...</td>\n      <td>...</td>\n      <td>...</td>\n      <td>...</td>\n      <td>...</td>\n    </tr>\n    <tr>\n      <th>7347</th>\n      <td>Chemin (fr)</td>\n      <td>BOOKS_AND_REFERENCE</td>\n      <td>4.8</td>\n      <td>44</td>\n      <td>0.604492</td>\n      <td>1000.0</td>\n      <td>Free</td>\n      <td>0.0</td>\n      <td>Everyone</td>\n      <td>March 23, 2014</td>\n      <td>0.8</td>\n      <td>2.2 and up</td>\n    </tr>\n    <tr>\n      <th>7348</th>\n      <td>FR Calculator</td>\n      <td>FAMILY</td>\n      <td>4.0</td>\n      <td>7</td>\n      <td>2.600000</td>\n      <td>500.0</td>\n      <td>Free</td>\n      <td>0.0</td>\n      <td>Everyone</td>\n      <td>June 18, 2017</td>\n      <td>1.0.0</td>\n      <td>4.1 and up</td>\n    </tr>\n    <tr>\n      <th>7349</th>\n      <td>Sya9a Maroc - FR</td>\n      <td>FAMILY</td>\n      <td>4.5</td>\n      <td>38</td>\n      <td>53.000000</td>\n      <td>5000.0</td>\n      <td>Free</td>\n      <td>0.0</td>\n      <td>Everyone</td>\n      <td>July 25, 2017</td>\n      <td>1.48</td>\n      <td>4.1 and up</td>\n    </tr>\n    <tr>\n      <th>7350</th>\n      <td>Fr. Mike Schmitz Audio Teachings</td>\n      <td>FAMILY</td>\n      <td>5.0</td>\n      <td>4</td>\n      <td>3.600000</td>\n      <td>100.0</td>\n      <td>Free</td>\n      <td>0.0</td>\n      <td>Everyone</td>\n      <td>July 6, 2018</td>\n      <td>1.0</td>\n      <td>4.1 and up</td>\n    </tr>\n    <tr>\n      <th>7351</th>\n      <td>iHoroscope - 2018 Daily Horoscope &amp; Astrology</td>\n      <td>LIFESTYLE</td>\n      <td>4.5</td>\n      <td>398307</td>\n      <td>19.000000</td>\n      <td>10000000.0</td>\n      <td>Free</td>\n      <td>0.0</td>\n      <td>Everyone</td>\n      <td>July 25, 2018</td>\n      <td>Varies with device</td>\n      <td>Varies with device</td>\n    </tr>\n  </tbody>\n</table>\n<p>7352 rows × 12 columns</p>\n</div>"
     },
     "execution_count": 15,
     "metadata": {},
     "output_type": "execute_result"
    }
   ],
   "source": [
    "df1"
   ],
   "metadata": {
    "collapsed": false,
    "ExecuteTime": {
     "end_time": "2024-02-18T05:24:25.200223600Z",
     "start_time": "2024-02-18T05:24:25.186344900Z"
    }
   },
   "id": "6595b3a7e1f34be4",
   "execution_count": 15
  },
  {
   "cell_type": "code",
   "outputs": [
    {
     "data": {
      "text/plain": "                                                   App             Category  \\\n0       Photo Editor & Candy Camera & Grid & ScrapBook       ART_AND_DESIGN   \n1                                  Coloring book moana       ART_AND_DESIGN   \n2    U Launcher Lite – FREE Live Cool Themes, Hide ...       ART_AND_DESIGN   \n3                                Sketch - Draw & Paint       ART_AND_DESIGN   \n4                Pixel Draw - Number Art Coloring Book       ART_AND_DESIGN   \n5                           Paper flowers instructions       ART_AND_DESIGN   \n12                      Tattoo Name On My Photo Editor       ART_AND_DESIGN   \n21             Superheroes Wallpapers | 4K Backgrounds       ART_AND_DESIGN   \n32                                     I Creative Idea       ART_AND_DESIGN   \n65       Android Auto - Maps, Media, Messaging & Voice    AUTO_AND_VEHICLES   \n69                Police Detector (Speed Camera Radar)    AUTO_AND_VEHICLES   \n97       Selfie Camera Photo Editor & Filter & Sticker               BEAUTY   \n116                 Download free book with green book  BOOKS_AND_REFERENCE   \n144                       English Dictionary - Offline  BOOKS_AND_REFERENCE   \n223                                 Funny Jokes Photos               COMICS   \n\n     Rating  Reviews  Size    Installs  Type  Price Content Rating  \\\n0       4.1      159  19.0     10000.0  Free    0.0       Everyone   \n1       3.9      967  14.0    500000.0  Free    0.0       Everyone   \n2       4.7    87510   8.7   5000000.0  Free    0.0       Everyone   \n3       4.5   215644  25.0  50000000.0  Free    0.0           Teen   \n4       4.3      967   2.8    100000.0  Free    0.0       Everyone   \n5       4.4      167   5.6     50000.0  Free    0.0       Everyone   \n12      4.2    44829  20.0  10000000.0  Free    0.0           Teen   \n21      4.7     7699   4.2    500000.0  Free    0.0   Everyone 10+   \n32      4.7      353   4.2     10000.0  Free    0.0           Teen   \n65      4.2   271920  16.0  10000000.0  Free    0.0           Teen   \n69      4.3     3574   3.9   1000000.0  Free    0.0   Everyone 10+   \n97      4.1      187  30.0     50000.0  Free    0.0           Teen   \n116     4.6     4478   9.5    100000.0  Free    0.0   Everyone 10+   \n144     4.4   341157  30.0  10000000.0  Free    0.0   Everyone 10+   \n223     4.4       39   4.3     10000.0  Free    0.0   Everyone 10+   \n\n         Last Updated         Current Ver   Android Ver  \n0     January 7, 2018               1.0.0  4.0.3 and up  \n1    January 15, 2018               2.0.0  4.0.3 and up  \n2      August 1, 2018               1.2.4  4.0.3 and up  \n3        June 8, 2018  Varies with device    4.2 and up  \n4       June 20, 2018                 1.1    4.4 and up  \n5      March 26, 2017                 1.0    2.3 and up  \n12      April 2, 2018                 3.8    4.1 and up  \n21      July 12, 2018             2.2.6.2  4.0.3 and up  \n32     April 27, 2018                 1.6    4.1 and up  \n65      July 11, 2018  Varies with device    5.0 and up  \n69       July 4, 2018                 1.6    4.0 and up  \n97      July 24, 2018               3.0.1  4.0.3 and up  \n116     July 31, 2017                 1.1    4.0 and up  \n144    March 20, 2018               3.9.1    4.2 and up  \n223      July 3, 2018                 1.1    4.2 and up  ",
      "text/html": "<div>\n<style scoped>\n    .dataframe tbody tr th:only-of-type {\n        vertical-align: middle;\n    }\n\n    .dataframe tbody tr th {\n        vertical-align: top;\n    }\n\n    .dataframe thead th {\n        text-align: right;\n    }\n</style>\n<table border=\"1\" class=\"dataframe\">\n  <thead>\n    <tr style=\"text-align: right;\">\n      <th></th>\n      <th>App</th>\n      <th>Category</th>\n      <th>Rating</th>\n      <th>Reviews</th>\n      <th>Size</th>\n      <th>Installs</th>\n      <th>Type</th>\n      <th>Price</th>\n      <th>Content Rating</th>\n      <th>Last Updated</th>\n      <th>Current Ver</th>\n      <th>Android Ver</th>\n    </tr>\n  </thead>\n  <tbody>\n    <tr>\n      <th>0</th>\n      <td>Photo Editor &amp; Candy Camera &amp; Grid &amp; ScrapBook</td>\n      <td>ART_AND_DESIGN</td>\n      <td>4.1</td>\n      <td>159</td>\n      <td>19.0</td>\n      <td>10000.0</td>\n      <td>Free</td>\n      <td>0.0</td>\n      <td>Everyone</td>\n      <td>January 7, 2018</td>\n      <td>1.0.0</td>\n      <td>4.0.3 and up</td>\n    </tr>\n    <tr>\n      <th>1</th>\n      <td>Coloring book moana</td>\n      <td>ART_AND_DESIGN</td>\n      <td>3.9</td>\n      <td>967</td>\n      <td>14.0</td>\n      <td>500000.0</td>\n      <td>Free</td>\n      <td>0.0</td>\n      <td>Everyone</td>\n      <td>January 15, 2018</td>\n      <td>2.0.0</td>\n      <td>4.0.3 and up</td>\n    </tr>\n    <tr>\n      <th>2</th>\n      <td>U Launcher Lite – FREE Live Cool Themes, Hide ...</td>\n      <td>ART_AND_DESIGN</td>\n      <td>4.7</td>\n      <td>87510</td>\n      <td>8.7</td>\n      <td>5000000.0</td>\n      <td>Free</td>\n      <td>0.0</td>\n      <td>Everyone</td>\n      <td>August 1, 2018</td>\n      <td>1.2.4</td>\n      <td>4.0.3 and up</td>\n    </tr>\n    <tr>\n      <th>3</th>\n      <td>Sketch - Draw &amp; Paint</td>\n      <td>ART_AND_DESIGN</td>\n      <td>4.5</td>\n      <td>215644</td>\n      <td>25.0</td>\n      <td>50000000.0</td>\n      <td>Free</td>\n      <td>0.0</td>\n      <td>Teen</td>\n      <td>June 8, 2018</td>\n      <td>Varies with device</td>\n      <td>4.2 and up</td>\n    </tr>\n    <tr>\n      <th>4</th>\n      <td>Pixel Draw - Number Art Coloring Book</td>\n      <td>ART_AND_DESIGN</td>\n      <td>4.3</td>\n      <td>967</td>\n      <td>2.8</td>\n      <td>100000.0</td>\n      <td>Free</td>\n      <td>0.0</td>\n      <td>Everyone</td>\n      <td>June 20, 2018</td>\n      <td>1.1</td>\n      <td>4.4 and up</td>\n    </tr>\n    <tr>\n      <th>5</th>\n      <td>Paper flowers instructions</td>\n      <td>ART_AND_DESIGN</td>\n      <td>4.4</td>\n      <td>167</td>\n      <td>5.6</td>\n      <td>50000.0</td>\n      <td>Free</td>\n      <td>0.0</td>\n      <td>Everyone</td>\n      <td>March 26, 2017</td>\n      <td>1.0</td>\n      <td>2.3 and up</td>\n    </tr>\n    <tr>\n      <th>12</th>\n      <td>Tattoo Name On My Photo Editor</td>\n      <td>ART_AND_DESIGN</td>\n      <td>4.2</td>\n      <td>44829</td>\n      <td>20.0</td>\n      <td>10000000.0</td>\n      <td>Free</td>\n      <td>0.0</td>\n      <td>Teen</td>\n      <td>April 2, 2018</td>\n      <td>3.8</td>\n      <td>4.1 and up</td>\n    </tr>\n    <tr>\n      <th>21</th>\n      <td>Superheroes Wallpapers | 4K Backgrounds</td>\n      <td>ART_AND_DESIGN</td>\n      <td>4.7</td>\n      <td>7699</td>\n      <td>4.2</td>\n      <td>500000.0</td>\n      <td>Free</td>\n      <td>0.0</td>\n      <td>Everyone 10+</td>\n      <td>July 12, 2018</td>\n      <td>2.2.6.2</td>\n      <td>4.0.3 and up</td>\n    </tr>\n    <tr>\n      <th>32</th>\n      <td>I Creative Idea</td>\n      <td>ART_AND_DESIGN</td>\n      <td>4.7</td>\n      <td>353</td>\n      <td>4.2</td>\n      <td>10000.0</td>\n      <td>Free</td>\n      <td>0.0</td>\n      <td>Teen</td>\n      <td>April 27, 2018</td>\n      <td>1.6</td>\n      <td>4.1 and up</td>\n    </tr>\n    <tr>\n      <th>65</th>\n      <td>Android Auto - Maps, Media, Messaging &amp; Voice</td>\n      <td>AUTO_AND_VEHICLES</td>\n      <td>4.2</td>\n      <td>271920</td>\n      <td>16.0</td>\n      <td>10000000.0</td>\n      <td>Free</td>\n      <td>0.0</td>\n      <td>Teen</td>\n      <td>July 11, 2018</td>\n      <td>Varies with device</td>\n      <td>5.0 and up</td>\n    </tr>\n    <tr>\n      <th>69</th>\n      <td>Police Detector (Speed Camera Radar)</td>\n      <td>AUTO_AND_VEHICLES</td>\n      <td>4.3</td>\n      <td>3574</td>\n      <td>3.9</td>\n      <td>1000000.0</td>\n      <td>Free</td>\n      <td>0.0</td>\n      <td>Everyone 10+</td>\n      <td>July 4, 2018</td>\n      <td>1.6</td>\n      <td>4.0 and up</td>\n    </tr>\n    <tr>\n      <th>97</th>\n      <td>Selfie Camera Photo Editor &amp; Filter &amp; Sticker</td>\n      <td>BEAUTY</td>\n      <td>4.1</td>\n      <td>187</td>\n      <td>30.0</td>\n      <td>50000.0</td>\n      <td>Free</td>\n      <td>0.0</td>\n      <td>Teen</td>\n      <td>July 24, 2018</td>\n      <td>3.0.1</td>\n      <td>4.0.3 and up</td>\n    </tr>\n    <tr>\n      <th>116</th>\n      <td>Download free book with green book</td>\n      <td>BOOKS_AND_REFERENCE</td>\n      <td>4.6</td>\n      <td>4478</td>\n      <td>9.5</td>\n      <td>100000.0</td>\n      <td>Free</td>\n      <td>0.0</td>\n      <td>Everyone 10+</td>\n      <td>July 31, 2017</td>\n      <td>1.1</td>\n      <td>4.0 and up</td>\n    </tr>\n    <tr>\n      <th>144</th>\n      <td>English Dictionary - Offline</td>\n      <td>BOOKS_AND_REFERENCE</td>\n      <td>4.4</td>\n      <td>341157</td>\n      <td>30.0</td>\n      <td>10000000.0</td>\n      <td>Free</td>\n      <td>0.0</td>\n      <td>Everyone 10+</td>\n      <td>March 20, 2018</td>\n      <td>3.9.1</td>\n      <td>4.2 and up</td>\n    </tr>\n    <tr>\n      <th>223</th>\n      <td>Funny Jokes Photos</td>\n      <td>COMICS</td>\n      <td>4.4</td>\n      <td>39</td>\n      <td>4.3</td>\n      <td>10000.0</td>\n      <td>Free</td>\n      <td>0.0</td>\n      <td>Everyone 10+</td>\n      <td>July 3, 2018</td>\n      <td>1.1</td>\n      <td>4.2 and up</td>\n    </tr>\n  </tbody>\n</table>\n</div>"
     },
     "execution_count": 31,
     "metadata": {},
     "output_type": "execute_result"
    }
   ],
   "source": [
    "df1.groupby(by=['Content Rating']).head()"
   ],
   "metadata": {
    "collapsed": false,
    "ExecuteTime": {
     "end_time": "2024-02-18T05:41:28.674972Z",
     "start_time": "2024-02-18T05:41:28.612904400Z"
    }
   },
   "id": "f882014b00f4f9d5",
   "execution_count": 31
  },
  {
   "cell_type": "code",
   "outputs": [
    {
     "data": {
      "text/plain": "                                                    App  Category  Rating  \\\n145                                ADP Mobile Solutions  BUSINESS     4.3   \n146              OfficeSuite : Free Office + PDF Editor  BUSINESS     4.3   \n147                                        USPS MOBILE®  BUSINESS     3.9   \n148                          Job Search by ZipRecruiter  BUSINESS     4.8   \n149   Curriculum vitae App CV Builder Free Resume Maker  BUSINESS     4.5   \n...                                                 ...       ...     ...   \n7220                              Employ Florida Mobile  BUSINESS     2.9   \n7242                                                 FN  BUSINESS     5.0   \n7265  Neon Blue Gaming Wallpaper&Theme fo Lenovo K8 ...  BUSINESS     4.6   \n7296                                     SCM FPS Status  BUSINESS     4.2   \n7335                                  Fr Lupupa Sermons  BUSINESS     4.8   \n\n      Reviews  Size     Installs  Type  Price Content Rating  \\\n145     85185  29.0    5000000.0  Free    0.0       Everyone   \n146   1002861  35.0  100000000.0  Free    0.0       Everyone   \n147     16589   9.1    1000000.0  Free    0.0       Everyone   \n148    148945  25.0    1000000.0  Free    0.0       Everyone   \n149      4458   3.9     500000.0  Free    0.0       Everyone   \n...       ...   ...          ...   ...    ...            ...   \n7220       97   9.9      10000.0  Free    0.0       Everyone   \n7242       14   3.3         50.0  Free    0.0       Everyone   \n7265        7   2.0        500.0  Free    0.0       Everyone   \n7296      123   3.3      10000.0  Free    0.0       Everyone   \n7335       19  21.0        100.0  Free    0.0       Everyone   \n\n          Last Updated Current Ver   Android Ver  \n145      July 17, 2018       3.4.2    5.0 and up  \n146     August 2, 2018   9.7.14188    4.1 and up  \n147      June 14, 2018      4.9.10  4.0.3 and up  \n148      July 19, 2018       5.2.8    5.0 and up  \n149       July 8, 2018         3.3    4.1 and up  \n...                ...         ...           ...  \n7220     June 13, 2018       4.5.9  4.0.3 and up  \n7242  February 1, 2018         1.0    4.0 and up  \n7265   August 24, 2017       1.0.0  2.3.3 and up  \n7296    April 28, 2018         3.5    2.3 and up  \n7335     June 12, 2018         1.0    4.4 and up  \n\n[246 rows x 12 columns]",
      "text/html": "<div>\n<style scoped>\n    .dataframe tbody tr th:only-of-type {\n        vertical-align: middle;\n    }\n\n    .dataframe tbody tr th {\n        vertical-align: top;\n    }\n\n    .dataframe thead th {\n        text-align: right;\n    }\n</style>\n<table border=\"1\" class=\"dataframe\">\n  <thead>\n    <tr style=\"text-align: right;\">\n      <th></th>\n      <th>App</th>\n      <th>Category</th>\n      <th>Rating</th>\n      <th>Reviews</th>\n      <th>Size</th>\n      <th>Installs</th>\n      <th>Type</th>\n      <th>Price</th>\n      <th>Content Rating</th>\n      <th>Last Updated</th>\n      <th>Current Ver</th>\n      <th>Android Ver</th>\n    </tr>\n  </thead>\n  <tbody>\n    <tr>\n      <th>145</th>\n      <td>ADP Mobile Solutions</td>\n      <td>BUSINESS</td>\n      <td>4.3</td>\n      <td>85185</td>\n      <td>29.0</td>\n      <td>5000000.0</td>\n      <td>Free</td>\n      <td>0.0</td>\n      <td>Everyone</td>\n      <td>July 17, 2018</td>\n      <td>3.4.2</td>\n      <td>5.0 and up</td>\n    </tr>\n    <tr>\n      <th>146</th>\n      <td>OfficeSuite : Free Office + PDF Editor</td>\n      <td>BUSINESS</td>\n      <td>4.3</td>\n      <td>1002861</td>\n      <td>35.0</td>\n      <td>100000000.0</td>\n      <td>Free</td>\n      <td>0.0</td>\n      <td>Everyone</td>\n      <td>August 2, 2018</td>\n      <td>9.7.14188</td>\n      <td>4.1 and up</td>\n    </tr>\n    <tr>\n      <th>147</th>\n      <td>USPS MOBILE®</td>\n      <td>BUSINESS</td>\n      <td>3.9</td>\n      <td>16589</td>\n      <td>9.1</td>\n      <td>1000000.0</td>\n      <td>Free</td>\n      <td>0.0</td>\n      <td>Everyone</td>\n      <td>June 14, 2018</td>\n      <td>4.9.10</td>\n      <td>4.0.3 and up</td>\n    </tr>\n    <tr>\n      <th>148</th>\n      <td>Job Search by ZipRecruiter</td>\n      <td>BUSINESS</td>\n      <td>4.8</td>\n      <td>148945</td>\n      <td>25.0</td>\n      <td>1000000.0</td>\n      <td>Free</td>\n      <td>0.0</td>\n      <td>Everyone</td>\n      <td>July 19, 2018</td>\n      <td>5.2.8</td>\n      <td>5.0 and up</td>\n    </tr>\n    <tr>\n      <th>149</th>\n      <td>Curriculum vitae App CV Builder Free Resume Maker</td>\n      <td>BUSINESS</td>\n      <td>4.5</td>\n      <td>4458</td>\n      <td>3.9</td>\n      <td>500000.0</td>\n      <td>Free</td>\n      <td>0.0</td>\n      <td>Everyone</td>\n      <td>July 8, 2018</td>\n      <td>3.3</td>\n      <td>4.1 and up</td>\n    </tr>\n    <tr>\n      <th>...</th>\n      <td>...</td>\n      <td>...</td>\n      <td>...</td>\n      <td>...</td>\n      <td>...</td>\n      <td>...</td>\n      <td>...</td>\n      <td>...</td>\n      <td>...</td>\n      <td>...</td>\n      <td>...</td>\n      <td>...</td>\n    </tr>\n    <tr>\n      <th>7220</th>\n      <td>Employ Florida Mobile</td>\n      <td>BUSINESS</td>\n      <td>2.9</td>\n      <td>97</td>\n      <td>9.9</td>\n      <td>10000.0</td>\n      <td>Free</td>\n      <td>0.0</td>\n      <td>Everyone</td>\n      <td>June 13, 2018</td>\n      <td>4.5.9</td>\n      <td>4.0.3 and up</td>\n    </tr>\n    <tr>\n      <th>7242</th>\n      <td>FN</td>\n      <td>BUSINESS</td>\n      <td>5.0</td>\n      <td>14</td>\n      <td>3.3</td>\n      <td>50.0</td>\n      <td>Free</td>\n      <td>0.0</td>\n      <td>Everyone</td>\n      <td>February 1, 2018</td>\n      <td>1.0</td>\n      <td>4.0 and up</td>\n    </tr>\n    <tr>\n      <th>7265</th>\n      <td>Neon Blue Gaming Wallpaper&amp;Theme fo Lenovo K8 ...</td>\n      <td>BUSINESS</td>\n      <td>4.6</td>\n      <td>7</td>\n      <td>2.0</td>\n      <td>500.0</td>\n      <td>Free</td>\n      <td>0.0</td>\n      <td>Everyone</td>\n      <td>August 24, 2017</td>\n      <td>1.0.0</td>\n      <td>2.3.3 and up</td>\n    </tr>\n    <tr>\n      <th>7296</th>\n      <td>SCM FPS Status</td>\n      <td>BUSINESS</td>\n      <td>4.2</td>\n      <td>123</td>\n      <td>3.3</td>\n      <td>10000.0</td>\n      <td>Free</td>\n      <td>0.0</td>\n      <td>Everyone</td>\n      <td>April 28, 2018</td>\n      <td>3.5</td>\n      <td>2.3 and up</td>\n    </tr>\n    <tr>\n      <th>7335</th>\n      <td>Fr Lupupa Sermons</td>\n      <td>BUSINESS</td>\n      <td>4.8</td>\n      <td>19</td>\n      <td>21.0</td>\n      <td>100.0</td>\n      <td>Free</td>\n      <td>0.0</td>\n      <td>Everyone</td>\n      <td>June 12, 2018</td>\n      <td>1.0</td>\n      <td>4.4 and up</td>\n    </tr>\n  </tbody>\n</table>\n<p>246 rows × 12 columns</p>\n</div>"
     },
     "execution_count": 32,
     "metadata": {},
     "output_type": "execute_result"
    }
   ],
   "source": [
    "df1[df1['Category'] == 'BUSINESS']"
   ],
   "metadata": {
    "collapsed": false,
    "ExecuteTime": {
     "end_time": "2024-02-18T05:44:32.274833400Z",
     "start_time": "2024-02-18T05:44:32.248126200Z"
    }
   },
   "id": "b87398660698e92f",
   "execution_count": 32
  },
  {
   "cell_type": "markdown",
   "source": [
    "Найди ответы на вопросы:\n",
    "1. Чему равен средний рейтинг ('Rating') платных ('Paid') приложений? Ответ запиши с точностью до сотых.\n",
    "2. На сколько средний рейтинг ('Rating') бесплатных ('Free') приложений меньше среднего рейтинга платных ('Paid')? Ответ запиши с точностью до сотых."
   ],
   "metadata": {
    "collapsed": false
   },
   "id": "7a6aa07ac018c4b5"
  },
  {
   "cell_type": "code",
   "outputs": [],
   "source": [
    "r1 = round(df1[df1['Type'] == 'Paid']['Rating'].mean(), 2)"
   ],
   "metadata": {
    "collapsed": false,
    "ExecuteTime": {
     "end_time": "2024-02-18T05:56:18.149068600Z",
     "start_time": "2024-02-18T05:56:18.143298100Z"
    }
   },
   "id": "1aa3141c37381b92",
   "execution_count": 41
  },
  {
   "cell_type": "code",
   "outputs": [],
   "source": [
    "r2 = round(df1[df1['Type'] == 'Free']['Rating'].mean(), 2)"
   ],
   "metadata": {
    "collapsed": false,
    "ExecuteTime": {
     "end_time": "2024-02-18T05:56:20.155296600Z",
     "start_time": "2024-02-18T05:56:20.148859200Z"
    }
   },
   "id": "bd3bf67758bce6d",
   "execution_count": 42
  },
  {
   "cell_type": "code",
   "outputs": [
    {
     "data": {
      "text/plain": "0.08"
     },
     "execution_count": 45,
     "metadata": {},
     "output_type": "execute_result"
    }
   ],
   "source": [
    "round(abs(r2 - r1), 2)"
   ],
   "metadata": {
    "collapsed": false,
    "ExecuteTime": {
     "end_time": "2024-02-18T05:56:59.683697300Z",
     "start_time": "2024-02-18T05:56:59.668482400Z"
    }
   },
   "id": "8e533aa31d78ef08",
   "execution_count": 45
  },
  {
   "cell_type": "markdown",
   "source": [
    "Чему равен минимальный и максимальный размер ('Size') приложений в категории ('Category') 'COMICS'?\n",
    "Запиши ответы с точностью до сотых."
   ],
   "metadata": {
    "collapsed": false
   },
   "id": "d528193c2845a461"
  },
  {
   "cell_type": "code",
   "outputs": [
    {
     "data": {
      "text/plain": "min     0.433594\nmax    40.000000\nName: Size, dtype: float64"
     },
     "execution_count": 51,
     "metadata": {},
     "output_type": "execute_result"
    }
   ],
   "source": [
    "df1[df1['Category'] == 'COMICS']['Size'].agg(['min','max'])"
   ],
   "metadata": {
    "collapsed": false,
    "ExecuteTime": {
     "end_time": "2024-02-18T06:03:19.335962900Z",
     "start_time": "2024-02-18T06:03:19.314083500Z"
    }
   },
   "id": "d51bf0bc2158bcef",
   "execution_count": 51
  },
  {
   "cell_type": "code",
   "outputs": [
    {
     "data": {
      "text/plain": "          Rating        Reviews       Size      Installs  Price\ncount  42.000000      42.000000  42.000000  4.200000e+01   42.0\nmean    4.185714   13664.357143  13.560198  3.744310e+05    0.0\nstd     0.569797   39875.748473  11.659033  8.258445e+05    0.0\nmin     2.800000       5.000000   0.433594  1.000000e+02    0.0\n25%     3.825000     155.500000   4.700000  1.000000e+04    0.0\n50%     4.400000     881.500000  10.000000  7.500000e+04    0.0\n75%     4.600000    5036.750000  18.750000  5.000000e+05    0.0\nmax     5.000000  238970.000000  40.000000  5.000000e+06    0.0",
      "text/html": "<div>\n<style scoped>\n    .dataframe tbody tr th:only-of-type {\n        vertical-align: middle;\n    }\n\n    .dataframe tbody tr th {\n        vertical-align: top;\n    }\n\n    .dataframe thead th {\n        text-align: right;\n    }\n</style>\n<table border=\"1\" class=\"dataframe\">\n  <thead>\n    <tr style=\"text-align: right;\">\n      <th></th>\n      <th>Rating</th>\n      <th>Reviews</th>\n      <th>Size</th>\n      <th>Installs</th>\n      <th>Price</th>\n    </tr>\n  </thead>\n  <tbody>\n    <tr>\n      <th>count</th>\n      <td>42.000000</td>\n      <td>42.000000</td>\n      <td>42.000000</td>\n      <td>4.200000e+01</td>\n      <td>42.0</td>\n    </tr>\n    <tr>\n      <th>mean</th>\n      <td>4.185714</td>\n      <td>13664.357143</td>\n      <td>13.560198</td>\n      <td>3.744310e+05</td>\n      <td>0.0</td>\n    </tr>\n    <tr>\n      <th>std</th>\n      <td>0.569797</td>\n      <td>39875.748473</td>\n      <td>11.659033</td>\n      <td>8.258445e+05</td>\n      <td>0.0</td>\n    </tr>\n    <tr>\n      <th>min</th>\n      <td>2.800000</td>\n      <td>5.000000</td>\n      <td>0.433594</td>\n      <td>1.000000e+02</td>\n      <td>0.0</td>\n    </tr>\n    <tr>\n      <th>25%</th>\n      <td>3.825000</td>\n      <td>155.500000</td>\n      <td>4.700000</td>\n      <td>1.000000e+04</td>\n      <td>0.0</td>\n    </tr>\n    <tr>\n      <th>50%</th>\n      <td>4.400000</td>\n      <td>881.500000</td>\n      <td>10.000000</td>\n      <td>7.500000e+04</td>\n      <td>0.0</td>\n    </tr>\n    <tr>\n      <th>75%</th>\n      <td>4.600000</td>\n      <td>5036.750000</td>\n      <td>18.750000</td>\n      <td>5.000000e+05</td>\n      <td>0.0</td>\n    </tr>\n    <tr>\n      <th>max</th>\n      <td>5.000000</td>\n      <td>238970.000000</td>\n      <td>40.000000</td>\n      <td>5.000000e+06</td>\n      <td>0.0</td>\n    </tr>\n  </tbody>\n</table>\n</div>"
     },
     "execution_count": 52,
     "metadata": {},
     "output_type": "execute_result"
    }
   ],
   "source": [
    "df1[df1['Category'] == 'COMICS'].describe()"
   ],
   "metadata": {
    "collapsed": false,
    "ExecuteTime": {
     "end_time": "2024-02-18T06:03:46.944978Z",
     "start_time": "2024-02-18T06:03:46.927936300Z"
    }
   },
   "id": "f0ccdfb4b0c8fa2f",
   "execution_count": 52
  },
  {
   "cell_type": "markdown",
   "source": [
    "Найди ответы на вопросы:\n",
    "1. Сколько приложений с рейтингом ('Rating') строго больше 4.5 в категории ('Category') 'FINANCE'?\n",
    "2. Чему равно соотношение бесплатных ('Free') и платных ('Paid') игр с рейтингом ('Rating') больше 4.9?"
   ],
   "metadata": {
    "collapsed": false
   },
   "id": "822f30df4a8cea79"
  },
  {
   "cell_type": "code",
   "outputs": [
    {
     "data": {
      "text/plain": "64"
     },
     "execution_count": 61,
     "metadata": {},
     "output_type": "execute_result"
    }
   ],
   "source": [
    "len(df1[(df1['Category'] == 'FINANCE') & (df1['Rating'] > 4.5)])"
   ],
   "metadata": {
    "collapsed": false,
    "ExecuteTime": {
     "end_time": "2024-02-18T06:14:16.099700300Z",
     "start_time": "2024-02-18T06:14:16.083842500Z"
    }
   },
   "id": "2070b3d22e52acdf",
   "execution_count": 61
  },
  {
   "cell_type": "code",
   "outputs": [
    {
     "data": {
      "text/plain": "8.555555555555555"
     },
     "execution_count": 64,
     "metadata": {},
     "output_type": "execute_result"
    }
   ],
   "source": [
    "d1 = len(df1[(df1['Type'] == 'Free') & (df1['Rating'] > 4.9)])\n",
    "d2 = len(df1[(df1['Type'] == 'Paid') & (df1['Rating'] > 4.9)])\n",
    "d1 / d2"
   ],
   "metadata": {
    "collapsed": false,
    "ExecuteTime": {
     "end_time": "2024-02-18T06:22:58.280641400Z",
     "start_time": "2024-02-18T06:22:58.264752800Z"
    }
   },
   "id": "2a5b517ebb957791",
   "execution_count": 64
  },
  {
   "cell_type": "markdown",
   "source": [
    "group by"
   ],
   "metadata": {
    "collapsed": false
   },
   "id": "20de33ffd876903f"
  },
  {
   "cell_type": "code",
   "outputs": [
    {
     "data": {
      "text/plain": "                       max       min       mean\nType Content Rating                            \nFree Everyone        100.0  0.008301  20.581159\n     Everyone 10+    100.0  0.027344  42.119887\n     Teen            100.0  0.315430  32.790917\nPaid Everyone        100.0  0.013672  18.259824\n     Everyone 10+    100.0  1.800000  27.423333\n     Teen             99.0  1.200000  37.743182",
      "text/html": "<div>\n<style scoped>\n    .dataframe tbody tr th:only-of-type {\n        vertical-align: middle;\n    }\n\n    .dataframe tbody tr th {\n        vertical-align: top;\n    }\n\n    .dataframe thead th {\n        text-align: right;\n    }\n</style>\n<table border=\"1\" class=\"dataframe\">\n  <thead>\n    <tr style=\"text-align: right;\">\n      <th></th>\n      <th></th>\n      <th>max</th>\n      <th>min</th>\n      <th>mean</th>\n    </tr>\n    <tr>\n      <th>Type</th>\n      <th>Content Rating</th>\n      <th></th>\n      <th></th>\n      <th></th>\n    </tr>\n  </thead>\n  <tbody>\n    <tr>\n      <th rowspan=\"3\" valign=\"top\">Free</th>\n      <th>Everyone</th>\n      <td>100.0</td>\n      <td>0.008301</td>\n      <td>20.581159</td>\n    </tr>\n    <tr>\n      <th>Everyone 10+</th>\n      <td>100.0</td>\n      <td>0.027344</td>\n      <td>42.119887</td>\n    </tr>\n    <tr>\n      <th>Teen</th>\n      <td>100.0</td>\n      <td>0.315430</td>\n      <td>32.790917</td>\n    </tr>\n    <tr>\n      <th rowspan=\"3\" valign=\"top\">Paid</th>\n      <th>Everyone</th>\n      <td>100.0</td>\n      <td>0.013672</td>\n      <td>18.259824</td>\n    </tr>\n    <tr>\n      <th>Everyone 10+</th>\n      <td>100.0</td>\n      <td>1.800000</td>\n      <td>27.423333</td>\n    </tr>\n    <tr>\n      <th>Teen</th>\n      <td>99.0</td>\n      <td>1.200000</td>\n      <td>37.743182</td>\n    </tr>\n  </tbody>\n</table>\n</div>"
     },
     "execution_count": 67,
     "metadata": {},
     "output_type": "execute_result"
    }
   ],
   "source": [
    "temp = df1.groupby(by = ['Type','Content Rating'])['Size'].agg(['max', 'min','mean'])\n",
    "temp"
   ],
   "metadata": {
    "collapsed": false,
    "ExecuteTime": {
     "end_time": "2024-02-18T06:41:12.283595500Z",
     "start_time": "2024-02-18T06:41:12.246476400Z"
    }
   },
   "id": "d18cc2ac7455a017",
   "execution_count": 67
  },
  {
   "cell_type": "code",
   "outputs": [
    {
     "data": {
      "text/plain": "27.423333333333336"
     },
     "execution_count": 72,
     "metadata": {},
     "output_type": "execute_result"
    }
   ],
   "source": [
    "temp['mean']['Paid']['Everyone 10+']"
   ],
   "metadata": {
    "collapsed": false,
    "ExecuteTime": {
     "end_time": "2024-02-18T06:42:48.514214200Z",
     "start_time": "2024-02-18T06:42:48.499388Z"
    }
   },
   "id": "1631b3396f9ca270",
   "execution_count": 72
  },
  {
   "cell_type": "markdown",
   "source": [
    "Выведи на экран минимальный, средний и максимальный рейтинг ('Rating') платных и бесплатных приложений ('Type') с точностью до десятых.\n",
    "Используй группировку по одному столбцу."
   ],
   "metadata": {
    "collapsed": false
   },
   "id": "beb7436561a27e75"
  },
  {
   "cell_type": "code",
   "outputs": [
    {
     "data": {
      "text/plain": "      max  mean  max\nType                \nFree  5.0   4.2  5.0\nPaid  5.0   4.2  5.0",
      "text/html": "<div>\n<style scoped>\n    .dataframe tbody tr th:only-of-type {\n        vertical-align: middle;\n    }\n\n    .dataframe tbody tr th {\n        vertical-align: top;\n    }\n\n    .dataframe thead th {\n        text-align: right;\n    }\n</style>\n<table border=\"1\" class=\"dataframe\">\n  <thead>\n    <tr style=\"text-align: right;\">\n      <th></th>\n      <th>max</th>\n      <th>mean</th>\n      <th>max</th>\n    </tr>\n    <tr>\n      <th>Type</th>\n      <th></th>\n      <th></th>\n      <th></th>\n    </tr>\n  </thead>\n  <tbody>\n    <tr>\n      <th>Free</th>\n      <td>5.0</td>\n      <td>4.2</td>\n      <td>5.0</td>\n    </tr>\n    <tr>\n      <th>Paid</th>\n      <td>5.0</td>\n      <td>4.2</td>\n      <td>5.0</td>\n    </tr>\n  </tbody>\n</table>\n</div>"
     },
     "execution_count": 76,
     "metadata": {},
     "output_type": "execute_result"
    }
   ],
   "source": [
    "df1.groupby(by='Type')['Rating'].agg(['max', 'mean', 'max']).round(1)"
   ],
   "metadata": {
    "collapsed": false,
    "ExecuteTime": {
     "end_time": "2024-02-18T06:56:47.395692Z",
     "start_time": "2024-02-18T06:56:47.376932300Z"
    }
   },
   "id": "32d7981927111401",
   "execution_count": 76
  },
  {
   "cell_type": "code",
   "outputs": [],
   "source": [],
   "metadata": {
    "collapsed": false
   },
   "id": "20a64f1bece5d579"
  }
 ],
 "metadata": {
  "kernelspec": {
   "display_name": "Python 3",
   "language": "python",
   "name": "python3"
  },
  "language_info": {
   "codemirror_mode": {
    "name": "ipython",
    "version": 2
   },
   "file_extension": ".py",
   "mimetype": "text/x-python",
   "name": "python",
   "nbconvert_exporter": "python",
   "pygments_lexer": "ipython2",
   "version": "2.7.6"
  }
 },
 "nbformat": 4,
 "nbformat_minor": 5
}
