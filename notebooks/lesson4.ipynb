{
 "cells": [
  {
   "cell_type": "code",
   "execution_count": 3,
   "id": "initial_id",
   "metadata": {
    "collapsed": true,
    "ExecuteTime": {
     "end_time": "2024-03-24T04:58:33.840056Z",
     "start_time": "2024-03-24T04:58:33.822688Z"
    }
   },
   "outputs": [],
   "source": [
    "import pandas as pd\n",
    "import numpy as np\n",
    "\n",
    "df = pd.read_csv('../data/Space_Corrected.csv')"
   ]
  },
  {
   "cell_type": "code",
   "outputs": [
    {
     "data": {
      "text/plain": "      Unnamed: 0.1  Unnamed: 0 Company Name  \\\n4319          4319        4319      US Navy   \n4320          4320        4320         AMBA   \n4321          4321        4321      US Navy   \n4322          4322        4322    RVSN USSR   \n4323          4323        4323    RVSN USSR   \n\n                                       Location                       Datum  \\\n4319   LC-18A, Cape Canaveral AFS, Florida, USA  Wed Feb 05, 1958 07:33 UTC   \n4320   LC-26A, Cape Canaveral AFS, Florida, USA  Sat Feb 01, 1958 03:48 UTC   \n4321   LC-18A, Cape Canaveral AFS, Florida, USA  Fri Dec 06, 1957 16:44 UTC   \n4322  Site 1/5, Baikonur Cosmodrome, Kazakhstan  Sun Nov 03, 1957 02:30 UTC   \n4323  Site 1/5, Baikonur Cosmodrome, Kazakhstan  Fri Oct 04, 1957 19:28 UTC   \n\n                          Detail  Status Rocket  Rocket Status Mission  \n4319   Vanguard | Vanguard TV3BU  StatusRetired     NaN        Failure  \n4320         Juno I | Explorer 1  StatusRetired     NaN        Success  \n4321     Vanguard | Vanguard TV3  StatusRetired     NaN        Failure  \n4322  Sputnik 8K71PS | Sputnik-2  StatusRetired     NaN        Success  \n4323  Sputnik 8K71PS | Sputnik-1  StatusRetired     NaN        Success  ",
      "text/html": "<div>\n<style scoped>\n    .dataframe tbody tr th:only-of-type {\n        vertical-align: middle;\n    }\n\n    .dataframe tbody tr th {\n        vertical-align: top;\n    }\n\n    .dataframe thead th {\n        text-align: right;\n    }\n</style>\n<table border=\"1\" class=\"dataframe\">\n  <thead>\n    <tr style=\"text-align: right;\">\n      <th></th>\n      <th>Unnamed: 0.1</th>\n      <th>Unnamed: 0</th>\n      <th>Company Name</th>\n      <th>Location</th>\n      <th>Datum</th>\n      <th>Detail</th>\n      <th>Status Rocket</th>\n      <th>Rocket</th>\n      <th>Status Mission</th>\n    </tr>\n  </thead>\n  <tbody>\n    <tr>\n      <th>4319</th>\n      <td>4319</td>\n      <td>4319</td>\n      <td>US Navy</td>\n      <td>LC-18A, Cape Canaveral AFS, Florida, USA</td>\n      <td>Wed Feb 05, 1958 07:33 UTC</td>\n      <td>Vanguard | Vanguard TV3BU</td>\n      <td>StatusRetired</td>\n      <td>NaN</td>\n      <td>Failure</td>\n    </tr>\n    <tr>\n      <th>4320</th>\n      <td>4320</td>\n      <td>4320</td>\n      <td>AMBA</td>\n      <td>LC-26A, Cape Canaveral AFS, Florida, USA</td>\n      <td>Sat Feb 01, 1958 03:48 UTC</td>\n      <td>Juno I | Explorer 1</td>\n      <td>StatusRetired</td>\n      <td>NaN</td>\n      <td>Success</td>\n    </tr>\n    <tr>\n      <th>4321</th>\n      <td>4321</td>\n      <td>4321</td>\n      <td>US Navy</td>\n      <td>LC-18A, Cape Canaveral AFS, Florida, USA</td>\n      <td>Fri Dec 06, 1957 16:44 UTC</td>\n      <td>Vanguard | Vanguard TV3</td>\n      <td>StatusRetired</td>\n      <td>NaN</td>\n      <td>Failure</td>\n    </tr>\n    <tr>\n      <th>4322</th>\n      <td>4322</td>\n      <td>4322</td>\n      <td>RVSN USSR</td>\n      <td>Site 1/5, Baikonur Cosmodrome, Kazakhstan</td>\n      <td>Sun Nov 03, 1957 02:30 UTC</td>\n      <td>Sputnik 8K71PS | Sputnik-2</td>\n      <td>StatusRetired</td>\n      <td>NaN</td>\n      <td>Success</td>\n    </tr>\n    <tr>\n      <th>4323</th>\n      <td>4323</td>\n      <td>4323</td>\n      <td>RVSN USSR</td>\n      <td>Site 1/5, Baikonur Cosmodrome, Kazakhstan</td>\n      <td>Fri Oct 04, 1957 19:28 UTC</td>\n      <td>Sputnik 8K71PS | Sputnik-1</td>\n      <td>StatusRetired</td>\n      <td>NaN</td>\n      <td>Success</td>\n    </tr>\n  </tbody>\n</table>\n</div>"
     },
     "execution_count": 6,
     "metadata": {},
     "output_type": "execute_result"
    }
   ],
   "source": [
    "df.tail()"
   ],
   "metadata": {
    "collapsed": false,
    "ExecuteTime": {
     "end_time": "2024-03-24T05:04:35.520851Z",
     "start_time": "2024-03-24T05:04:35.511650Z"
    }
   },
   "id": "3c1957bbde0a0ec5",
   "execution_count": 6
  },
  {
   "cell_type": "code",
   "outputs": [
    {
     "name": "stdout",
     "output_type": "stream",
     "text": [
      "<class 'pandas.core.frame.DataFrame'>\n",
      "RangeIndex: 4324 entries, 0 to 4323\n",
      "Data columns (total 9 columns):\n",
      " #   Column          Non-Null Count  Dtype \n",
      "---  ------          --------------  ----- \n",
      " 0   Unnamed: 0.1    4324 non-null   int64 \n",
      " 1   Unnamed: 0      4324 non-null   int64 \n",
      " 2   Company Name    4324 non-null   object\n",
      " 3   Location        4324 non-null   object\n",
      " 4   Datum           4324 non-null   object\n",
      " 5   Detail          4324 non-null   object\n",
      " 6   Status Rocket   4324 non-null   object\n",
      " 7    Rocket         964 non-null    object\n",
      " 8   Status Mission  4324 non-null   object\n",
      "dtypes: int64(2), object(7)\n",
      "memory usage: 304.2+ KB\n"
     ]
    }
   ],
   "source": [
    "df.info()"
   ],
   "metadata": {
    "collapsed": false,
    "ExecuteTime": {
     "end_time": "2024-03-24T04:58:48.063040Z",
     "start_time": "2024-03-24T04:58:48.053984Z"
    }
   },
   "id": "fa2e062fc698c6fc",
   "execution_count": 5
  },
  {
   "cell_type": "code",
   "outputs": [],
   "source": [
    "df = df.drop(axis=0, columns=['Unnamed: 0', 'Unnamed: 0.1'])"
   ],
   "metadata": {
    "collapsed": false,
    "ExecuteTime": {
     "end_time": "2024-03-24T05:09:54.877417Z",
     "start_time": "2024-03-24T05:09:54.872454Z"
    }
   },
   "id": "7464afeafb89319a",
   "execution_count": 11
  },
  {
   "cell_type": "code",
   "outputs": [
    {
     "data": {
      "text/plain": "     Company Name                                           Location  \\\n0          SpaceX         LC-39A, Kennedy Space Center, Florida, USA   \n1            CASC  Site 9401 (SLS-2), Jiuquan Satellite Launch Ce...   \n2          SpaceX                      Pad A, Boca Chica, Texas, USA   \n3       Roscosmos       Site 200/39, Baikonur Cosmodrome, Kazakhstan   \n4             ULA           SLC-41, Cape Canaveral AFS, Florida, USA   \n...           ...                                                ...   \n4319      US Navy           LC-18A, Cape Canaveral AFS, Florida, USA   \n4320         AMBA           LC-26A, Cape Canaveral AFS, Florida, USA   \n4321      US Navy           LC-18A, Cape Canaveral AFS, Florida, USA   \n4322    RVSN USSR          Site 1/5, Baikonur Cosmodrome, Kazakhstan   \n4323    RVSN USSR          Site 1/5, Baikonur Cosmodrome, Kazakhstan   \n\n                           Datum  \\\n0     Fri Aug 07, 2020 05:12 UTC   \n1     Thu Aug 06, 2020 04:01 UTC   \n2     Tue Aug 04, 2020 23:57 UTC   \n3     Thu Jul 30, 2020 21:25 UTC   \n4     Thu Jul 30, 2020 11:50 UTC   \n...                          ...   \n4319  Wed Feb 05, 1958 07:33 UTC   \n4320  Sat Feb 01, 1958 03:48 UTC   \n4321  Fri Dec 06, 1957 16:44 UTC   \n4322  Sun Nov 03, 1957 02:30 UTC   \n4323  Fri Oct 04, 1957 19:28 UTC   \n\n                                            Detail  Status Rocket  Rocket  \\\n0     Falcon 9 Block 5 | Starlink V1 L9 & BlackSky   StatusActive   50.0    \n1              Long March 2D | Gaofen-9 04 & Q-SAT   StatusActive  29.75    \n2               Starship Prototype | 150 Meter Hop   StatusActive     NaN   \n3     Proton-M/Briz-M | Ekspress-80 & Ekspress-103   StatusActive   65.0    \n4                       Atlas V 541 | Perseverance   StatusActive  145.0    \n...                                            ...            ...     ...   \n4319                     Vanguard | Vanguard TV3BU  StatusRetired     NaN   \n4320                           Juno I | Explorer 1  StatusRetired     NaN   \n4321                       Vanguard | Vanguard TV3  StatusRetired     NaN   \n4322                    Sputnik 8K71PS | Sputnik-2  StatusRetired     NaN   \n4323                    Sputnik 8K71PS | Sputnik-1  StatusRetired     NaN   \n\n     Status Mission  \n0           Success  \n1           Success  \n2           Success  \n3           Success  \n4           Success  \n...             ...  \n4319        Failure  \n4320        Success  \n4321        Failure  \n4322        Success  \n4323        Success  \n\n[4324 rows x 7 columns]",
      "text/html": "<div>\n<style scoped>\n    .dataframe tbody tr th:only-of-type {\n        vertical-align: middle;\n    }\n\n    .dataframe tbody tr th {\n        vertical-align: top;\n    }\n\n    .dataframe thead th {\n        text-align: right;\n    }\n</style>\n<table border=\"1\" class=\"dataframe\">\n  <thead>\n    <tr style=\"text-align: right;\">\n      <th></th>\n      <th>Company Name</th>\n      <th>Location</th>\n      <th>Datum</th>\n      <th>Detail</th>\n      <th>Status Rocket</th>\n      <th>Rocket</th>\n      <th>Status Mission</th>\n    </tr>\n  </thead>\n  <tbody>\n    <tr>\n      <th>0</th>\n      <td>SpaceX</td>\n      <td>LC-39A, Kennedy Space Center, Florida, USA</td>\n      <td>Fri Aug 07, 2020 05:12 UTC</td>\n      <td>Falcon 9 Block 5 | Starlink V1 L9 &amp; BlackSky</td>\n      <td>StatusActive</td>\n      <td>50.0</td>\n      <td>Success</td>\n    </tr>\n    <tr>\n      <th>1</th>\n      <td>CASC</td>\n      <td>Site 9401 (SLS-2), Jiuquan Satellite Launch Ce...</td>\n      <td>Thu Aug 06, 2020 04:01 UTC</td>\n      <td>Long March 2D | Gaofen-9 04 &amp; Q-SAT</td>\n      <td>StatusActive</td>\n      <td>29.75</td>\n      <td>Success</td>\n    </tr>\n    <tr>\n      <th>2</th>\n      <td>SpaceX</td>\n      <td>Pad A, Boca Chica, Texas, USA</td>\n      <td>Tue Aug 04, 2020 23:57 UTC</td>\n      <td>Starship Prototype | 150 Meter Hop</td>\n      <td>StatusActive</td>\n      <td>NaN</td>\n      <td>Success</td>\n    </tr>\n    <tr>\n      <th>3</th>\n      <td>Roscosmos</td>\n      <td>Site 200/39, Baikonur Cosmodrome, Kazakhstan</td>\n      <td>Thu Jul 30, 2020 21:25 UTC</td>\n      <td>Proton-M/Briz-M | Ekspress-80 &amp; Ekspress-103</td>\n      <td>StatusActive</td>\n      <td>65.0</td>\n      <td>Success</td>\n    </tr>\n    <tr>\n      <th>4</th>\n      <td>ULA</td>\n      <td>SLC-41, Cape Canaveral AFS, Florida, USA</td>\n      <td>Thu Jul 30, 2020 11:50 UTC</td>\n      <td>Atlas V 541 | Perseverance</td>\n      <td>StatusActive</td>\n      <td>145.0</td>\n      <td>Success</td>\n    </tr>\n    <tr>\n      <th>...</th>\n      <td>...</td>\n      <td>...</td>\n      <td>...</td>\n      <td>...</td>\n      <td>...</td>\n      <td>...</td>\n      <td>...</td>\n    </tr>\n    <tr>\n      <th>4319</th>\n      <td>US Navy</td>\n      <td>LC-18A, Cape Canaveral AFS, Florida, USA</td>\n      <td>Wed Feb 05, 1958 07:33 UTC</td>\n      <td>Vanguard | Vanguard TV3BU</td>\n      <td>StatusRetired</td>\n      <td>NaN</td>\n      <td>Failure</td>\n    </tr>\n    <tr>\n      <th>4320</th>\n      <td>AMBA</td>\n      <td>LC-26A, Cape Canaveral AFS, Florida, USA</td>\n      <td>Sat Feb 01, 1958 03:48 UTC</td>\n      <td>Juno I | Explorer 1</td>\n      <td>StatusRetired</td>\n      <td>NaN</td>\n      <td>Success</td>\n    </tr>\n    <tr>\n      <th>4321</th>\n      <td>US Navy</td>\n      <td>LC-18A, Cape Canaveral AFS, Florida, USA</td>\n      <td>Fri Dec 06, 1957 16:44 UTC</td>\n      <td>Vanguard | Vanguard TV3</td>\n      <td>StatusRetired</td>\n      <td>NaN</td>\n      <td>Failure</td>\n    </tr>\n    <tr>\n      <th>4322</th>\n      <td>RVSN USSR</td>\n      <td>Site 1/5, Baikonur Cosmodrome, Kazakhstan</td>\n      <td>Sun Nov 03, 1957 02:30 UTC</td>\n      <td>Sputnik 8K71PS | Sputnik-2</td>\n      <td>StatusRetired</td>\n      <td>NaN</td>\n      <td>Success</td>\n    </tr>\n    <tr>\n      <th>4323</th>\n      <td>RVSN USSR</td>\n      <td>Site 1/5, Baikonur Cosmodrome, Kazakhstan</td>\n      <td>Fri Oct 04, 1957 19:28 UTC</td>\n      <td>Sputnik 8K71PS | Sputnik-1</td>\n      <td>StatusRetired</td>\n      <td>NaN</td>\n      <td>Success</td>\n    </tr>\n  </tbody>\n</table>\n<p>4324 rows × 7 columns</p>\n</div>"
     },
     "execution_count": 12,
     "metadata": {},
     "output_type": "execute_result"
    }
   ],
   "source": [
    "df"
   ],
   "metadata": {
    "collapsed": false,
    "ExecuteTime": {
     "end_time": "2024-03-24T05:09:59.931478Z",
     "start_time": "2024-03-24T05:09:59.921162Z"
    }
   },
   "id": "1d1e9f421090b084",
   "execution_count": 12
  },
  {
   "cell_type": "code",
   "outputs": [],
   "source": [
    "def new_loc(data, num=-1):\n",
    "    data = data.strip().split(',')\n",
    "    return data[num]"
   ],
   "metadata": {
    "collapsed": false,
    "ExecuteTime": {
     "end_time": "2024-03-24T05:23:20.417260Z",
     "start_time": "2024-03-24T05:23:20.413845Z"
    }
   },
   "id": "f0d0e54390a058f3",
   "execution_count": 26
  },
  {
   "cell_type": "code",
   "outputs": [],
   "source": [
    "df['Location Country'] = df['Location'].apply(new_loc)"
   ],
   "metadata": {
    "collapsed": false,
    "ExecuteTime": {
     "end_time": "2024-03-24T05:23:22.416902Z",
     "start_time": "2024-03-24T05:23:22.411564Z"
    }
   },
   "id": "ba98e8408921ed82",
   "execution_count": 27
  },
  {
   "cell_type": "code",
   "outputs": [
    {
     "data": {
      "text/plain": "     Company Name                                           Location  \\\n0          SpaceX         LC-39A, Kennedy Space Center, Florida, USA   \n1            CASC  Site 9401 (SLS-2), Jiuquan Satellite Launch Ce...   \n2          SpaceX                      Pad A, Boca Chica, Texas, USA   \n3       Roscosmos       Site 200/39, Baikonur Cosmodrome, Kazakhstan   \n4             ULA           SLC-41, Cape Canaveral AFS, Florida, USA   \n...           ...                                                ...   \n4319      US Navy           LC-18A, Cape Canaveral AFS, Florida, USA   \n4320         AMBA           LC-26A, Cape Canaveral AFS, Florida, USA   \n4321      US Navy           LC-18A, Cape Canaveral AFS, Florida, USA   \n4322    RVSN USSR          Site 1/5, Baikonur Cosmodrome, Kazakhstan   \n4323    RVSN USSR          Site 1/5, Baikonur Cosmodrome, Kazakhstan   \n\n                           Datum  \\\n0     Fri Aug 07, 2020 05:12 UTC   \n1     Thu Aug 06, 2020 04:01 UTC   \n2     Tue Aug 04, 2020 23:57 UTC   \n3     Thu Jul 30, 2020 21:25 UTC   \n4     Thu Jul 30, 2020 11:50 UTC   \n...                          ...   \n4319  Wed Feb 05, 1958 07:33 UTC   \n4320  Sat Feb 01, 1958 03:48 UTC   \n4321  Fri Dec 06, 1957 16:44 UTC   \n4322  Sun Nov 03, 1957 02:30 UTC   \n4323  Fri Oct 04, 1957 19:28 UTC   \n\n                                            Detail  Status Rocket  Rocket  \\\n0     Falcon 9 Block 5 | Starlink V1 L9 & BlackSky   StatusActive   50.0    \n1              Long March 2D | Gaofen-9 04 & Q-SAT   StatusActive  29.75    \n2               Starship Prototype | 150 Meter Hop   StatusActive     NaN   \n3     Proton-M/Briz-M | Ekspress-80 & Ekspress-103   StatusActive   65.0    \n4                       Atlas V 541 | Perseverance   StatusActive  145.0    \n...                                            ...            ...     ...   \n4319                     Vanguard | Vanguard TV3BU  StatusRetired     NaN   \n4320                           Juno I | Explorer 1  StatusRetired     NaN   \n4321                       Vanguard | Vanguard TV3  StatusRetired     NaN   \n4322                    Sputnik 8K71PS | Sputnik-2  StatusRetired     NaN   \n4323                    Sputnik 8K71PS | Sputnik-1  StatusRetired     NaN   \n\n     Status Mission      Location site                     Location drom  \\\n0           Success             LC-39A              Kennedy Space Center   \n1           Success  Site 9401 (SLS-2)   Jiuquan Satellite Launch Center   \n2           Success              Pad A                        Boca Chica   \n3           Success        Site 200/39               Baikonur Cosmodrome   \n4           Success             SLC-41                Cape Canaveral AFS   \n...             ...                ...                               ...   \n4319        Failure             LC-18A                Cape Canaveral AFS   \n4320        Success             LC-26A                Cape Canaveral AFS   \n4321        Failure             LC-18A                Cape Canaveral AFS   \n4322        Success           Site 1/5               Baikonur Cosmodrome   \n4323        Success           Site 1/5               Baikonur Cosmodrome   \n\n     Location Country  \n0                 USA  \n1               China  \n2                 USA  \n3          Kazakhstan  \n4                 USA  \n...               ...  \n4319              USA  \n4320              USA  \n4321              USA  \n4322       Kazakhstan  \n4323       Kazakhstan  \n\n[4324 rows x 10 columns]",
      "text/html": "<div>\n<style scoped>\n    .dataframe tbody tr th:only-of-type {\n        vertical-align: middle;\n    }\n\n    .dataframe tbody tr th {\n        vertical-align: top;\n    }\n\n    .dataframe thead th {\n        text-align: right;\n    }\n</style>\n<table border=\"1\" class=\"dataframe\">\n  <thead>\n    <tr style=\"text-align: right;\">\n      <th></th>\n      <th>Company Name</th>\n      <th>Location</th>\n      <th>Datum</th>\n      <th>Detail</th>\n      <th>Status Rocket</th>\n      <th>Rocket</th>\n      <th>Status Mission</th>\n      <th>Location site</th>\n      <th>Location drom</th>\n      <th>Location Country</th>\n    </tr>\n  </thead>\n  <tbody>\n    <tr>\n      <th>0</th>\n      <td>SpaceX</td>\n      <td>LC-39A, Kennedy Space Center, Florida, USA</td>\n      <td>Fri Aug 07, 2020 05:12 UTC</td>\n      <td>Falcon 9 Block 5 | Starlink V1 L9 &amp; BlackSky</td>\n      <td>StatusActive</td>\n      <td>50.0</td>\n      <td>Success</td>\n      <td>LC-39A</td>\n      <td>Kennedy Space Center</td>\n      <td>USA</td>\n    </tr>\n    <tr>\n      <th>1</th>\n      <td>CASC</td>\n      <td>Site 9401 (SLS-2), Jiuquan Satellite Launch Ce...</td>\n      <td>Thu Aug 06, 2020 04:01 UTC</td>\n      <td>Long March 2D | Gaofen-9 04 &amp; Q-SAT</td>\n      <td>StatusActive</td>\n      <td>29.75</td>\n      <td>Success</td>\n      <td>Site 9401 (SLS-2)</td>\n      <td>Jiuquan Satellite Launch Center</td>\n      <td>China</td>\n    </tr>\n    <tr>\n      <th>2</th>\n      <td>SpaceX</td>\n      <td>Pad A, Boca Chica, Texas, USA</td>\n      <td>Tue Aug 04, 2020 23:57 UTC</td>\n      <td>Starship Prototype | 150 Meter Hop</td>\n      <td>StatusActive</td>\n      <td>NaN</td>\n      <td>Success</td>\n      <td>Pad A</td>\n      <td>Boca Chica</td>\n      <td>USA</td>\n    </tr>\n    <tr>\n      <th>3</th>\n      <td>Roscosmos</td>\n      <td>Site 200/39, Baikonur Cosmodrome, Kazakhstan</td>\n      <td>Thu Jul 30, 2020 21:25 UTC</td>\n      <td>Proton-M/Briz-M | Ekspress-80 &amp; Ekspress-103</td>\n      <td>StatusActive</td>\n      <td>65.0</td>\n      <td>Success</td>\n      <td>Site 200/39</td>\n      <td>Baikonur Cosmodrome</td>\n      <td>Kazakhstan</td>\n    </tr>\n    <tr>\n      <th>4</th>\n      <td>ULA</td>\n      <td>SLC-41, Cape Canaveral AFS, Florida, USA</td>\n      <td>Thu Jul 30, 2020 11:50 UTC</td>\n      <td>Atlas V 541 | Perseverance</td>\n      <td>StatusActive</td>\n      <td>145.0</td>\n      <td>Success</td>\n      <td>SLC-41</td>\n      <td>Cape Canaveral AFS</td>\n      <td>USA</td>\n    </tr>\n    <tr>\n      <th>...</th>\n      <td>...</td>\n      <td>...</td>\n      <td>...</td>\n      <td>...</td>\n      <td>...</td>\n      <td>...</td>\n      <td>...</td>\n      <td>...</td>\n      <td>...</td>\n      <td>...</td>\n    </tr>\n    <tr>\n      <th>4319</th>\n      <td>US Navy</td>\n      <td>LC-18A, Cape Canaveral AFS, Florida, USA</td>\n      <td>Wed Feb 05, 1958 07:33 UTC</td>\n      <td>Vanguard | Vanguard TV3BU</td>\n      <td>StatusRetired</td>\n      <td>NaN</td>\n      <td>Failure</td>\n      <td>LC-18A</td>\n      <td>Cape Canaveral AFS</td>\n      <td>USA</td>\n    </tr>\n    <tr>\n      <th>4320</th>\n      <td>AMBA</td>\n      <td>LC-26A, Cape Canaveral AFS, Florida, USA</td>\n      <td>Sat Feb 01, 1958 03:48 UTC</td>\n      <td>Juno I | Explorer 1</td>\n      <td>StatusRetired</td>\n      <td>NaN</td>\n      <td>Success</td>\n      <td>LC-26A</td>\n      <td>Cape Canaveral AFS</td>\n      <td>USA</td>\n    </tr>\n    <tr>\n      <th>4321</th>\n      <td>US Navy</td>\n      <td>LC-18A, Cape Canaveral AFS, Florida, USA</td>\n      <td>Fri Dec 06, 1957 16:44 UTC</td>\n      <td>Vanguard | Vanguard TV3</td>\n      <td>StatusRetired</td>\n      <td>NaN</td>\n      <td>Failure</td>\n      <td>LC-18A</td>\n      <td>Cape Canaveral AFS</td>\n      <td>USA</td>\n    </tr>\n    <tr>\n      <th>4322</th>\n      <td>RVSN USSR</td>\n      <td>Site 1/5, Baikonur Cosmodrome, Kazakhstan</td>\n      <td>Sun Nov 03, 1957 02:30 UTC</td>\n      <td>Sputnik 8K71PS | Sputnik-2</td>\n      <td>StatusRetired</td>\n      <td>NaN</td>\n      <td>Success</td>\n      <td>Site 1/5</td>\n      <td>Baikonur Cosmodrome</td>\n      <td>Kazakhstan</td>\n    </tr>\n    <tr>\n      <th>4323</th>\n      <td>RVSN USSR</td>\n      <td>Site 1/5, Baikonur Cosmodrome, Kazakhstan</td>\n      <td>Fri Oct 04, 1957 19:28 UTC</td>\n      <td>Sputnik 8K71PS | Sputnik-1</td>\n      <td>StatusRetired</td>\n      <td>NaN</td>\n      <td>Success</td>\n      <td>Site 1/5</td>\n      <td>Baikonur Cosmodrome</td>\n      <td>Kazakhstan</td>\n    </tr>\n  </tbody>\n</table>\n<p>4324 rows × 10 columns</p>\n</div>"
     },
     "execution_count": 28,
     "metadata": {},
     "output_type": "execute_result"
    }
   ],
   "source": [
    "df"
   ],
   "metadata": {
    "collapsed": false,
    "ExecuteTime": {
     "end_time": "2024-03-24T05:23:24.373793Z",
     "start_time": "2024-03-24T05:23:24.362628Z"
    }
   },
   "id": "7671d136196bbd31",
   "execution_count": 28
  },
  {
   "cell_type": "code",
   "outputs": [],
   "source": [
    "df = df.drop(axis=0, columns='Location')"
   ],
   "metadata": {
    "collapsed": false,
    "ExecuteTime": {
     "end_time": "2024-03-24T05:31:19.297042Z",
     "start_time": "2024-03-24T05:31:19.293426Z"
    }
   },
   "id": "a85f6f036e20a82c",
   "execution_count": 32
  },
  {
   "cell_type": "code",
   "outputs": [
    {
     "data": {
      "text/plain": "     Company Name                       Datum  \\\n0          SpaceX  Fri Aug 07, 2020 05:12 UTC   \n1            CASC  Thu Aug 06, 2020 04:01 UTC   \n2          SpaceX  Tue Aug 04, 2020 23:57 UTC   \n3       Roscosmos  Thu Jul 30, 2020 21:25 UTC   \n4             ULA  Thu Jul 30, 2020 11:50 UTC   \n...           ...                         ...   \n4319      US Navy  Wed Feb 05, 1958 07:33 UTC   \n4320         AMBA  Sat Feb 01, 1958 03:48 UTC   \n4321      US Navy  Fri Dec 06, 1957 16:44 UTC   \n4322    RVSN USSR  Sun Nov 03, 1957 02:30 UTC   \n4323    RVSN USSR  Fri Oct 04, 1957 19:28 UTC   \n\n                                            Detail  Status Rocket  Rocket  \\\n0     Falcon 9 Block 5 | Starlink V1 L9 & BlackSky   StatusActive   50.0    \n1              Long March 2D | Gaofen-9 04 & Q-SAT   StatusActive  29.75    \n2               Starship Prototype | 150 Meter Hop   StatusActive     NaN   \n3     Proton-M/Briz-M | Ekspress-80 & Ekspress-103   StatusActive   65.0    \n4                       Atlas V 541 | Perseverance   StatusActive  145.0    \n...                                            ...            ...     ...   \n4319                     Vanguard | Vanguard TV3BU  StatusRetired     NaN   \n4320                           Juno I | Explorer 1  StatusRetired     NaN   \n4321                       Vanguard | Vanguard TV3  StatusRetired     NaN   \n4322                    Sputnik 8K71PS | Sputnik-2  StatusRetired     NaN   \n4323                    Sputnik 8K71PS | Sputnik-1  StatusRetired     NaN   \n\n     Status Mission      Location site                     Location drom  \\\n0           Success             LC-39A              Kennedy Space Center   \n1           Success  Site 9401 (SLS-2)   Jiuquan Satellite Launch Center   \n2           Success              Pad A                        Boca Chica   \n3           Success        Site 200/39               Baikonur Cosmodrome   \n4           Success             SLC-41                Cape Canaveral AFS   \n...             ...                ...                               ...   \n4319        Failure             LC-18A                Cape Canaveral AFS   \n4320        Success             LC-26A                Cape Canaveral AFS   \n4321        Failure             LC-18A                Cape Canaveral AFS   \n4322        Success           Site 1/5               Baikonur Cosmodrome   \n4323        Success           Site 1/5               Baikonur Cosmodrome   \n\n     Location Country  \n0                 USA  \n1               China  \n2                 USA  \n3          Kazakhstan  \n4                 USA  \n...               ...  \n4319              USA  \n4320              USA  \n4321              USA  \n4322       Kazakhstan  \n4323       Kazakhstan  \n\n[4324 rows x 9 columns]",
      "text/html": "<div>\n<style scoped>\n    .dataframe tbody tr th:only-of-type {\n        vertical-align: middle;\n    }\n\n    .dataframe tbody tr th {\n        vertical-align: top;\n    }\n\n    .dataframe thead th {\n        text-align: right;\n    }\n</style>\n<table border=\"1\" class=\"dataframe\">\n  <thead>\n    <tr style=\"text-align: right;\">\n      <th></th>\n      <th>Company Name</th>\n      <th>Datum</th>\n      <th>Detail</th>\n      <th>Status Rocket</th>\n      <th>Rocket</th>\n      <th>Status Mission</th>\n      <th>Location site</th>\n      <th>Location drom</th>\n      <th>Location Country</th>\n    </tr>\n  </thead>\n  <tbody>\n    <tr>\n      <th>0</th>\n      <td>SpaceX</td>\n      <td>Fri Aug 07, 2020 05:12 UTC</td>\n      <td>Falcon 9 Block 5 | Starlink V1 L9 &amp; BlackSky</td>\n      <td>StatusActive</td>\n      <td>50.0</td>\n      <td>Success</td>\n      <td>LC-39A</td>\n      <td>Kennedy Space Center</td>\n      <td>USA</td>\n    </tr>\n    <tr>\n      <th>1</th>\n      <td>CASC</td>\n      <td>Thu Aug 06, 2020 04:01 UTC</td>\n      <td>Long March 2D | Gaofen-9 04 &amp; Q-SAT</td>\n      <td>StatusActive</td>\n      <td>29.75</td>\n      <td>Success</td>\n      <td>Site 9401 (SLS-2)</td>\n      <td>Jiuquan Satellite Launch Center</td>\n      <td>China</td>\n    </tr>\n    <tr>\n      <th>2</th>\n      <td>SpaceX</td>\n      <td>Tue Aug 04, 2020 23:57 UTC</td>\n      <td>Starship Prototype | 150 Meter Hop</td>\n      <td>StatusActive</td>\n      <td>NaN</td>\n      <td>Success</td>\n      <td>Pad A</td>\n      <td>Boca Chica</td>\n      <td>USA</td>\n    </tr>\n    <tr>\n      <th>3</th>\n      <td>Roscosmos</td>\n      <td>Thu Jul 30, 2020 21:25 UTC</td>\n      <td>Proton-M/Briz-M | Ekspress-80 &amp; Ekspress-103</td>\n      <td>StatusActive</td>\n      <td>65.0</td>\n      <td>Success</td>\n      <td>Site 200/39</td>\n      <td>Baikonur Cosmodrome</td>\n      <td>Kazakhstan</td>\n    </tr>\n    <tr>\n      <th>4</th>\n      <td>ULA</td>\n      <td>Thu Jul 30, 2020 11:50 UTC</td>\n      <td>Atlas V 541 | Perseverance</td>\n      <td>StatusActive</td>\n      <td>145.0</td>\n      <td>Success</td>\n      <td>SLC-41</td>\n      <td>Cape Canaveral AFS</td>\n      <td>USA</td>\n    </tr>\n    <tr>\n      <th>...</th>\n      <td>...</td>\n      <td>...</td>\n      <td>...</td>\n      <td>...</td>\n      <td>...</td>\n      <td>...</td>\n      <td>...</td>\n      <td>...</td>\n      <td>...</td>\n    </tr>\n    <tr>\n      <th>4319</th>\n      <td>US Navy</td>\n      <td>Wed Feb 05, 1958 07:33 UTC</td>\n      <td>Vanguard | Vanguard TV3BU</td>\n      <td>StatusRetired</td>\n      <td>NaN</td>\n      <td>Failure</td>\n      <td>LC-18A</td>\n      <td>Cape Canaveral AFS</td>\n      <td>USA</td>\n    </tr>\n    <tr>\n      <th>4320</th>\n      <td>AMBA</td>\n      <td>Sat Feb 01, 1958 03:48 UTC</td>\n      <td>Juno I | Explorer 1</td>\n      <td>StatusRetired</td>\n      <td>NaN</td>\n      <td>Success</td>\n      <td>LC-26A</td>\n      <td>Cape Canaveral AFS</td>\n      <td>USA</td>\n    </tr>\n    <tr>\n      <th>4321</th>\n      <td>US Navy</td>\n      <td>Fri Dec 06, 1957 16:44 UTC</td>\n      <td>Vanguard | Vanguard TV3</td>\n      <td>StatusRetired</td>\n      <td>NaN</td>\n      <td>Failure</td>\n      <td>LC-18A</td>\n      <td>Cape Canaveral AFS</td>\n      <td>USA</td>\n    </tr>\n    <tr>\n      <th>4322</th>\n      <td>RVSN USSR</td>\n      <td>Sun Nov 03, 1957 02:30 UTC</td>\n      <td>Sputnik 8K71PS | Sputnik-2</td>\n      <td>StatusRetired</td>\n      <td>NaN</td>\n      <td>Success</td>\n      <td>Site 1/5</td>\n      <td>Baikonur Cosmodrome</td>\n      <td>Kazakhstan</td>\n    </tr>\n    <tr>\n      <th>4323</th>\n      <td>RVSN USSR</td>\n      <td>Fri Oct 04, 1957 19:28 UTC</td>\n      <td>Sputnik 8K71PS | Sputnik-1</td>\n      <td>StatusRetired</td>\n      <td>NaN</td>\n      <td>Success</td>\n      <td>Site 1/5</td>\n      <td>Baikonur Cosmodrome</td>\n      <td>Kazakhstan</td>\n    </tr>\n  </tbody>\n</table>\n<p>4324 rows × 9 columns</p>\n</div>"
     },
     "execution_count": 33,
     "metadata": {},
     "output_type": "execute_result"
    }
   ],
   "source": [
    "df"
   ],
   "metadata": {
    "collapsed": false,
    "ExecuteTime": {
     "end_time": "2024-03-24T05:31:22.128976Z",
     "start_time": "2024-03-24T05:31:22.120396Z"
    }
   },
   "id": "ad7f6ea2ced14a5a",
   "execution_count": 33
  },
  {
   "cell_type": "code",
   "outputs": [],
   "source": [
    "def extract_datetime(data):\n",
    "    data = data.split(', ')\n",
    "    test_data = data[1].split(' ')\n",
    "    return int(test_data[0])\n"
   ],
   "metadata": {
    "collapsed": false,
    "ExecuteTime": {
     "end_time": "2024-03-24T05:37:15.674645Z",
     "start_time": "2024-03-24T05:37:15.670221Z"
    }
   },
   "id": "bb5a64e9fb9cb169",
   "execution_count": 34
  },
  {
   "cell_type": "code",
   "outputs": [],
   "source": [
    "df['Year'] = df['Datum'].apply(extract_datetime)"
   ],
   "metadata": {
    "collapsed": false,
    "ExecuteTime": {
     "end_time": "2024-03-24T05:37:49.357136Z",
     "start_time": "2024-03-24T05:37:49.350088Z"
    }
   },
   "id": "4b677fa9a4cf390c",
   "execution_count": 35
  },
  {
   "cell_type": "code",
   "outputs": [
    {
     "data": {
      "text/plain": "     Company Name                       Datum  \\\n0          SpaceX  Fri Aug 07, 2020 05:12 UTC   \n1            CASC  Thu Aug 06, 2020 04:01 UTC   \n2          SpaceX  Tue Aug 04, 2020 23:57 UTC   \n3       Roscosmos  Thu Jul 30, 2020 21:25 UTC   \n4             ULA  Thu Jul 30, 2020 11:50 UTC   \n...           ...                         ...   \n4319      US Navy  Wed Feb 05, 1958 07:33 UTC   \n4320         AMBA  Sat Feb 01, 1958 03:48 UTC   \n4321      US Navy  Fri Dec 06, 1957 16:44 UTC   \n4322    RVSN USSR  Sun Nov 03, 1957 02:30 UTC   \n4323    RVSN USSR  Fri Oct 04, 1957 19:28 UTC   \n\n                                            Detail  Status Rocket  Rocket  \\\n0     Falcon 9 Block 5 | Starlink V1 L9 & BlackSky   StatusActive   50.0    \n1              Long March 2D | Gaofen-9 04 & Q-SAT   StatusActive  29.75    \n2               Starship Prototype | 150 Meter Hop   StatusActive     NaN   \n3     Proton-M/Briz-M | Ekspress-80 & Ekspress-103   StatusActive   65.0    \n4                       Atlas V 541 | Perseverance   StatusActive  145.0    \n...                                            ...            ...     ...   \n4319                     Vanguard | Vanguard TV3BU  StatusRetired     NaN   \n4320                           Juno I | Explorer 1  StatusRetired     NaN   \n4321                       Vanguard | Vanguard TV3  StatusRetired     NaN   \n4322                    Sputnik 8K71PS | Sputnik-2  StatusRetired     NaN   \n4323                    Sputnik 8K71PS | Sputnik-1  StatusRetired     NaN   \n\n     Status Mission      Location site                     Location drom  \\\n0           Success             LC-39A              Kennedy Space Center   \n1           Success  Site 9401 (SLS-2)   Jiuquan Satellite Launch Center   \n2           Success              Pad A                        Boca Chica   \n3           Success        Site 200/39               Baikonur Cosmodrome   \n4           Success             SLC-41                Cape Canaveral AFS   \n...             ...                ...                               ...   \n4319        Failure             LC-18A                Cape Canaveral AFS   \n4320        Success             LC-26A                Cape Canaveral AFS   \n4321        Failure             LC-18A                Cape Canaveral AFS   \n4322        Success           Site 1/5               Baikonur Cosmodrome   \n4323        Success           Site 1/5               Baikonur Cosmodrome   \n\n     Location Country  Year  \n0                 USA  2020  \n1               China  2020  \n2                 USA  2020  \n3          Kazakhstan  2020  \n4                 USA  2020  \n...               ...   ...  \n4319              USA  1958  \n4320              USA  1958  \n4321              USA  1957  \n4322       Kazakhstan  1957  \n4323       Kazakhstan  1957  \n\n[4324 rows x 10 columns]",
      "text/html": "<div>\n<style scoped>\n    .dataframe tbody tr th:only-of-type {\n        vertical-align: middle;\n    }\n\n    .dataframe tbody tr th {\n        vertical-align: top;\n    }\n\n    .dataframe thead th {\n        text-align: right;\n    }\n</style>\n<table border=\"1\" class=\"dataframe\">\n  <thead>\n    <tr style=\"text-align: right;\">\n      <th></th>\n      <th>Company Name</th>\n      <th>Datum</th>\n      <th>Detail</th>\n      <th>Status Rocket</th>\n      <th>Rocket</th>\n      <th>Status Mission</th>\n      <th>Location site</th>\n      <th>Location drom</th>\n      <th>Location Country</th>\n      <th>Year</th>\n    </tr>\n  </thead>\n  <tbody>\n    <tr>\n      <th>0</th>\n      <td>SpaceX</td>\n      <td>Fri Aug 07, 2020 05:12 UTC</td>\n      <td>Falcon 9 Block 5 | Starlink V1 L9 &amp; BlackSky</td>\n      <td>StatusActive</td>\n      <td>50.0</td>\n      <td>Success</td>\n      <td>LC-39A</td>\n      <td>Kennedy Space Center</td>\n      <td>USA</td>\n      <td>2020</td>\n    </tr>\n    <tr>\n      <th>1</th>\n      <td>CASC</td>\n      <td>Thu Aug 06, 2020 04:01 UTC</td>\n      <td>Long March 2D | Gaofen-9 04 &amp; Q-SAT</td>\n      <td>StatusActive</td>\n      <td>29.75</td>\n      <td>Success</td>\n      <td>Site 9401 (SLS-2)</td>\n      <td>Jiuquan Satellite Launch Center</td>\n      <td>China</td>\n      <td>2020</td>\n    </tr>\n    <tr>\n      <th>2</th>\n      <td>SpaceX</td>\n      <td>Tue Aug 04, 2020 23:57 UTC</td>\n      <td>Starship Prototype | 150 Meter Hop</td>\n      <td>StatusActive</td>\n      <td>NaN</td>\n      <td>Success</td>\n      <td>Pad A</td>\n      <td>Boca Chica</td>\n      <td>USA</td>\n      <td>2020</td>\n    </tr>\n    <tr>\n      <th>3</th>\n      <td>Roscosmos</td>\n      <td>Thu Jul 30, 2020 21:25 UTC</td>\n      <td>Proton-M/Briz-M | Ekspress-80 &amp; Ekspress-103</td>\n      <td>StatusActive</td>\n      <td>65.0</td>\n      <td>Success</td>\n      <td>Site 200/39</td>\n      <td>Baikonur Cosmodrome</td>\n      <td>Kazakhstan</td>\n      <td>2020</td>\n    </tr>\n    <tr>\n      <th>4</th>\n      <td>ULA</td>\n      <td>Thu Jul 30, 2020 11:50 UTC</td>\n      <td>Atlas V 541 | Perseverance</td>\n      <td>StatusActive</td>\n      <td>145.0</td>\n      <td>Success</td>\n      <td>SLC-41</td>\n      <td>Cape Canaveral AFS</td>\n      <td>USA</td>\n      <td>2020</td>\n    </tr>\n    <tr>\n      <th>...</th>\n      <td>...</td>\n      <td>...</td>\n      <td>...</td>\n      <td>...</td>\n      <td>...</td>\n      <td>...</td>\n      <td>...</td>\n      <td>...</td>\n      <td>...</td>\n      <td>...</td>\n    </tr>\n    <tr>\n      <th>4319</th>\n      <td>US Navy</td>\n      <td>Wed Feb 05, 1958 07:33 UTC</td>\n      <td>Vanguard | Vanguard TV3BU</td>\n      <td>StatusRetired</td>\n      <td>NaN</td>\n      <td>Failure</td>\n      <td>LC-18A</td>\n      <td>Cape Canaveral AFS</td>\n      <td>USA</td>\n      <td>1958</td>\n    </tr>\n    <tr>\n      <th>4320</th>\n      <td>AMBA</td>\n      <td>Sat Feb 01, 1958 03:48 UTC</td>\n      <td>Juno I | Explorer 1</td>\n      <td>StatusRetired</td>\n      <td>NaN</td>\n      <td>Success</td>\n      <td>LC-26A</td>\n      <td>Cape Canaveral AFS</td>\n      <td>USA</td>\n      <td>1958</td>\n    </tr>\n    <tr>\n      <th>4321</th>\n      <td>US Navy</td>\n      <td>Fri Dec 06, 1957 16:44 UTC</td>\n      <td>Vanguard | Vanguard TV3</td>\n      <td>StatusRetired</td>\n      <td>NaN</td>\n      <td>Failure</td>\n      <td>LC-18A</td>\n      <td>Cape Canaveral AFS</td>\n      <td>USA</td>\n      <td>1957</td>\n    </tr>\n    <tr>\n      <th>4322</th>\n      <td>RVSN USSR</td>\n      <td>Sun Nov 03, 1957 02:30 UTC</td>\n      <td>Sputnik 8K71PS | Sputnik-2</td>\n      <td>StatusRetired</td>\n      <td>NaN</td>\n      <td>Success</td>\n      <td>Site 1/5</td>\n      <td>Baikonur Cosmodrome</td>\n      <td>Kazakhstan</td>\n      <td>1957</td>\n    </tr>\n    <tr>\n      <th>4323</th>\n      <td>RVSN USSR</td>\n      <td>Fri Oct 04, 1957 19:28 UTC</td>\n      <td>Sputnik 8K71PS | Sputnik-1</td>\n      <td>StatusRetired</td>\n      <td>NaN</td>\n      <td>Success</td>\n      <td>Site 1/5</td>\n      <td>Baikonur Cosmodrome</td>\n      <td>Kazakhstan</td>\n      <td>1957</td>\n    </tr>\n  </tbody>\n</table>\n<p>4324 rows × 10 columns</p>\n</div>"
     },
     "execution_count": 36,
     "metadata": {},
     "output_type": "execute_result"
    }
   ],
   "source": [
    "df"
   ],
   "metadata": {
    "collapsed": false,
    "ExecuteTime": {
     "end_time": "2024-03-24T05:37:52.696082Z",
     "start_time": "2024-03-24T05:37:52.684910Z"
    }
   },
   "id": "61eb07ed06f7d02f",
   "execution_count": 36
  },
  {
   "cell_type": "code",
   "outputs": [],
   "source": [
    "def extract_datetime_1(data):\n",
    "    len_data = len(data)\n",
    "    if len_data != 26:\n",
    "        return 'Ночь'\n",
    "    data = data.split(', ')\n",
    "    test_data = data[1].split(' ')\n",
    "    test = int(test_data[1][:2])\n",
    "    if test >= 18:\n",
    "        return 'Вечер'\n",
    "    elif test >= 12:\n",
    "        return 'День'\n",
    "    else:\n",
    "        return 'Утро'"
   ],
   "metadata": {
    "collapsed": false,
    "ExecuteTime": {
     "end_time": "2024-03-24T05:56:33.029669Z",
     "start_time": "2024-03-24T05:56:33.025034Z"
    }
   },
   "id": "53ae688a42659783",
   "execution_count": 45
  },
  {
   "cell_type": "code",
   "outputs": [],
   "source": [
    "df['Launch Time'] = df['Datum'].apply(extract_datetime_1)"
   ],
   "metadata": {
    "collapsed": false,
    "ExecuteTime": {
     "end_time": "2024-03-24T05:56:36.186992Z",
     "start_time": "2024-03-24T05:56:36.180874Z"
    }
   },
   "id": "a8d9dd4fca5a53a8",
   "execution_count": 46
  },
  {
   "cell_type": "code",
   "outputs": [
    {
     "data": {
      "text/plain": "     Company Name                       Datum  \\\n0          SpaceX  Fri Aug 07, 2020 05:12 UTC   \n1            CASC  Thu Aug 06, 2020 04:01 UTC   \n2          SpaceX  Tue Aug 04, 2020 23:57 UTC   \n3       Roscosmos  Thu Jul 30, 2020 21:25 UTC   \n4             ULA  Thu Jul 30, 2020 11:50 UTC   \n...           ...                         ...   \n4319      US Navy  Wed Feb 05, 1958 07:33 UTC   \n4320         AMBA  Sat Feb 01, 1958 03:48 UTC   \n4321      US Navy  Fri Dec 06, 1957 16:44 UTC   \n4322    RVSN USSR  Sun Nov 03, 1957 02:30 UTC   \n4323    RVSN USSR  Fri Oct 04, 1957 19:28 UTC   \n\n                                            Detail  Status Rocket  Rocket  \\\n0     Falcon 9 Block 5 | Starlink V1 L9 & BlackSky   StatusActive   50.0    \n1              Long March 2D | Gaofen-9 04 & Q-SAT   StatusActive  29.75    \n2               Starship Prototype | 150 Meter Hop   StatusActive     NaN   \n3     Proton-M/Briz-M | Ekspress-80 & Ekspress-103   StatusActive   65.0    \n4                       Atlas V 541 | Perseverance   StatusActive  145.0    \n...                                            ...            ...     ...   \n4319                     Vanguard | Vanguard TV3BU  StatusRetired     NaN   \n4320                           Juno I | Explorer 1  StatusRetired     NaN   \n4321                       Vanguard | Vanguard TV3  StatusRetired     NaN   \n4322                    Sputnik 8K71PS | Sputnik-2  StatusRetired     NaN   \n4323                    Sputnik 8K71PS | Sputnik-1  StatusRetired     NaN   \n\n     Status Mission      Location site                     Location drom  \\\n0           Success             LC-39A              Kennedy Space Center   \n1           Success  Site 9401 (SLS-2)   Jiuquan Satellite Launch Center   \n2           Success              Pad A                        Boca Chica   \n3           Success        Site 200/39               Baikonur Cosmodrome   \n4           Success             SLC-41                Cape Canaveral AFS   \n...             ...                ...                               ...   \n4319        Failure             LC-18A                Cape Canaveral AFS   \n4320        Success             LC-26A                Cape Canaveral AFS   \n4321        Failure             LC-18A                Cape Canaveral AFS   \n4322        Success           Site 1/5               Baikonur Cosmodrome   \n4323        Success           Site 1/5               Baikonur Cosmodrome   \n\n     Location Country  Year Launch Time  \n0                 USA  2020        Утро  \n1               China  2020        Утро  \n2                 USA  2020       Вечер  \n3          Kazakhstan  2020       Вечер  \n4                 USA  2020        Утро  \n...               ...   ...         ...  \n4319              USA  1958        Утро  \n4320              USA  1958        Утро  \n4321              USA  1957        День  \n4322       Kazakhstan  1957        Утро  \n4323       Kazakhstan  1957       Вечер  \n\n[4324 rows x 11 columns]",
      "text/html": "<div>\n<style scoped>\n    .dataframe tbody tr th:only-of-type {\n        vertical-align: middle;\n    }\n\n    .dataframe tbody tr th {\n        vertical-align: top;\n    }\n\n    .dataframe thead th {\n        text-align: right;\n    }\n</style>\n<table border=\"1\" class=\"dataframe\">\n  <thead>\n    <tr style=\"text-align: right;\">\n      <th></th>\n      <th>Company Name</th>\n      <th>Datum</th>\n      <th>Detail</th>\n      <th>Status Rocket</th>\n      <th>Rocket</th>\n      <th>Status Mission</th>\n      <th>Location site</th>\n      <th>Location drom</th>\n      <th>Location Country</th>\n      <th>Year</th>\n      <th>Launch Time</th>\n    </tr>\n  </thead>\n  <tbody>\n    <tr>\n      <th>0</th>\n      <td>SpaceX</td>\n      <td>Fri Aug 07, 2020 05:12 UTC</td>\n      <td>Falcon 9 Block 5 | Starlink V1 L9 &amp; BlackSky</td>\n      <td>StatusActive</td>\n      <td>50.0</td>\n      <td>Success</td>\n      <td>LC-39A</td>\n      <td>Kennedy Space Center</td>\n      <td>USA</td>\n      <td>2020</td>\n      <td>Утро</td>\n    </tr>\n    <tr>\n      <th>1</th>\n      <td>CASC</td>\n      <td>Thu Aug 06, 2020 04:01 UTC</td>\n      <td>Long March 2D | Gaofen-9 04 &amp; Q-SAT</td>\n      <td>StatusActive</td>\n      <td>29.75</td>\n      <td>Success</td>\n      <td>Site 9401 (SLS-2)</td>\n      <td>Jiuquan Satellite Launch Center</td>\n      <td>China</td>\n      <td>2020</td>\n      <td>Утро</td>\n    </tr>\n    <tr>\n      <th>2</th>\n      <td>SpaceX</td>\n      <td>Tue Aug 04, 2020 23:57 UTC</td>\n      <td>Starship Prototype | 150 Meter Hop</td>\n      <td>StatusActive</td>\n      <td>NaN</td>\n      <td>Success</td>\n      <td>Pad A</td>\n      <td>Boca Chica</td>\n      <td>USA</td>\n      <td>2020</td>\n      <td>Вечер</td>\n    </tr>\n    <tr>\n      <th>3</th>\n      <td>Roscosmos</td>\n      <td>Thu Jul 30, 2020 21:25 UTC</td>\n      <td>Proton-M/Briz-M | Ekspress-80 &amp; Ekspress-103</td>\n      <td>StatusActive</td>\n      <td>65.0</td>\n      <td>Success</td>\n      <td>Site 200/39</td>\n      <td>Baikonur Cosmodrome</td>\n      <td>Kazakhstan</td>\n      <td>2020</td>\n      <td>Вечер</td>\n    </tr>\n    <tr>\n      <th>4</th>\n      <td>ULA</td>\n      <td>Thu Jul 30, 2020 11:50 UTC</td>\n      <td>Atlas V 541 | Perseverance</td>\n      <td>StatusActive</td>\n      <td>145.0</td>\n      <td>Success</td>\n      <td>SLC-41</td>\n      <td>Cape Canaveral AFS</td>\n      <td>USA</td>\n      <td>2020</td>\n      <td>Утро</td>\n    </tr>\n    <tr>\n      <th>...</th>\n      <td>...</td>\n      <td>...</td>\n      <td>...</td>\n      <td>...</td>\n      <td>...</td>\n      <td>...</td>\n      <td>...</td>\n      <td>...</td>\n      <td>...</td>\n      <td>...</td>\n      <td>...</td>\n    </tr>\n    <tr>\n      <th>4319</th>\n      <td>US Navy</td>\n      <td>Wed Feb 05, 1958 07:33 UTC</td>\n      <td>Vanguard | Vanguard TV3BU</td>\n      <td>StatusRetired</td>\n      <td>NaN</td>\n      <td>Failure</td>\n      <td>LC-18A</td>\n      <td>Cape Canaveral AFS</td>\n      <td>USA</td>\n      <td>1958</td>\n      <td>Утро</td>\n    </tr>\n    <tr>\n      <th>4320</th>\n      <td>AMBA</td>\n      <td>Sat Feb 01, 1958 03:48 UTC</td>\n      <td>Juno I | Explorer 1</td>\n      <td>StatusRetired</td>\n      <td>NaN</td>\n      <td>Success</td>\n      <td>LC-26A</td>\n      <td>Cape Canaveral AFS</td>\n      <td>USA</td>\n      <td>1958</td>\n      <td>Утро</td>\n    </tr>\n    <tr>\n      <th>4321</th>\n      <td>US Navy</td>\n      <td>Fri Dec 06, 1957 16:44 UTC</td>\n      <td>Vanguard | Vanguard TV3</td>\n      <td>StatusRetired</td>\n      <td>NaN</td>\n      <td>Failure</td>\n      <td>LC-18A</td>\n      <td>Cape Canaveral AFS</td>\n      <td>USA</td>\n      <td>1957</td>\n      <td>День</td>\n    </tr>\n    <tr>\n      <th>4322</th>\n      <td>RVSN USSR</td>\n      <td>Sun Nov 03, 1957 02:30 UTC</td>\n      <td>Sputnik 8K71PS | Sputnik-2</td>\n      <td>StatusRetired</td>\n      <td>NaN</td>\n      <td>Success</td>\n      <td>Site 1/5</td>\n      <td>Baikonur Cosmodrome</td>\n      <td>Kazakhstan</td>\n      <td>1957</td>\n      <td>Утро</td>\n    </tr>\n    <tr>\n      <th>4323</th>\n      <td>RVSN USSR</td>\n      <td>Fri Oct 04, 1957 19:28 UTC</td>\n      <td>Sputnik 8K71PS | Sputnik-1</td>\n      <td>StatusRetired</td>\n      <td>NaN</td>\n      <td>Success</td>\n      <td>Site 1/5</td>\n      <td>Baikonur Cosmodrome</td>\n      <td>Kazakhstan</td>\n      <td>1957</td>\n      <td>Вечер</td>\n    </tr>\n  </tbody>\n</table>\n<p>4324 rows × 11 columns</p>\n</div>"
     },
     "execution_count": 47,
     "metadata": {},
     "output_type": "execute_result"
    }
   ],
   "source": [
    "df"
   ],
   "metadata": {
    "collapsed": false,
    "ExecuteTime": {
     "end_time": "2024-03-24T05:56:37.594458Z",
     "start_time": "2024-03-24T05:56:37.582292Z"
    }
   },
   "id": "1dd0bc3989d6f374",
   "execution_count": 47
  },
  {
   "cell_type": "code",
   "outputs": [
    {
     "data": {
      "text/plain": "<Axes: xlabel='Launch Time'>"
     },
     "execution_count": 50,
     "metadata": {},
     "output_type": "execute_result"
    },
    {
     "data": {
      "text/plain": "<Figure size 640x480 with 1 Axes>",
      "image/png": "[encoded data removed]"
     },
     "metadata": {},
     "output_type": "display_data"
    }
   ],
   "source": [
    "df['Launch Time'].value_counts().plot()"
   ],
   "metadata": {
    "collapsed": false,
    "ExecuteTime": {
     "end_time": "2024-03-24T06:04:38.573737Z",
     "start_time": "2024-03-24T06:04:37.436848Z"
    }
   },
   "id": "4d645faa616d8766",
   "execution_count": 50
  },
  {
   "cell_type": "code",
   "outputs": [],
   "source": [],
   "metadata": {
    "collapsed": false
   },
   "id": "61a5a4df827ce711"
  }
 ],
 "metadata": {
  "kernelspec": {
   "display_name": "Python 3",
   "language": "python",
   "name": "python3"
  },
  "language_info": {
   "codemirror_mode": {
    "name": "ipython",
    "version": 2
   },
   "file_extension": ".py",
   "mimetype": "text/x-python",
   "name": "python",
   "nbconvert_exporter": "python",
   "pygments_lexer": "ipython2",
   "version": "2.7.6"
  }
 },
 "nbformat": 4,
 "nbformat_minor": 5
}
