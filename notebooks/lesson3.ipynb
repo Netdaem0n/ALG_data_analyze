{
 "cells": [
  {
   "cell_type": "markdown",
   "source": [
    "Урок 3 - Очистка данных. Feature engineering"
   ],
   "metadata": {
    "collapsed": false
   },
   "id": "dc1545e31cb0ee5f"
  },
  {
   "cell_type": "code",
   "execution_count": 1,
   "id": "initial_id",
   "metadata": {
    "collapsed": true,
    "ExecuteTime": {
     "end_time": "2024-03-03T04:43:24.058281Z",
     "start_time": "2024-03-03T04:43:20.155711Z"
    }
   },
   "outputs": [],
   "source": [
    "import pandas as pd\n",
    "import numpy as np"
   ]
  },
  {
   "cell_type": "code",
   "outputs": [],
   "source": [
    "df = pd.read_csv('../data/GooglePlayStore_wild.csv')"
   ],
   "metadata": {
    "collapsed": false,
    "ExecuteTime": {
     "end_time": "2024-03-03T04:45:11.569509Z",
     "start_time": "2024-03-03T04:45:11.531214Z"
    }
   },
   "id": "aaa1c5aa93975d7b",
   "execution_count": 7
  },
  {
   "cell_type": "code",
   "outputs": [
    {
     "name": "stdout",
     "output_type": "stream",
     "text": [
      "<class 'pandas.core.frame.DataFrame'>\n",
      "RangeIndex: 10840 entries, 0 to 10839\n",
      "Data columns (total 14 columns):\n",
      " #   Column          Non-Null Count  Dtype  \n",
      "---  ------          --------------  -----  \n",
      " 0   Unnamed: 0      10840 non-null  int64  \n",
      " 1   App             10840 non-null  object \n",
      " 2   Category        10840 non-null  object \n",
      " 3   Rating          9366 non-null   float64\n",
      " 4   Reviews         10840 non-null  int64  \n",
      " 5   Size            10840 non-null  object \n",
      " 6   Installs        10840 non-null  object \n",
      " 7   Type            10839 non-null  object \n",
      " 8   Price           10840 non-null  object \n",
      " 9   Content Rating  10840 non-null  object \n",
      " 10  Genres          10840 non-null  object \n",
      " 11  Last Updated    10840 non-null  object \n",
      " 12  Current Ver     10832 non-null  object \n",
      " 13  Android Ver     10838 non-null  object \n",
      "dtypes: float64(1), int64(2), object(11)\n",
      "memory usage: 1.2+ MB\n"
     ]
    }
   ],
   "source": [
    "df.info()"
   ],
   "metadata": {
    "collapsed": false,
    "ExecuteTime": {
     "end_time": "2024-03-03T04:57:02.921866Z",
     "start_time": "2024-03-03T04:57:02.908831Z"
    }
   },
   "id": "66c959d078ef59ca",
   "execution_count": 10
  },
  {
   "cell_type": "code",
   "outputs": [
    {
     "data": {
      "text/plain": "   Unnamed: 0                                                App  \\\n0           0     Photo Editor & Candy Camera & Grid & ScrapBook   \n1           1                                Coloring book moana   \n2           2  U Launcher Lite – FREE Live Cool Themes, Hide ...   \n3           3                              Sketch - Draw & Paint   \n4           4              Pixel Draw - Number Art Coloring Book   \n\n         Category  Rating  Reviews  Size     Installs  Type Price  \\\n0  ART_AND_DESIGN     4.1      159   19M      10,000+  Free     0   \n1  ART_AND_DESIGN     3.9      967   14M     500,000+  Free     0   \n2  ART_AND_DESIGN     4.7    87510  8.7M   5,000,000+  Free     0   \n3  ART_AND_DESIGN     4.5   215644   25M  50,000,000+  Free     0   \n4  ART_AND_DESIGN     4.3      967  2.8M     100,000+  Free     0   \n\n  Content Rating                     Genres      Last Updated  \\\n0       Everyone               Art & Design   January 7, 2018   \n1       Everyone  Art & Design;Pretend Play  January 15, 2018   \n2       Everyone               Art & Design    August 1, 2018   \n3           Teen               Art & Design      June 8, 2018   \n4       Everyone    Art & Design;Creativity     June 20, 2018   \n\n          Current Ver   Android Ver  \n0               1.0.0  4.0.3 and up  \n1               2.0.0  4.0.3 and up  \n2               1.2.4  4.0.3 and up  \n3  Varies with device    4.2 and up  \n4                 1.1    4.4 and up  ",
      "text/html": "<div>\n<style scoped>\n    .dataframe tbody tr th:only-of-type {\n        vertical-align: middle;\n    }\n\n    .dataframe tbody tr th {\n        vertical-align: top;\n    }\n\n    .dataframe thead th {\n        text-align: right;\n    }\n</style>\n<table border=\"1\" class=\"dataframe\">\n  <thead>\n    <tr style=\"text-align: right;\">\n      <th></th>\n      <th>Unnamed: 0</th>\n      <th>App</th>\n      <th>Category</th>\n      <th>Rating</th>\n      <th>Reviews</th>\n      <th>Size</th>\n      <th>Installs</th>\n      <th>Type</th>\n      <th>Price</th>\n      <th>Content Rating</th>\n      <th>Genres</th>\n      <th>Last Updated</th>\n      <th>Current Ver</th>\n      <th>Android Ver</th>\n    </tr>\n  </thead>\n  <tbody>\n    <tr>\n      <th>0</th>\n      <td>0</td>\n      <td>Photo Editor &amp; Candy Camera &amp; Grid &amp; ScrapBook</td>\n      <td>ART_AND_DESIGN</td>\n      <td>4.1</td>\n      <td>159</td>\n      <td>19M</td>\n      <td>10,000+</td>\n      <td>Free</td>\n      <td>0</td>\n      <td>Everyone</td>\n      <td>Art &amp; Design</td>\n      <td>January 7, 2018</td>\n      <td>1.0.0</td>\n      <td>4.0.3 and up</td>\n    </tr>\n    <tr>\n      <th>1</th>\n      <td>1</td>\n      <td>Coloring book moana</td>\n      <td>ART_AND_DESIGN</td>\n      <td>3.9</td>\n      <td>967</td>\n      <td>14M</td>\n      <td>500,000+</td>\n      <td>Free</td>\n      <td>0</td>\n      <td>Everyone</td>\n      <td>Art &amp; Design;Pretend Play</td>\n      <td>January 15, 2018</td>\n      <td>2.0.0</td>\n      <td>4.0.3 and up</td>\n    </tr>\n    <tr>\n      <th>2</th>\n      <td>2</td>\n      <td>U Launcher Lite – FREE Live Cool Themes, Hide ...</td>\n      <td>ART_AND_DESIGN</td>\n      <td>4.7</td>\n      <td>87510</td>\n      <td>8.7M</td>\n      <td>5,000,000+</td>\n      <td>Free</td>\n      <td>0</td>\n      <td>Everyone</td>\n      <td>Art &amp; Design</td>\n      <td>August 1, 2018</td>\n      <td>1.2.4</td>\n      <td>4.0.3 and up</td>\n    </tr>\n    <tr>\n      <th>3</th>\n      <td>3</td>\n      <td>Sketch - Draw &amp; Paint</td>\n      <td>ART_AND_DESIGN</td>\n      <td>4.5</td>\n      <td>215644</td>\n      <td>25M</td>\n      <td>50,000,000+</td>\n      <td>Free</td>\n      <td>0</td>\n      <td>Teen</td>\n      <td>Art &amp; Design</td>\n      <td>June 8, 2018</td>\n      <td>Varies with device</td>\n      <td>4.2 and up</td>\n    </tr>\n    <tr>\n      <th>4</th>\n      <td>4</td>\n      <td>Pixel Draw - Number Art Coloring Book</td>\n      <td>ART_AND_DESIGN</td>\n      <td>4.3</td>\n      <td>967</td>\n      <td>2.8M</td>\n      <td>100,000+</td>\n      <td>Free</td>\n      <td>0</td>\n      <td>Everyone</td>\n      <td>Art &amp; Design;Creativity</td>\n      <td>June 20, 2018</td>\n      <td>1.1</td>\n      <td>4.4 and up</td>\n    </tr>\n  </tbody>\n</table>\n</div>"
     },
     "execution_count": 11,
     "metadata": {},
     "output_type": "execute_result"
    }
   ],
   "source": [
    "df.head()"
   ],
   "metadata": {
    "collapsed": false,
    "ExecuteTime": {
     "end_time": "2024-03-03T05:02:25.558869Z",
     "start_time": "2024-03-03T05:02:25.549443Z"
    }
   },
   "id": "338149a138e0e114",
   "execution_count": 11
  },
  {
   "cell_type": "code",
   "outputs": [
    {
     "data": {
      "text/plain": "       Unnamed: 0                                            App  \\\n10835       10836                               Sya9a Maroc - FR   \n10836       10837               Fr. Mike Schmitz Audio Teachings   \n10837       10838                         Parkinson Exercices FR   \n10838       10839                  The SCP Foundation DB fr nn5n   \n10839       10840  iHoroscope - 2018 Daily Horoscope & Astrology   \n\n                  Category  Rating  Reviews                Size     Installs  \\\n10835               FAMILY     4.5       38                 53M       5,000+   \n10836               FAMILY     5.0        4                3.6M         100+   \n10837              MEDICAL     NaN        3                9.5M       1,000+   \n10838  BOOKS_AND_REFERENCE     4.5      114  Varies with device       1,000+   \n10839            LIFESTYLE     4.5   398307                 19M  10,000,000+   \n\n       Type Price Content Rating             Genres      Last Updated  \\\n10835  Free     0       Everyone          Education     July 25, 2017   \n10836  Free     0       Everyone          Education      July 6, 2018   \n10837  Free     0       Everyone            Medical  January 20, 2017   \n10838  Free     0     Mature 17+  Books & Reference  January 19, 2015   \n10839  Free     0       Everyone          Lifestyle     July 25, 2018   \n\n              Current Ver         Android Ver  \n10835                1.48          4.1 and up  \n10836                 1.0          4.1 and up  \n10837                 1.0          2.2 and up  \n10838  Varies with device  Varies with device  \n10839  Varies with device  Varies with device  ",
      "text/html": "<div>\n<style scoped>\n    .dataframe tbody tr th:only-of-type {\n        vertical-align: middle;\n    }\n\n    .dataframe tbody tr th {\n        vertical-align: top;\n    }\n\n    .dataframe thead th {\n        text-align: right;\n    }\n</style>\n<table border=\"1\" class=\"dataframe\">\n  <thead>\n    <tr style=\"text-align: right;\">\n      <th></th>\n      <th>Unnamed: 0</th>\n      <th>App</th>\n      <th>Category</th>\n      <th>Rating</th>\n      <th>Reviews</th>\n      <th>Size</th>\n      <th>Installs</th>\n      <th>Type</th>\n      <th>Price</th>\n      <th>Content Rating</th>\n      <th>Genres</th>\n      <th>Last Updated</th>\n      <th>Current Ver</th>\n      <th>Android Ver</th>\n    </tr>\n  </thead>\n  <tbody>\n    <tr>\n      <th>10835</th>\n      <td>10836</td>\n      <td>Sya9a Maroc - FR</td>\n      <td>FAMILY</td>\n      <td>4.5</td>\n      <td>38</td>\n      <td>53M</td>\n      <td>5,000+</td>\n      <td>Free</td>\n      <td>0</td>\n      <td>Everyone</td>\n      <td>Education</td>\n      <td>July 25, 2017</td>\n      <td>1.48</td>\n      <td>4.1 and up</td>\n    </tr>\n    <tr>\n      <th>10836</th>\n      <td>10837</td>\n      <td>Fr. Mike Schmitz Audio Teachings</td>\n      <td>FAMILY</td>\n      <td>5.0</td>\n      <td>4</td>\n      <td>3.6M</td>\n      <td>100+</td>\n      <td>Free</td>\n      <td>0</td>\n      <td>Everyone</td>\n      <td>Education</td>\n      <td>July 6, 2018</td>\n      <td>1.0</td>\n      <td>4.1 and up</td>\n    </tr>\n    <tr>\n      <th>10837</th>\n      <td>10838</td>\n      <td>Parkinson Exercices FR</td>\n      <td>MEDICAL</td>\n      <td>NaN</td>\n      <td>3</td>\n      <td>9.5M</td>\n      <td>1,000+</td>\n      <td>Free</td>\n      <td>0</td>\n      <td>Everyone</td>\n      <td>Medical</td>\n      <td>January 20, 2017</td>\n      <td>1.0</td>\n      <td>2.2 and up</td>\n    </tr>\n    <tr>\n      <th>10838</th>\n      <td>10839</td>\n      <td>The SCP Foundation DB fr nn5n</td>\n      <td>BOOKS_AND_REFERENCE</td>\n      <td>4.5</td>\n      <td>114</td>\n      <td>Varies with device</td>\n      <td>1,000+</td>\n      <td>Free</td>\n      <td>0</td>\n      <td>Mature 17+</td>\n      <td>Books &amp; Reference</td>\n      <td>January 19, 2015</td>\n      <td>Varies with device</td>\n      <td>Varies with device</td>\n    </tr>\n    <tr>\n      <th>10839</th>\n      <td>10840</td>\n      <td>iHoroscope - 2018 Daily Horoscope &amp; Astrology</td>\n      <td>LIFESTYLE</td>\n      <td>4.5</td>\n      <td>398307</td>\n      <td>19M</td>\n      <td>10,000,000+</td>\n      <td>Free</td>\n      <td>0</td>\n      <td>Everyone</td>\n      <td>Lifestyle</td>\n      <td>July 25, 2018</td>\n      <td>Varies with device</td>\n      <td>Varies with device</td>\n    </tr>\n  </tbody>\n</table>\n</div>"
     },
     "execution_count": 12,
     "metadata": {},
     "output_type": "execute_result"
    }
   ],
   "source": [
    "df.tail()"
   ],
   "metadata": {
    "collapsed": false,
    "ExecuteTime": {
     "end_time": "2024-03-03T05:02:41.579409Z",
     "start_time": "2024-03-03T05:02:41.564036Z"
    }
   },
   "id": "f09915b116437afb",
   "execution_count": 12
  },
  {
   "cell_type": "code",
   "outputs": [
    {
     "data": {
      "text/plain": "0        False\n1        False\n2        False\n3        False\n4        False\n         ...  \n10835    False\n10836    False\n10837     True\n10838    False\n10839    False\nName: Rating, Length: 10840, dtype: bool"
     },
     "execution_count": 14,
     "metadata": {},
     "output_type": "execute_result"
    }
   ],
   "source": [
    "pd.isnull(df['Rating'])"
   ],
   "metadata": {
    "collapsed": false,
    "ExecuteTime": {
     "end_time": "2024-03-03T05:05:11.122481Z",
     "start_time": "2024-03-03T05:05:11.116058Z"
    }
   },
   "id": "da197deabdeb69a8",
   "execution_count": 14
  },
  {
   "cell_type": "code",
   "outputs": [
    {
     "data": {
      "text/plain": "      Unnamed: 0                     App         Category  Rating  Reviews  \\\n4453        4453  [substratum] Vacuum: P  PERSONALIZATION     4.4      230   \n4490        4490    Pi Dark [substratum]  PERSONALIZATION     4.5      189   \n\n      Size Installs  Type  Price Content Rating           Genres  \\\n4453   11M   1,000+  Paid  $1.49       Everyone  Personalization   \n4490  2.1M  10,000+  Free      0       Everyone  Personalization   \n\n        Last Updated Current Ver Android Ver  \n4453   July 20, 2018         4.4         NaN  \n4490  March 27, 2018         1.1         NaN  ",
      "text/html": "<div>\n<style scoped>\n    .dataframe tbody tr th:only-of-type {\n        vertical-align: middle;\n    }\n\n    .dataframe tbody tr th {\n        vertical-align: top;\n    }\n\n    .dataframe thead th {\n        text-align: right;\n    }\n</style>\n<table border=\"1\" class=\"dataframe\">\n  <thead>\n    <tr style=\"text-align: right;\">\n      <th></th>\n      <th>Unnamed: 0</th>\n      <th>App</th>\n      <th>Category</th>\n      <th>Rating</th>\n      <th>Reviews</th>\n      <th>Size</th>\n      <th>Installs</th>\n      <th>Type</th>\n      <th>Price</th>\n      <th>Content Rating</th>\n      <th>Genres</th>\n      <th>Last Updated</th>\n      <th>Current Ver</th>\n      <th>Android Ver</th>\n    </tr>\n  </thead>\n  <tbody>\n    <tr>\n      <th>4453</th>\n      <td>4453</td>\n      <td>[substratum] Vacuum: P</td>\n      <td>PERSONALIZATION</td>\n      <td>4.4</td>\n      <td>230</td>\n      <td>11M</td>\n      <td>1,000+</td>\n      <td>Paid</td>\n      <td>$1.49</td>\n      <td>Everyone</td>\n      <td>Personalization</td>\n      <td>July 20, 2018</td>\n      <td>4.4</td>\n      <td>NaN</td>\n    </tr>\n    <tr>\n      <th>4490</th>\n      <td>4490</td>\n      <td>Pi Dark [substratum]</td>\n      <td>PERSONALIZATION</td>\n      <td>4.5</td>\n      <td>189</td>\n      <td>2.1M</td>\n      <td>10,000+</td>\n      <td>Free</td>\n      <td>0</td>\n      <td>Everyone</td>\n      <td>Personalization</td>\n      <td>March 27, 2018</td>\n      <td>1.1</td>\n      <td>NaN</td>\n    </tr>\n  </tbody>\n</table>\n</div>"
     },
     "execution_count": 17,
     "metadata": {},
     "output_type": "execute_result"
    }
   ],
   "source": [
    "df[pd.isnull(df['Android Ver'])]"
   ],
   "metadata": {
    "collapsed": false,
    "ExecuteTime": {
     "end_time": "2024-03-03T05:10:55.131241Z",
     "start_time": "2024-03-03T05:10:55.118224Z"
    }
   },
   "id": "8fdb95e3f5679843",
   "execution_count": 17
  },
  {
   "cell_type": "code",
   "outputs": [
    {
     "name": "stdout",
     "output_type": "stream",
     "text": [
      "<class 'pandas.core.frame.DataFrame'>\n",
      "RangeIndex: 10840 entries, 0 to 10839\n",
      "Data columns (total 14 columns):\n",
      " #   Column          Non-Null Count  Dtype  \n",
      "---  ------          --------------  -----  \n",
      " 0   Unnamed: 0      10840 non-null  int64  \n",
      " 1   App             10840 non-null  object \n",
      " 2   Category        10840 non-null  object \n",
      " 3   Rating          9366 non-null   float64\n",
      " 4   Reviews         10840 non-null  int64  \n",
      " 5   Size            10840 non-null  object \n",
      " 6   Installs        10840 non-null  object \n",
      " 7   Type            10839 non-null  object \n",
      " 8   Price           10840 non-null  object \n",
      " 9   Content Rating  10840 non-null  object \n",
      " 10  Genres          10840 non-null  object \n",
      " 11  Last Updated    10840 non-null  object \n",
      " 12  Current Ver     10832 non-null  object \n",
      " 13  Android Ver     10838 non-null  object \n",
      "dtypes: float64(1), int64(2), object(11)\n",
      "memory usage: 1.2+ MB\n"
     ]
    }
   ],
   "source": [
    "df.info()"
   ],
   "metadata": {
    "collapsed": false,
    "ExecuteTime": {
     "end_time": "2024-03-03T05:16:08.665776Z",
     "start_time": "2024-03-03T05:16:08.654859Z"
    }
   },
   "id": "5784bfdc9e23661f",
   "execution_count": 18
  },
  {
   "cell_type": "code",
   "outputs": [
    {
     "name": "stderr",
     "output_type": "stream",
     "text": [
      "C:\\Users\\Пользователь\\AppData\\Local\\Temp\\ipykernel_12804\\4087301181.py:1: FutureWarning: A value is trying to be set on a copy of a DataFrame or Series through chained assignment using an inplace method.\n",
      "The behavior will change in pandas 3.0. This inplace method will never work because the intermediate object on which we are setting values always behaves as a copy.\n",
      "\n",
      "For example, when doing 'df[col].method(value, inplace=True)', try using 'df.method({col: value}, inplace=True)' or df[col] = df[col].method(value) instead, to perform the operation inplace on the original object.\n",
      "\n",
      "\n",
      "  df['Rating'].fillna(-1, inplace=True)\n"
     ]
    }
   ],
   "source": [
    "df['Rating'].fillna(-1, inplace=True)"
   ],
   "metadata": {
    "collapsed": false,
    "ExecuteTime": {
     "end_time": "2024-03-03T05:16:54.247715Z",
     "start_time": "2024-03-03T05:16:54.243509Z"
    }
   },
   "id": "2c73a8165311c352",
   "execution_count": 19
  },
  {
   "cell_type": "code",
   "outputs": [
    {
     "name": "stdout",
     "output_type": "stream",
     "text": [
      "<class 'pandas.core.frame.DataFrame'>\n",
      "RangeIndex: 10840 entries, 0 to 10839\n",
      "Data columns (total 14 columns):\n",
      " #   Column          Non-Null Count  Dtype  \n",
      "---  ------          --------------  -----  \n",
      " 0   Unnamed: 0      10840 non-null  int64  \n",
      " 1   App             10840 non-null  object \n",
      " 2   Category        10840 non-null  object \n",
      " 3   Rating          10840 non-null  float64\n",
      " 4   Reviews         10840 non-null  int64  \n",
      " 5   Size            10840 non-null  object \n",
      " 6   Installs        10840 non-null  object \n",
      " 7   Type            10839 non-null  object \n",
      " 8   Price           10840 non-null  object \n",
      " 9   Content Rating  10840 non-null  object \n",
      " 10  Genres          10840 non-null  object \n",
      " 11  Last Updated    10840 non-null  object \n",
      " 12  Current Ver     10832 non-null  object \n",
      " 13  Android Ver     10838 non-null  object \n",
      "dtypes: float64(1), int64(2), object(11)\n",
      "memory usage: 1.2+ MB\n"
     ]
    }
   ],
   "source": [
    "df.info()"
   ],
   "metadata": {
    "collapsed": false,
    "ExecuteTime": {
     "end_time": "2024-03-03T05:17:28.822968Z",
     "start_time": "2024-03-03T05:17:28.813218Z"
    }
   },
   "id": "a896c585c7305612",
   "execution_count": 20
  },
  {
   "cell_type": "code",
   "outputs": [
    {
     "name": "stderr",
     "output_type": "stream",
     "text": [
      "C:\\Users\\Пользователь\\AppData\\Local\\Temp\\ipykernel_12804\\2361913248.py:1: FutureWarning: A value is trying to be set on a copy of a DataFrame or Series through chained assignment using an inplace method.\n",
      "The behavior will change in pandas 3.0. This inplace method will never work because the intermediate object on which we are setting values always behaves as a copy.\n",
      "\n",
      "For example, when doing 'df[col].method(value, inplace=True)', try using 'df.method({col: value}, inplace=True)' or df[col] = df[col].method(value) instead, to perform the operation inplace on the original object.\n",
      "\n",
      "\n",
      "  df['Current Ver'].fillna(1, inplace=True)\n"
     ]
    }
   ],
   "source": [
    "df['Current Ver'].fillna(1, inplace=True)"
   ],
   "metadata": {
    "collapsed": false,
    "ExecuteTime": {
     "end_time": "2024-03-03T05:20:59.768991Z",
     "start_time": "2024-03-03T05:20:59.762176Z"
    }
   },
   "id": "a8880b5358e00880",
   "execution_count": 21
  },
  {
   "cell_type": "code",
   "outputs": [
    {
     "data": {
      "text/plain": "       Unnamed: 0                                            App  \\\n10835       10836                               Sya9a Maroc - FR   \n10836       10837               Fr. Mike Schmitz Audio Teachings   \n10837       10838                         Parkinson Exercices FR   \n10838       10839                  The SCP Foundation DB fr nn5n   \n10839       10840  iHoroscope - 2018 Daily Horoscope & Astrology   \n\n                  Category  Rating  Reviews                Size     Installs  \\\n10835               FAMILY     4.5       38                 53M       5,000+   \n10836               FAMILY     5.0        4                3.6M         100+   \n10837              MEDICAL    -1.0        3                9.5M       1,000+   \n10838  BOOKS_AND_REFERENCE     4.5      114  Varies with device       1,000+   \n10839            LIFESTYLE     4.5   398307                 19M  10,000,000+   \n\n       Type Price Content Rating             Genres      Last Updated  \\\n10835  Free     0       Everyone          Education     July 25, 2017   \n10836  Free     0       Everyone          Education      July 6, 2018   \n10837  Free     0       Everyone            Medical  January 20, 2017   \n10838  Free     0     Mature 17+  Books & Reference  January 19, 2015   \n10839  Free     0       Everyone          Lifestyle     July 25, 2018   \n\n              Current Ver         Android Ver  \n10835                1.48          4.1 and up  \n10836                 1.0          4.1 and up  \n10837                 1.0          2.2 and up  \n10838  Varies with device  Varies with device  \n10839  Varies with device  Varies with device  ",
      "text/html": "<div>\n<style scoped>\n    .dataframe tbody tr th:only-of-type {\n        vertical-align: middle;\n    }\n\n    .dataframe tbody tr th {\n        vertical-align: top;\n    }\n\n    .dataframe thead th {\n        text-align: right;\n    }\n</style>\n<table border=\"1\" class=\"dataframe\">\n  <thead>\n    <tr style=\"text-align: right;\">\n      <th></th>\n      <th>Unnamed: 0</th>\n      <th>App</th>\n      <th>Category</th>\n      <th>Rating</th>\n      <th>Reviews</th>\n      <th>Size</th>\n      <th>Installs</th>\n      <th>Type</th>\n      <th>Price</th>\n      <th>Content Rating</th>\n      <th>Genres</th>\n      <th>Last Updated</th>\n      <th>Current Ver</th>\n      <th>Android Ver</th>\n    </tr>\n  </thead>\n  <tbody>\n    <tr>\n      <th>10835</th>\n      <td>10836</td>\n      <td>Sya9a Maroc - FR</td>\n      <td>FAMILY</td>\n      <td>4.5</td>\n      <td>38</td>\n      <td>53M</td>\n      <td>5,000+</td>\n      <td>Free</td>\n      <td>0</td>\n      <td>Everyone</td>\n      <td>Education</td>\n      <td>July 25, 2017</td>\n      <td>1.48</td>\n      <td>4.1 and up</td>\n    </tr>\n    <tr>\n      <th>10836</th>\n      <td>10837</td>\n      <td>Fr. Mike Schmitz Audio Teachings</td>\n      <td>FAMILY</td>\n      <td>5.0</td>\n      <td>4</td>\n      <td>3.6M</td>\n      <td>100+</td>\n      <td>Free</td>\n      <td>0</td>\n      <td>Everyone</td>\n      <td>Education</td>\n      <td>July 6, 2018</td>\n      <td>1.0</td>\n      <td>4.1 and up</td>\n    </tr>\n    <tr>\n      <th>10837</th>\n      <td>10838</td>\n      <td>Parkinson Exercices FR</td>\n      <td>MEDICAL</td>\n      <td>-1.0</td>\n      <td>3</td>\n      <td>9.5M</td>\n      <td>1,000+</td>\n      <td>Free</td>\n      <td>0</td>\n      <td>Everyone</td>\n      <td>Medical</td>\n      <td>January 20, 2017</td>\n      <td>1.0</td>\n      <td>2.2 and up</td>\n    </tr>\n    <tr>\n      <th>10838</th>\n      <td>10839</td>\n      <td>The SCP Foundation DB fr nn5n</td>\n      <td>BOOKS_AND_REFERENCE</td>\n      <td>4.5</td>\n      <td>114</td>\n      <td>Varies with device</td>\n      <td>1,000+</td>\n      <td>Free</td>\n      <td>0</td>\n      <td>Mature 17+</td>\n      <td>Books &amp; Reference</td>\n      <td>January 19, 2015</td>\n      <td>Varies with device</td>\n      <td>Varies with device</td>\n    </tr>\n    <tr>\n      <th>10839</th>\n      <td>10840</td>\n      <td>iHoroscope - 2018 Daily Horoscope &amp; Astrology</td>\n      <td>LIFESTYLE</td>\n      <td>4.5</td>\n      <td>398307</td>\n      <td>19M</td>\n      <td>10,000,000+</td>\n      <td>Free</td>\n      <td>0</td>\n      <td>Everyone</td>\n      <td>Lifestyle</td>\n      <td>July 25, 2018</td>\n      <td>Varies with device</td>\n      <td>Varies with device</td>\n    </tr>\n  </tbody>\n</table>\n</div>"
     },
     "execution_count": 22,
     "metadata": {},
     "output_type": "execute_result"
    }
   ],
   "source": [
    "df.tail()"
   ],
   "metadata": {
    "collapsed": false,
    "ExecuteTime": {
     "end_time": "2024-03-03T05:21:21.666081Z",
     "start_time": "2024-03-03T05:21:21.654971Z"
    }
   },
   "id": "3c626c4409614dca",
   "execution_count": 22
  },
  {
   "cell_type": "code",
   "outputs": [
    {
     "name": "stderr",
     "output_type": "stream",
     "text": [
      "C:\\Users\\Пользователь\\AppData\\Local\\Temp\\ipykernel_12804\\1042433120.py:1: FutureWarning: A value is trying to be set on a copy of a DataFrame or Series through chained assignment using an inplace method.\n",
      "The behavior will change in pandas 3.0. This inplace method will never work because the intermediate object on which we are setting values always behaves as a copy.\n",
      "\n",
      "For example, when doing 'df[col].method(value, inplace=True)', try using 'df.method({col: value}, inplace=True)' or df[col] = df[col].method(value) instead, to perform the operation inplace on the original object.\n",
      "\n",
      "\n",
      "  df['Android Ver'].fillna('Any', inplace=True)\n"
     ]
    }
   ],
   "source": [
    "df['Android Ver'].fillna('Any', inplace=True)"
   ],
   "metadata": {
    "collapsed": false,
    "ExecuteTime": {
     "end_time": "2024-03-03T05:22:07.935081Z",
     "start_time": "2024-03-03T05:22:07.930082Z"
    }
   },
   "id": "fbcf4ebde6321ade",
   "execution_count": 23
  },
  {
   "cell_type": "code",
   "outputs": [
    {
     "name": "stdout",
     "output_type": "stream",
     "text": [
      "<class 'pandas.core.frame.DataFrame'>\n",
      "RangeIndex: 10840 entries, 0 to 10839\n",
      "Data columns (total 14 columns):\n",
      " #   Column          Non-Null Count  Dtype  \n",
      "---  ------          --------------  -----  \n",
      " 0   Unnamed: 0      10840 non-null  int64  \n",
      " 1   App             10840 non-null  object \n",
      " 2   Category        10840 non-null  object \n",
      " 3   Rating          10840 non-null  float64\n",
      " 4   Reviews         10840 non-null  int64  \n",
      " 5   Size            10840 non-null  object \n",
      " 6   Installs        10840 non-null  object \n",
      " 7   Type            10839 non-null  object \n",
      " 8   Price           10840 non-null  object \n",
      " 9   Content Rating  10840 non-null  object \n",
      " 10  Genres          10840 non-null  object \n",
      " 11  Last Updated    10840 non-null  object \n",
      " 12  Current Ver     10840 non-null  object \n",
      " 13  Android Ver     10840 non-null  object \n",
      "dtypes: float64(1), int64(2), object(11)\n",
      "memory usage: 1.2+ MB\n"
     ]
    }
   ],
   "source": [
    "df.info()"
   ],
   "metadata": {
    "collapsed": false,
    "ExecuteTime": {
     "end_time": "2024-03-03T05:22:39.946342Z",
     "start_time": "2024-03-03T05:22:39.934616Z"
    }
   },
   "id": "451c6b134b2eae57",
   "execution_count": 26
  },
  {
   "cell_type": "code",
   "outputs": [],
   "source": [
    "df = df.dropna()"
   ],
   "metadata": {
    "collapsed": false,
    "ExecuteTime": {
     "end_time": "2024-03-03T05:24:10.010336Z",
     "start_time": "2024-03-03T05:24:10.001991Z"
    }
   },
   "id": "c0fef90375cf51b1",
   "execution_count": 31
  },
  {
   "cell_type": "code",
   "outputs": [
    {
     "name": "stdout",
     "output_type": "stream",
     "text": [
      "<class 'pandas.core.frame.DataFrame'>\n",
      "Index: 10839 entries, 0 to 10839\n",
      "Data columns (total 14 columns):\n",
      " #   Column          Non-Null Count  Dtype  \n",
      "---  ------          --------------  -----  \n",
      " 0   Unnamed: 0      10839 non-null  int64  \n",
      " 1   App             10839 non-null  object \n",
      " 2   Category        10839 non-null  object \n",
      " 3   Rating          10839 non-null  float64\n",
      " 4   Reviews         10839 non-null  int64  \n",
      " 5   Size            10839 non-null  object \n",
      " 6   Installs        10839 non-null  object \n",
      " 7   Type            10839 non-null  object \n",
      " 8   Price           10839 non-null  object \n",
      " 9   Content Rating  10839 non-null  object \n",
      " 10  Genres          10839 non-null  object \n",
      " 11  Last Updated    10839 non-null  object \n",
      " 12  Current Ver     10839 non-null  object \n",
      " 13  Android Ver     10839 non-null  object \n",
      "dtypes: float64(1), int64(2), object(11)\n",
      "memory usage: 1.2+ MB\n"
     ]
    }
   ],
   "source": [
    "df.info()"
   ],
   "metadata": {
    "collapsed": false,
    "ExecuteTime": {
     "end_time": "2024-03-03T05:24:13.308580Z",
     "start_time": "2024-03-03T05:24:13.297697Z"
    }
   },
   "id": "143a92c872011b0f",
   "execution_count": 32
  },
  {
   "cell_type": "code",
   "outputs": [
    {
     "name": "stderr",
     "output_type": "stream",
     "text": [
      "C:\\Users\\Пользователь\\AppData\\Local\\Temp\\ipykernel_12804\\1203162581.py:1: SettingWithCopyWarning: \n",
      "A value is trying to be set on a copy of a slice from a DataFrame.\n",
      "Try using .loc[row_indexer,col_indexer] = value instead\n",
      "\n",
      "See the caveats in the documentation: https://pandas.pydata.org/pandas-docs/stable/user_guide/indexing.html#returning-a-view-versus-a-copy\n",
      "  df['Reviews'] = df['Reviews'].apply(int)\n"
     ]
    }
   ],
   "source": [
    "df['Reviews'] = df['Reviews'].apply(int)"
   ],
   "metadata": {
    "collapsed": false,
    "ExecuteTime": {
     "end_time": "2024-03-03T05:30:08.998201Z",
     "start_time": "2024-03-03T05:30:08.990384Z"
    }
   },
   "id": "4bb7e3f1fd53d43a",
   "execution_count": 33
  },
  {
   "cell_type": "code",
   "outputs": [
    {
     "name": "stdout",
     "output_type": "stream",
     "text": [
      "<class 'pandas.core.frame.DataFrame'>\n",
      "Index: 10839 entries, 0 to 10839\n",
      "Data columns (total 14 columns):\n",
      " #   Column          Non-Null Count  Dtype  \n",
      "---  ------          --------------  -----  \n",
      " 0   Unnamed: 0      10839 non-null  int64  \n",
      " 1   App             10839 non-null  object \n",
      " 2   Category        10839 non-null  object \n",
      " 3   Rating          10839 non-null  float64\n",
      " 4   Reviews         10839 non-null  int64  \n",
      " 5   Size            10839 non-null  object \n",
      " 6   Installs        10839 non-null  object \n",
      " 7   Type            10839 non-null  object \n",
      " 8   Price           10839 non-null  object \n",
      " 9   Content Rating  10839 non-null  object \n",
      " 10  Genres          10839 non-null  object \n",
      " 11  Last Updated    10839 non-null  object \n",
      " 12  Current Ver     10839 non-null  object \n",
      " 13  Android Ver     10839 non-null  object \n",
      "dtypes: float64(1), int64(2), object(11)\n",
      "memory usage: 1.2+ MB\n"
     ]
    }
   ],
   "source": [
    "df.info()"
   ],
   "metadata": {
    "collapsed": false,
    "ExecuteTime": {
     "end_time": "2024-03-03T05:30:27.563560Z",
     "start_time": "2024-03-03T05:30:27.553397Z"
    }
   },
   "id": "f9a551a87ee21e19",
   "execution_count": 34
  },
  {
   "cell_type": "code",
   "outputs": [],
   "source": [
    "def make_numbers(data):\n",
    "    data = str(data)\n",
    "    if data[0] == '$':\n",
    "        data = data[1:]\n",
    "        data = float(data)\n",
    "        return data\n",
    "    else:\n",
    "        return 0.0"
   ],
   "metadata": {
    "collapsed": false,
    "ExecuteTime": {
     "end_time": "2024-03-03T05:45:05.085474Z",
     "start_time": "2024-03-03T05:45:05.081333Z"
    }
   },
   "id": "5d6d6f7cd0c4390f",
   "execution_count": 35
  },
  {
   "cell_type": "code",
   "outputs": [
    {
     "name": "stderr",
     "output_type": "stream",
     "text": [
      "C:\\Users\\Пользователь\\AppData\\Local\\Temp\\ipykernel_12804\\1720737528.py:1: SettingWithCopyWarning: \n",
      "A value is trying to be set on a copy of a slice from a DataFrame.\n",
      "Try using .loc[row_indexer,col_indexer] = value instead\n",
      "\n",
      "See the caveats in the documentation: https://pandas.pydata.org/pandas-docs/stable/user_guide/indexing.html#returning-a-view-versus-a-copy\n",
      "  df['Price'] = df['Price'].apply(make_numbers)\n"
     ]
    }
   ],
   "source": [
    "df['Price'] = df['Price'].apply(make_numbers)"
   ],
   "metadata": {
    "collapsed": false,
    "ExecuteTime": {
     "end_time": "2024-03-03T05:45:48.781873Z",
     "start_time": "2024-03-03T05:45:48.774603Z"
    }
   },
   "id": "86dcbc7b2b31e024",
   "execution_count": 36
  },
  {
   "cell_type": "code",
   "outputs": [
    {
     "data": {
      "text/plain": "       Unnamed: 0                                                App  \\\n0               0     Photo Editor & Candy Camera & Grid & ScrapBook   \n1               1                                Coloring book moana   \n2               2  U Launcher Lite – FREE Live Cool Themes, Hide ...   \n3               3                              Sketch - Draw & Paint   \n4               4              Pixel Draw - Number Art Coloring Book   \n...           ...                                                ...   \n10835       10836                                   Sya9a Maroc - FR   \n10836       10837                   Fr. Mike Schmitz Audio Teachings   \n10837       10838                             Parkinson Exercices FR   \n10838       10839                      The SCP Foundation DB fr nn5n   \n10839       10840      iHoroscope - 2018 Daily Horoscope & Astrology   \n\n                  Category  Rating  Reviews                Size     Installs  \\\n0           ART_AND_DESIGN     4.1      159                 19M      10,000+   \n1           ART_AND_DESIGN     3.9      967                 14M     500,000+   \n2           ART_AND_DESIGN     4.7    87510                8.7M   5,000,000+   \n3           ART_AND_DESIGN     4.5   215644                 25M  50,000,000+   \n4           ART_AND_DESIGN     4.3      967                2.8M     100,000+   \n...                    ...     ...      ...                 ...          ...   \n10835               FAMILY     4.5       38                 53M       5,000+   \n10836               FAMILY     5.0        4                3.6M         100+   \n10837              MEDICAL    -1.0        3                9.5M       1,000+   \n10838  BOOKS_AND_REFERENCE     4.5      114  Varies with device       1,000+   \n10839            LIFESTYLE     4.5   398307                 19M  10,000,000+   \n\n       Type  Price Content Rating                     Genres  \\\n0      Free    0.0       Everyone               Art & Design   \n1      Free    0.0       Everyone  Art & Design;Pretend Play   \n2      Free    0.0       Everyone               Art & Design   \n3      Free    0.0           Teen               Art & Design   \n4      Free    0.0       Everyone    Art & Design;Creativity   \n...     ...    ...            ...                        ...   \n10835  Free    0.0       Everyone                  Education   \n10836  Free    0.0       Everyone                  Education   \n10837  Free    0.0       Everyone                    Medical   \n10838  Free    0.0     Mature 17+          Books & Reference   \n10839  Free    0.0       Everyone                  Lifestyle   \n\n           Last Updated         Current Ver         Android Ver  \n0       January 7, 2018               1.0.0        4.0.3 and up  \n1      January 15, 2018               2.0.0        4.0.3 and up  \n2        August 1, 2018               1.2.4        4.0.3 and up  \n3          June 8, 2018  Varies with device          4.2 and up  \n4         June 20, 2018                 1.1          4.4 and up  \n...                 ...                 ...                 ...  \n10835     July 25, 2017                1.48          4.1 and up  \n10836      July 6, 2018                 1.0          4.1 and up  \n10837  January 20, 2017                 1.0          2.2 and up  \n10838  January 19, 2015  Varies with device  Varies with device  \n10839     July 25, 2018  Varies with device  Varies with device  \n\n[10839 rows x 14 columns]",
      "text/html": "<div>\n<style scoped>\n    .dataframe tbody tr th:only-of-type {\n        vertical-align: middle;\n    }\n\n    .dataframe tbody tr th {\n        vertical-align: top;\n    }\n\n    .dataframe thead th {\n        text-align: right;\n    }\n</style>\n<table border=\"1\" class=\"dataframe\">\n  <thead>\n    <tr style=\"text-align: right;\">\n      <th></th>\n      <th>Unnamed: 0</th>\n      <th>App</th>\n      <th>Category</th>\n      <th>Rating</th>\n      <th>Reviews</th>\n      <th>Size</th>\n      <th>Installs</th>\n      <th>Type</th>\n      <th>Price</th>\n      <th>Content Rating</th>\n      <th>Genres</th>\n      <th>Last Updated</th>\n      <th>Current Ver</th>\n      <th>Android Ver</th>\n    </tr>\n  </thead>\n  <tbody>\n    <tr>\n      <th>0</th>\n      <td>0</td>\n      <td>Photo Editor &amp; Candy Camera &amp; Grid &amp; ScrapBook</td>\n      <td>ART_AND_DESIGN</td>\n      <td>4.1</td>\n      <td>159</td>\n      <td>19M</td>\n      <td>10,000+</td>\n      <td>Free</td>\n      <td>0.0</td>\n      <td>Everyone</td>\n      <td>Art &amp; Design</td>\n      <td>January 7, 2018</td>\n      <td>1.0.0</td>\n      <td>4.0.3 and up</td>\n    </tr>\n    <tr>\n      <th>1</th>\n      <td>1</td>\n      <td>Coloring book moana</td>\n      <td>ART_AND_DESIGN</td>\n      <td>3.9</td>\n      <td>967</td>\n      <td>14M</td>\n      <td>500,000+</td>\n      <td>Free</td>\n      <td>0.0</td>\n      <td>Everyone</td>\n      <td>Art &amp; Design;Pretend Play</td>\n      <td>January 15, 2018</td>\n      <td>2.0.0</td>\n      <td>4.0.3 and up</td>\n    </tr>\n    <tr>\n      <th>2</th>\n      <td>2</td>\n      <td>U Launcher Lite – FREE Live Cool Themes, Hide ...</td>\n      <td>ART_AND_DESIGN</td>\n      <td>4.7</td>\n      <td>87510</td>\n      <td>8.7M</td>\n      <td>5,000,000+</td>\n      <td>Free</td>\n      <td>0.0</td>\n      <td>Everyone</td>\n      <td>Art &amp; Design</td>\n      <td>August 1, 2018</td>\n      <td>1.2.4</td>\n      <td>4.0.3 and up</td>\n    </tr>\n    <tr>\n      <th>3</th>\n      <td>3</td>\n      <td>Sketch - Draw &amp; Paint</td>\n      <td>ART_AND_DESIGN</td>\n      <td>4.5</td>\n      <td>215644</td>\n      <td>25M</td>\n      <td>50,000,000+</td>\n      <td>Free</td>\n      <td>0.0</td>\n      <td>Teen</td>\n      <td>Art &amp; Design</td>\n      <td>June 8, 2018</td>\n      <td>Varies with device</td>\n      <td>4.2 and up</td>\n    </tr>\n    <tr>\n      <th>4</th>\n      <td>4</td>\n      <td>Pixel Draw - Number Art Coloring Book</td>\n      <td>ART_AND_DESIGN</td>\n      <td>4.3</td>\n      <td>967</td>\n      <td>2.8M</td>\n      <td>100,000+</td>\n      <td>Free</td>\n      <td>0.0</td>\n      <td>Everyone</td>\n      <td>Art &amp; Design;Creativity</td>\n      <td>June 20, 2018</td>\n      <td>1.1</td>\n      <td>4.4 and up</td>\n    </tr>\n    <tr>\n      <th>...</th>\n      <td>...</td>\n      <td>...</td>\n      <td>...</td>\n      <td>...</td>\n      <td>...</td>\n      <td>...</td>\n      <td>...</td>\n      <td>...</td>\n      <td>...</td>\n      <td>...</td>\n      <td>...</td>\n      <td>...</td>\n      <td>...</td>\n      <td>...</td>\n    </tr>\n    <tr>\n      <th>10835</th>\n      <td>10836</td>\n      <td>Sya9a Maroc - FR</td>\n      <td>FAMILY</td>\n      <td>4.5</td>\n      <td>38</td>\n      <td>53M</td>\n      <td>5,000+</td>\n      <td>Free</td>\n      <td>0.0</td>\n      <td>Everyone</td>\n      <td>Education</td>\n      <td>July 25, 2017</td>\n      <td>1.48</td>\n      <td>4.1 and up</td>\n    </tr>\n    <tr>\n      <th>10836</th>\n      <td>10837</td>\n      <td>Fr. Mike Schmitz Audio Teachings</td>\n      <td>FAMILY</td>\n      <td>5.0</td>\n      <td>4</td>\n      <td>3.6M</td>\n      <td>100+</td>\n      <td>Free</td>\n      <td>0.0</td>\n      <td>Everyone</td>\n      <td>Education</td>\n      <td>July 6, 2018</td>\n      <td>1.0</td>\n      <td>4.1 and up</td>\n    </tr>\n    <tr>\n      <th>10837</th>\n      <td>10838</td>\n      <td>Parkinson Exercices FR</td>\n      <td>MEDICAL</td>\n      <td>-1.0</td>\n      <td>3</td>\n      <td>9.5M</td>\n      <td>1,000+</td>\n      <td>Free</td>\n      <td>0.0</td>\n      <td>Everyone</td>\n      <td>Medical</td>\n      <td>January 20, 2017</td>\n      <td>1.0</td>\n      <td>2.2 and up</td>\n    </tr>\n    <tr>\n      <th>10838</th>\n      <td>10839</td>\n      <td>The SCP Foundation DB fr nn5n</td>\n      <td>BOOKS_AND_REFERENCE</td>\n      <td>4.5</td>\n      <td>114</td>\n      <td>Varies with device</td>\n      <td>1,000+</td>\n      <td>Free</td>\n      <td>0.0</td>\n      <td>Mature 17+</td>\n      <td>Books &amp; Reference</td>\n      <td>January 19, 2015</td>\n      <td>Varies with device</td>\n      <td>Varies with device</td>\n    </tr>\n    <tr>\n      <th>10839</th>\n      <td>10840</td>\n      <td>iHoroscope - 2018 Daily Horoscope &amp; Astrology</td>\n      <td>LIFESTYLE</td>\n      <td>4.5</td>\n      <td>398307</td>\n      <td>19M</td>\n      <td>10,000,000+</td>\n      <td>Free</td>\n      <td>0.0</td>\n      <td>Everyone</td>\n      <td>Lifestyle</td>\n      <td>July 25, 2018</td>\n      <td>Varies with device</td>\n      <td>Varies with device</td>\n    </tr>\n  </tbody>\n</table>\n<p>10839 rows × 14 columns</p>\n</div>"
     },
     "execution_count": 37,
     "metadata": {},
     "output_type": "execute_result"
    }
   ],
   "source": [
    "df"
   ],
   "metadata": {
    "collapsed": false,
    "ExecuteTime": {
     "end_time": "2024-03-03T05:45:55.638659Z",
     "start_time": "2024-03-03T05:45:55.622592Z"
    }
   },
   "id": "f7bb6a53ad90444e",
   "execution_count": 37
  },
  {
   "cell_type": "code",
   "outputs": [
    {
     "name": "stdout",
     "output_type": "stream",
     "text": [
      "<class 'pandas.core.frame.DataFrame'>\n",
      "Index: 10839 entries, 0 to 10839\n",
      "Data columns (total 14 columns):\n",
      " #   Column          Non-Null Count  Dtype  \n",
      "---  ------          --------------  -----  \n",
      " 0   Unnamed: 0      10839 non-null  int64  \n",
      " 1   App             10839 non-null  object \n",
      " 2   Category        10839 non-null  object \n",
      " 3   Rating          10839 non-null  float64\n",
      " 4   Reviews         10839 non-null  int64  \n",
      " 5   Size            10839 non-null  object \n",
      " 6   Installs        10839 non-null  object \n",
      " 7   Type            10839 non-null  object \n",
      " 8   Price           10839 non-null  float64\n",
      " 9   Content Rating  10839 non-null  object \n",
      " 10  Genres          10839 non-null  object \n",
      " 11  Last Updated    10839 non-null  object \n",
      " 12  Current Ver     10839 non-null  object \n",
      " 13  Android Ver     10839 non-null  object \n",
      "dtypes: float64(2), int64(2), object(10)\n",
      "memory usage: 1.2+ MB\n"
     ]
    }
   ],
   "source": [
    "df.info()"
   ],
   "metadata": {
    "collapsed": false,
    "ExecuteTime": {
     "end_time": "2024-03-03T05:47:07.200085Z",
     "start_time": "2024-03-03T05:47:07.188229Z"
    }
   },
   "id": "60c4a9d750b51291",
   "execution_count": 38
  },
  {
   "cell_type": "code",
   "outputs": [
    {
     "data": {
      "text/plain": "         Unnamed: 0        Rating       Reviews         Price\ncount  10839.000000  10839.000000  1.083900e+04  10839.000000\nmean    5419.189962      3.486207  4.441939e+05      1.027463\nstd     3129.379024      1.842528  2.927893e+06     15.950436\nmin        0.000000     -1.000000  0.000000e+00      0.000000\n25%     2709.500000      3.700000  3.800000e+01      0.000000\n50%     5419.000000      4.200000  2.094000e+03      0.000000\n75%     8128.500000      4.500000  5.478300e+04      0.000000\nmax    10840.000000      5.000000  7.815831e+07    400.000000",
      "text/html": "<div>\n<style scoped>\n    .dataframe tbody tr th:only-of-type {\n        vertical-align: middle;\n    }\n\n    .dataframe tbody tr th {\n        vertical-align: top;\n    }\n\n    .dataframe thead th {\n        text-align: right;\n    }\n</style>\n<table border=\"1\" class=\"dataframe\">\n  <thead>\n    <tr style=\"text-align: right;\">\n      <th></th>\n      <th>Unnamed: 0</th>\n      <th>Rating</th>\n      <th>Reviews</th>\n      <th>Price</th>\n    </tr>\n  </thead>\n  <tbody>\n    <tr>\n      <th>count</th>\n      <td>10839.000000</td>\n      <td>10839.000000</td>\n      <td>1.083900e+04</td>\n      <td>10839.000000</td>\n    </tr>\n    <tr>\n      <th>mean</th>\n      <td>5419.189962</td>\n      <td>3.486207</td>\n      <td>4.441939e+05</td>\n      <td>1.027463</td>\n    </tr>\n    <tr>\n      <th>std</th>\n      <td>3129.379024</td>\n      <td>1.842528</td>\n      <td>2.927893e+06</td>\n      <td>15.950436</td>\n    </tr>\n    <tr>\n      <th>min</th>\n      <td>0.000000</td>\n      <td>-1.000000</td>\n      <td>0.000000e+00</td>\n      <td>0.000000</td>\n    </tr>\n    <tr>\n      <th>25%</th>\n      <td>2709.500000</td>\n      <td>3.700000</td>\n      <td>3.800000e+01</td>\n      <td>0.000000</td>\n    </tr>\n    <tr>\n      <th>50%</th>\n      <td>5419.000000</td>\n      <td>4.200000</td>\n      <td>2.094000e+03</td>\n      <td>0.000000</td>\n    </tr>\n    <tr>\n      <th>75%</th>\n      <td>8128.500000</td>\n      <td>4.500000</td>\n      <td>5.478300e+04</td>\n      <td>0.000000</td>\n    </tr>\n    <tr>\n      <th>max</th>\n      <td>10840.000000</td>\n      <td>5.000000</td>\n      <td>7.815831e+07</td>\n      <td>400.000000</td>\n    </tr>\n  </tbody>\n</table>\n</div>"
     },
     "execution_count": 39,
     "metadata": {},
     "output_type": "execute_result"
    }
   ],
   "source": [
    "df.describe()"
   ],
   "metadata": {
    "collapsed": false,
    "ExecuteTime": {
     "end_time": "2024-03-03T05:49:22.484845Z",
     "start_time": "2024-03-03T05:49:22.468051Z"
    }
   },
   "id": "c6b6df3d363e0447",
   "execution_count": 39
  },
  {
   "cell_type": "code",
   "outputs": [],
   "source": [
    "def make_data(data):\n",
    "    # преобразуем к килобайтам\n",
    "    data = str(data)\n",
    "    if data[-1] == 'k':\n",
    "        data = data[0:-1:1]\n",
    "        return float(data)\n",
    "    elif data[-1] == 'M':\n",
    "        data = float(data[0:-1:1])\n",
    "        data = data * 1024\n",
    "        return float(data)\n",
    "    else:\n",
    "        return 0.0"
   ],
   "metadata": {
    "collapsed": false,
    "ExecuteTime": {
     "end_time": "2024-03-03T05:58:20.403592Z",
     "start_time": "2024-03-03T05:58:20.399384Z"
    }
   },
   "id": "11601fb82220317f",
   "execution_count": 43
  },
  {
   "cell_type": "code",
   "outputs": [
    {
     "name": "stderr",
     "output_type": "stream",
     "text": [
      "C:\\Users\\Пользователь\\AppData\\Local\\Temp\\ipykernel_12804\\3514295470.py:1: SettingWithCopyWarning: \n",
      "A value is trying to be set on a copy of a slice from a DataFrame.\n",
      "Try using .loc[row_indexer,col_indexer] = value instead\n",
      "\n",
      "See the caveats in the documentation: https://pandas.pydata.org/pandas-docs/stable/user_guide/indexing.html#returning-a-view-versus-a-copy\n",
      "  df['Size'] = df['Size'].apply(make_data)\n"
     ]
    }
   ],
   "source": [
    "df['Size'] = df['Size'].apply(make_data)"
   ],
   "metadata": {
    "collapsed": false,
    "ExecuteTime": {
     "end_time": "2024-03-03T05:58:58.618297Z",
     "start_time": "2024-03-03T05:58:58.608178Z"
    }
   },
   "id": "53ba3d49e4ca75ab",
   "execution_count": 44
  },
  {
   "cell_type": "code",
   "outputs": [
    {
     "data": {
      "text/plain": "       Unnamed: 0                                                App  \\\n0               0     Photo Editor & Candy Camera & Grid & ScrapBook   \n1               1                                Coloring book moana   \n2               2  U Launcher Lite – FREE Live Cool Themes, Hide ...   \n3               3                              Sketch - Draw & Paint   \n4               4              Pixel Draw - Number Art Coloring Book   \n...           ...                                                ...   \n10835       10836                                   Sya9a Maroc - FR   \n10836       10837                   Fr. Mike Schmitz Audio Teachings   \n10837       10838                             Parkinson Exercices FR   \n10838       10839                      The SCP Foundation DB fr nn5n   \n10839       10840      iHoroscope - 2018 Daily Horoscope & Astrology   \n\n                  Category  Rating  Reviews     Size     Installs  Type  \\\n0           ART_AND_DESIGN     4.1      159  19456.0      10,000+  Free   \n1           ART_AND_DESIGN     3.9      967  14336.0     500,000+  Free   \n2           ART_AND_DESIGN     4.7    87510   8908.8   5,000,000+  Free   \n3           ART_AND_DESIGN     4.5   215644  25600.0  50,000,000+  Free   \n4           ART_AND_DESIGN     4.3      967   2867.2     100,000+  Free   \n...                    ...     ...      ...      ...          ...   ...   \n10835               FAMILY     4.5       38  54272.0       5,000+  Free   \n10836               FAMILY     5.0        4   3686.4         100+  Free   \n10837              MEDICAL    -1.0        3   9728.0       1,000+  Free   \n10838  BOOKS_AND_REFERENCE     4.5      114      0.0       1,000+  Free   \n10839            LIFESTYLE     4.5   398307  19456.0  10,000,000+  Free   \n\n       Price Content Rating                     Genres      Last Updated  \\\n0        0.0       Everyone               Art & Design   January 7, 2018   \n1        0.0       Everyone  Art & Design;Pretend Play  January 15, 2018   \n2        0.0       Everyone               Art & Design    August 1, 2018   \n3        0.0           Teen               Art & Design      June 8, 2018   \n4        0.0       Everyone    Art & Design;Creativity     June 20, 2018   \n...      ...            ...                        ...               ...   \n10835    0.0       Everyone                  Education     July 25, 2017   \n10836    0.0       Everyone                  Education      July 6, 2018   \n10837    0.0       Everyone                    Medical  January 20, 2017   \n10838    0.0     Mature 17+          Books & Reference  January 19, 2015   \n10839    0.0       Everyone                  Lifestyle     July 25, 2018   \n\n              Current Ver         Android Ver  \n0                   1.0.0        4.0.3 and up  \n1                   2.0.0        4.0.3 and up  \n2                   1.2.4        4.0.3 and up  \n3      Varies with device          4.2 and up  \n4                     1.1          4.4 and up  \n...                   ...                 ...  \n10835                1.48          4.1 and up  \n10836                 1.0          4.1 and up  \n10837                 1.0          2.2 and up  \n10838  Varies with device  Varies with device  \n10839  Varies with device  Varies with device  \n\n[10839 rows x 14 columns]",
      "text/html": "<div>\n<style scoped>\n    .dataframe tbody tr th:only-of-type {\n        vertical-align: middle;\n    }\n\n    .dataframe tbody tr th {\n        vertical-align: top;\n    }\n\n    .dataframe thead th {\n        text-align: right;\n    }\n</style>\n<table border=\"1\" class=\"dataframe\">\n  <thead>\n    <tr style=\"text-align: right;\">\n      <th></th>\n      <th>Unnamed: 0</th>\n      <th>App</th>\n      <th>Category</th>\n      <th>Rating</th>\n      <th>Reviews</th>\n      <th>Size</th>\n      <th>Installs</th>\n      <th>Type</th>\n      <th>Price</th>\n      <th>Content Rating</th>\n      <th>Genres</th>\n      <th>Last Updated</th>\n      <th>Current Ver</th>\n      <th>Android Ver</th>\n    </tr>\n  </thead>\n  <tbody>\n    <tr>\n      <th>0</th>\n      <td>0</td>\n      <td>Photo Editor &amp; Candy Camera &amp; Grid &amp; ScrapBook</td>\n      <td>ART_AND_DESIGN</td>\n      <td>4.1</td>\n      <td>159</td>\n      <td>19456.0</td>\n      <td>10,000+</td>\n      <td>Free</td>\n      <td>0.0</td>\n      <td>Everyone</td>\n      <td>Art &amp; Design</td>\n      <td>January 7, 2018</td>\n      <td>1.0.0</td>\n      <td>4.0.3 and up</td>\n    </tr>\n    <tr>\n      <th>1</th>\n      <td>1</td>\n      <td>Coloring book moana</td>\n      <td>ART_AND_DESIGN</td>\n      <td>3.9</td>\n      <td>967</td>\n      <td>14336.0</td>\n      <td>500,000+</td>\n      <td>Free</td>\n      <td>0.0</td>\n      <td>Everyone</td>\n      <td>Art &amp; Design;Pretend Play</td>\n      <td>January 15, 2018</td>\n      <td>2.0.0</td>\n      <td>4.0.3 and up</td>\n    </tr>\n    <tr>\n      <th>2</th>\n      <td>2</td>\n      <td>U Launcher Lite – FREE Live Cool Themes, Hide ...</td>\n      <td>ART_AND_DESIGN</td>\n      <td>4.7</td>\n      <td>87510</td>\n      <td>8908.8</td>\n      <td>5,000,000+</td>\n      <td>Free</td>\n      <td>0.0</td>\n      <td>Everyone</td>\n      <td>Art &amp; Design</td>\n      <td>August 1, 2018</td>\n      <td>1.2.4</td>\n      <td>4.0.3 and up</td>\n    </tr>\n    <tr>\n      <th>3</th>\n      <td>3</td>\n      <td>Sketch - Draw &amp; Paint</td>\n      <td>ART_AND_DESIGN</td>\n      <td>4.5</td>\n      <td>215644</td>\n      <td>25600.0</td>\n      <td>50,000,000+</td>\n      <td>Free</td>\n      <td>0.0</td>\n      <td>Teen</td>\n      <td>Art &amp; Design</td>\n      <td>June 8, 2018</td>\n      <td>Varies with device</td>\n      <td>4.2 and up</td>\n    </tr>\n    <tr>\n      <th>4</th>\n      <td>4</td>\n      <td>Pixel Draw - Number Art Coloring Book</td>\n      <td>ART_AND_DESIGN</td>\n      <td>4.3</td>\n      <td>967</td>\n      <td>2867.2</td>\n      <td>100,000+</td>\n      <td>Free</td>\n      <td>0.0</td>\n      <td>Everyone</td>\n      <td>Art &amp; Design;Creativity</td>\n      <td>June 20, 2018</td>\n      <td>1.1</td>\n      <td>4.4 and up</td>\n    </tr>\n    <tr>\n      <th>...</th>\n      <td>...</td>\n      <td>...</td>\n      <td>...</td>\n      <td>...</td>\n      <td>...</td>\n      <td>...</td>\n      <td>...</td>\n      <td>...</td>\n      <td>...</td>\n      <td>...</td>\n      <td>...</td>\n      <td>...</td>\n      <td>...</td>\n      <td>...</td>\n    </tr>\n    <tr>\n      <th>10835</th>\n      <td>10836</td>\n      <td>Sya9a Maroc - FR</td>\n      <td>FAMILY</td>\n      <td>4.5</td>\n      <td>38</td>\n      <td>54272.0</td>\n      <td>5,000+</td>\n      <td>Free</td>\n      <td>0.0</td>\n      <td>Everyone</td>\n      <td>Education</td>\n      <td>July 25, 2017</td>\n      <td>1.48</td>\n      <td>4.1 and up</td>\n    </tr>\n    <tr>\n      <th>10836</th>\n      <td>10837</td>\n      <td>Fr. Mike Schmitz Audio Teachings</td>\n      <td>FAMILY</td>\n      <td>5.0</td>\n      <td>4</td>\n      <td>3686.4</td>\n      <td>100+</td>\n      <td>Free</td>\n      <td>0.0</td>\n      <td>Everyone</td>\n      <td>Education</td>\n      <td>July 6, 2018</td>\n      <td>1.0</td>\n      <td>4.1 and up</td>\n    </tr>\n    <tr>\n      <th>10837</th>\n      <td>10838</td>\n      <td>Parkinson Exercices FR</td>\n      <td>MEDICAL</td>\n      <td>-1.0</td>\n      <td>3</td>\n      <td>9728.0</td>\n      <td>1,000+</td>\n      <td>Free</td>\n      <td>0.0</td>\n      <td>Everyone</td>\n      <td>Medical</td>\n      <td>January 20, 2017</td>\n      <td>1.0</td>\n      <td>2.2 and up</td>\n    </tr>\n    <tr>\n      <th>10838</th>\n      <td>10839</td>\n      <td>The SCP Foundation DB fr nn5n</td>\n      <td>BOOKS_AND_REFERENCE</td>\n      <td>4.5</td>\n      <td>114</td>\n      <td>0.0</td>\n      <td>1,000+</td>\n      <td>Free</td>\n      <td>0.0</td>\n      <td>Mature 17+</td>\n      <td>Books &amp; Reference</td>\n      <td>January 19, 2015</td>\n      <td>Varies with device</td>\n      <td>Varies with device</td>\n    </tr>\n    <tr>\n      <th>10839</th>\n      <td>10840</td>\n      <td>iHoroscope - 2018 Daily Horoscope &amp; Astrology</td>\n      <td>LIFESTYLE</td>\n      <td>4.5</td>\n      <td>398307</td>\n      <td>19456.0</td>\n      <td>10,000,000+</td>\n      <td>Free</td>\n      <td>0.0</td>\n      <td>Everyone</td>\n      <td>Lifestyle</td>\n      <td>July 25, 2018</td>\n      <td>Varies with device</td>\n      <td>Varies with device</td>\n    </tr>\n  </tbody>\n</table>\n<p>10839 rows × 14 columns</p>\n</div>"
     },
     "execution_count": 45,
     "metadata": {},
     "output_type": "execute_result"
    }
   ],
   "source": [
    "df"
   ],
   "metadata": {
    "collapsed": false,
    "ExecuteTime": {
     "end_time": "2024-03-03T05:59:07.829631Z",
     "start_time": "2024-03-03T05:59:07.815708Z"
    }
   },
   "id": "fe9d84a20886f3c6",
   "execution_count": 45
  },
  {
   "cell_type": "code",
   "outputs": [
    {
     "name": "stdout",
     "output_type": "stream",
     "text": [
      "<class 'pandas.core.frame.DataFrame'>\n",
      "Index: 10839 entries, 0 to 10839\n",
      "Data columns (total 14 columns):\n",
      " #   Column          Non-Null Count  Dtype  \n",
      "---  ------          --------------  -----  \n",
      " 0   Unnamed: 0      10839 non-null  int64  \n",
      " 1   App             10839 non-null  object \n",
      " 2   Category        10839 non-null  object \n",
      " 3   Rating          10839 non-null  float64\n",
      " 4   Reviews         10839 non-null  int64  \n",
      " 5   Size            10839 non-null  float64\n",
      " 6   Installs        10839 non-null  object \n",
      " 7   Type            10839 non-null  object \n",
      " 8   Price           10839 non-null  float64\n",
      " 9   Content Rating  10839 non-null  object \n",
      " 10  Genres          10839 non-null  object \n",
      " 11  Last Updated    10839 non-null  object \n",
      " 12  Current Ver     10839 non-null  object \n",
      " 13  Android Ver     10839 non-null  object \n",
      "dtypes: float64(3), int64(2), object(9)\n",
      "memory usage: 1.2+ MB\n"
     ]
    }
   ],
   "source": [
    "df.info()"
   ],
   "metadata": {
    "collapsed": false,
    "ExecuteTime": {
     "end_time": "2024-03-03T06:02:18.639481Z",
     "start_time": "2024-03-03T06:02:18.630077Z"
    }
   },
   "id": "1a6d54804cfbc48",
   "execution_count": 46
  },
  {
   "cell_type": "code",
   "outputs": [],
   "source": [
    "def make_installs(data):\n",
    "    data = str(data)\n",
    "    data = data.replace(',', '').replace('.', '').replace('+', '')\n",
    "    return float(data)"
   ],
   "metadata": {
    "collapsed": false,
    "ExecuteTime": {
     "end_time": "2024-03-03T06:05:16.835068Z",
     "start_time": "2024-03-03T06:05:16.830798Z"
    }
   },
   "id": "24b2eeda9fcc833f",
   "execution_count": 49
  },
  {
   "cell_type": "code",
   "outputs": [
    {
     "name": "stderr",
     "output_type": "stream",
     "text": [
      "C:\\Users\\Пользователь\\AppData\\Local\\Temp\\ipykernel_12804\\2617708745.py:1: SettingWithCopyWarning: \n",
      "A value is trying to be set on a copy of a slice from a DataFrame.\n",
      "Try using .loc[row_indexer,col_indexer] = value instead\n",
      "\n",
      "See the caveats in the documentation: https://pandas.pydata.org/pandas-docs/stable/user_guide/indexing.html#returning-a-view-versus-a-copy\n",
      "  df['Installs'] = df['Installs'].apply(make_installs)\n"
     ]
    }
   ],
   "source": [
    "df['Installs'] = df['Installs'].apply(make_installs)"
   ],
   "metadata": {
    "collapsed": false,
    "ExecuteTime": {
     "end_time": "2024-03-03T06:05:53.888421Z",
     "start_time": "2024-03-03T06:05:53.880491Z"
    }
   },
   "id": "dd3c03c6346ccb82",
   "execution_count": 51
  },
  {
   "cell_type": "code",
   "outputs": [
    {
     "name": "stdout",
     "output_type": "stream",
     "text": [
      "<class 'pandas.core.frame.DataFrame'>\n",
      "Index: 10839 entries, 0 to 10839\n",
      "Data columns (total 14 columns):\n",
      " #   Column          Non-Null Count  Dtype  \n",
      "---  ------          --------------  -----  \n",
      " 0   Unnamed: 0      10839 non-null  int64  \n",
      " 1   App             10839 non-null  object \n",
      " 2   Category        10839 non-null  object \n",
      " 3   Rating          10839 non-null  float64\n",
      " 4   Reviews         10839 non-null  int64  \n",
      " 5   Size            10839 non-null  float64\n",
      " 6   Installs        10839 non-null  float64\n",
      " 7   Type            10839 non-null  object \n",
      " 8   Price           10839 non-null  float64\n",
      " 9   Content Rating  10839 non-null  object \n",
      " 10  Genres          10839 non-null  object \n",
      " 11  Last Updated    10839 non-null  object \n",
      " 12  Current Ver     10839 non-null  object \n",
      " 13  Android Ver     10839 non-null  object \n",
      "dtypes: float64(4), int64(2), object(8)\n",
      "memory usage: 1.2+ MB\n"
     ]
    }
   ],
   "source": [
    "df.info()"
   ],
   "metadata": {
    "collapsed": false,
    "ExecuteTime": {
     "end_time": "2024-03-03T06:06:01.487958Z",
     "start_time": "2024-03-03T06:06:01.476761Z"
    }
   },
   "id": "e1f80aa62cd73902",
   "execution_count": 52
  },
  {
   "cell_type": "markdown",
   "source": [
    "1. Вычисли, сколько долларов разработчики заработали на каждом платном приложении.\n",
    "2. Чему равен максимальный доход ('Profit') среди платных приложений (Type == 'Paid')?"
   ],
   "metadata": {
    "collapsed": false
   },
   "id": "d864cc9f2cc4ef6e"
  },
  {
   "cell_type": "code",
   "outputs": [
    {
     "name": "stderr",
     "output_type": "stream",
     "text": [
      "C:\\Users\\Пользователь\\AppData\\Local\\Temp\\ipykernel_12804\\1584461269.py:1: SettingWithCopyWarning: \n",
      "A value is trying to be set on a copy of a slice from a DataFrame.\n",
      "Try using .loc[row_indexer,col_indexer] = value instead\n",
      "\n",
      "See the caveats in the documentation: https://pandas.pydata.org/pandas-docs/stable/user_guide/indexing.html#returning-a-view-versus-a-copy\n",
      "  df['Profit'] = df['Price'] * df['Installs']\n"
     ]
    }
   ],
   "source": [
    "df['Profit'] = df['Price'] * df['Installs']"
   ],
   "metadata": {
    "collapsed": false,
    "ExecuteTime": {
     "end_time": "2024-03-03T06:14:21.183549Z",
     "start_time": "2024-03-03T06:14:21.178768Z"
    }
   },
   "id": "12bf77b738aa53b4",
   "execution_count": 53
  },
  {
   "cell_type": "code",
   "outputs": [
    {
     "name": "stdout",
     "output_type": "stream",
     "text": [
      "<class 'pandas.core.frame.DataFrame'>\n",
      "Index: 10839 entries, 0 to 10839\n",
      "Data columns (total 15 columns):\n",
      " #   Column          Non-Null Count  Dtype  \n",
      "---  ------          --------------  -----  \n",
      " 0   Unnamed: 0      10839 non-null  int64  \n",
      " 1   App             10839 non-null  object \n",
      " 2   Category        10839 non-null  object \n",
      " 3   Rating          10839 non-null  float64\n",
      " 4   Reviews         10839 non-null  int64  \n",
      " 5   Size            10839 non-null  float64\n",
      " 6   Installs        10839 non-null  float64\n",
      " 7   Type            10839 non-null  object \n",
      " 8   Price           10839 non-null  float64\n",
      " 9   Content Rating  10839 non-null  object \n",
      " 10  Genres          10839 non-null  object \n",
      " 11  Last Updated    10839 non-null  object \n",
      " 12  Current Ver     10839 non-null  object \n",
      " 13  Android Ver     10839 non-null  object \n",
      " 14  Profit          10839 non-null  float64\n",
      "dtypes: float64(5), int64(2), object(8)\n",
      "memory usage: 1.3+ MB\n"
     ]
    }
   ],
   "source": [
    "df.info()"
   ],
   "metadata": {
    "collapsed": false,
    "ExecuteTime": {
     "end_time": "2024-03-03T06:14:30.685273Z",
     "start_time": "2024-03-03T06:14:30.672585Z"
    }
   },
   "id": "d29bbdc57b2150d5",
   "execution_count": 54
  },
  {
   "cell_type": "code",
   "outputs": [
    {
     "data": {
      "text/plain": "388629445.79"
     },
     "execution_count": 55,
     "metadata": {},
     "output_type": "execute_result"
    }
   ],
   "source": [
    "df['Profit'].sum()"
   ],
   "metadata": {
    "collapsed": false,
    "ExecuteTime": {
     "end_time": "2024-03-03T06:16:12.459104Z",
     "start_time": "2024-03-03T06:16:12.452819Z"
    }
   },
   "id": "5adbc3d2569e6cee",
   "execution_count": 55
  },
  {
   "cell_type": "code",
   "outputs": [
    {
     "data": {
      "text/plain": "69900000.0"
     },
     "execution_count": 57,
     "metadata": {},
     "output_type": "execute_result"
    }
   ],
   "source": [
    "df[df['Type'] == 'Paid']['Profit'].max()"
   ],
   "metadata": {
    "collapsed": false,
    "ExecuteTime": {
     "end_time": "2024-03-03T06:17:28.345426Z",
     "start_time": "2024-03-03T06:17:28.339249Z"
    }
   },
   "id": "332e240296c5794",
   "execution_count": 57
  },
  {
   "cell_type": "code",
   "outputs": [
    {
     "data": {
      "text/plain": "       Unnamed: 0                                                App  \\\n0               0     Photo Editor & Candy Camera & Grid & ScrapBook   \n1               1                                Coloring book moana   \n2               2  U Launcher Lite – FREE Live Cool Themes, Hide ...   \n3               3                              Sketch - Draw & Paint   \n4               4              Pixel Draw - Number Art Coloring Book   \n...           ...                                                ...   \n10835       10836                                   Sya9a Maroc - FR   \n10836       10837                   Fr. Mike Schmitz Audio Teachings   \n10837       10838                             Parkinson Exercices FR   \n10838       10839                      The SCP Foundation DB fr nn5n   \n10839       10840      iHoroscope - 2018 Daily Horoscope & Astrology   \n\n                  Category  Rating  Reviews     Size    Installs  Type  Price  \\\n0           ART_AND_DESIGN     4.1      159  19456.0     10000.0  Free    0.0   \n1           ART_AND_DESIGN     3.9      967  14336.0    500000.0  Free    0.0   \n2           ART_AND_DESIGN     4.7    87510   8908.8   5000000.0  Free    0.0   \n3           ART_AND_DESIGN     4.5   215644  25600.0  50000000.0  Free    0.0   \n4           ART_AND_DESIGN     4.3      967   2867.2    100000.0  Free    0.0   \n...                    ...     ...      ...      ...         ...   ...    ...   \n10835               FAMILY     4.5       38  54272.0      5000.0  Free    0.0   \n10836               FAMILY     5.0        4   3686.4       100.0  Free    0.0   \n10837              MEDICAL    -1.0        3   9728.0      1000.0  Free    0.0   \n10838  BOOKS_AND_REFERENCE     4.5      114      0.0      1000.0  Free    0.0   \n10839            LIFESTYLE     4.5   398307  19456.0  10000000.0  Free    0.0   \n\n      Content Rating                     Genres      Last Updated  \\\n0           Everyone               Art & Design   January 7, 2018   \n1           Everyone  Art & Design;Pretend Play  January 15, 2018   \n2           Everyone               Art & Design    August 1, 2018   \n3               Teen               Art & Design      June 8, 2018   \n4           Everyone    Art & Design;Creativity     June 20, 2018   \n...              ...                        ...               ...   \n10835       Everyone                  Education     July 25, 2017   \n10836       Everyone                  Education      July 6, 2018   \n10837       Everyone                    Medical  January 20, 2017   \n10838     Mature 17+          Books & Reference  January 19, 2015   \n10839       Everyone                  Lifestyle     July 25, 2018   \n\n              Current Ver         Android Ver  Profit  \n0                   1.0.0        4.0.3 and up     0.0  \n1                   2.0.0        4.0.3 and up     0.0  \n2                   1.2.4        4.0.3 and up     0.0  \n3      Varies with device          4.2 and up     0.0  \n4                     1.1          4.4 and up     0.0  \n...                   ...                 ...     ...  \n10835                1.48          4.1 and up     0.0  \n10836                 1.0          4.1 and up     0.0  \n10837                 1.0          2.2 and up     0.0  \n10838  Varies with device  Varies with device     0.0  \n10839  Varies with device  Varies with device     0.0  \n\n[10839 rows x 15 columns]",
      "text/html": "<div>\n<style scoped>\n    .dataframe tbody tr th:only-of-type {\n        vertical-align: middle;\n    }\n\n    .dataframe tbody tr th {\n        vertical-align: top;\n    }\n\n    .dataframe thead th {\n        text-align: right;\n    }\n</style>\n<table border=\"1\" class=\"dataframe\">\n  <thead>\n    <tr style=\"text-align: right;\">\n      <th></th>\n      <th>Unnamed: 0</th>\n      <th>App</th>\n      <th>Category</th>\n      <th>Rating</th>\n      <th>Reviews</th>\n      <th>Size</th>\n      <th>Installs</th>\n      <th>Type</th>\n      <th>Price</th>\n      <th>Content Rating</th>\n      <th>Genres</th>\n      <th>Last Updated</th>\n      <th>Current Ver</th>\n      <th>Android Ver</th>\n      <th>Profit</th>\n    </tr>\n  </thead>\n  <tbody>\n    <tr>\n      <th>0</th>\n      <td>0</td>\n      <td>Photo Editor &amp; Candy Camera &amp; Grid &amp; ScrapBook</td>\n      <td>ART_AND_DESIGN</td>\n      <td>4.1</td>\n      <td>159</td>\n      <td>19456.0</td>\n      <td>10000.0</td>\n      <td>Free</td>\n      <td>0.0</td>\n      <td>Everyone</td>\n      <td>Art &amp; Design</td>\n      <td>January 7, 2018</td>\n      <td>1.0.0</td>\n      <td>4.0.3 and up</td>\n      <td>0.0</td>\n    </tr>\n    <tr>\n      <th>1</th>\n      <td>1</td>\n      <td>Coloring book moana</td>\n      <td>ART_AND_DESIGN</td>\n      <td>3.9</td>\n      <td>967</td>\n      <td>14336.0</td>\n      <td>500000.0</td>\n      <td>Free</td>\n      <td>0.0</td>\n      <td>Everyone</td>\n      <td>Art &amp; Design;Pretend Play</td>\n      <td>January 15, 2018</td>\n      <td>2.0.0</td>\n      <td>4.0.3 and up</td>\n      <td>0.0</td>\n    </tr>\n    <tr>\n      <th>2</th>\n      <td>2</td>\n      <td>U Launcher Lite – FREE Live Cool Themes, Hide ...</td>\n      <td>ART_AND_DESIGN</td>\n      <td>4.7</td>\n      <td>87510</td>\n      <td>8908.8</td>\n      <td>5000000.0</td>\n      <td>Free</td>\n      <td>0.0</td>\n      <td>Everyone</td>\n      <td>Art &amp; Design</td>\n      <td>August 1, 2018</td>\n      <td>1.2.4</td>\n      <td>4.0.3 and up</td>\n      <td>0.0</td>\n    </tr>\n    <tr>\n      <th>3</th>\n      <td>3</td>\n      <td>Sketch - Draw &amp; Paint</td>\n      <td>ART_AND_DESIGN</td>\n      <td>4.5</td>\n      <td>215644</td>\n      <td>25600.0</td>\n      <td>50000000.0</td>\n      <td>Free</td>\n      <td>0.0</td>\n      <td>Teen</td>\n      <td>Art &amp; Design</td>\n      <td>June 8, 2018</td>\n      <td>Varies with device</td>\n      <td>4.2 and up</td>\n      <td>0.0</td>\n    </tr>\n    <tr>\n      <th>4</th>\n      <td>4</td>\n      <td>Pixel Draw - Number Art Coloring Book</td>\n      <td>ART_AND_DESIGN</td>\n      <td>4.3</td>\n      <td>967</td>\n      <td>2867.2</td>\n      <td>100000.0</td>\n      <td>Free</td>\n      <td>0.0</td>\n      <td>Everyone</td>\n      <td>Art &amp; Design;Creativity</td>\n      <td>June 20, 2018</td>\n      <td>1.1</td>\n      <td>4.4 and up</td>\n      <td>0.0</td>\n    </tr>\n    <tr>\n      <th>...</th>\n      <td>...</td>\n      <td>...</td>\n      <td>...</td>\n      <td>...</td>\n      <td>...</td>\n      <td>...</td>\n      <td>...</td>\n      <td>...</td>\n      <td>...</td>\n      <td>...</td>\n      <td>...</td>\n      <td>...</td>\n      <td>...</td>\n      <td>...</td>\n      <td>...</td>\n    </tr>\n    <tr>\n      <th>10835</th>\n      <td>10836</td>\n      <td>Sya9a Maroc - FR</td>\n      <td>FAMILY</td>\n      <td>4.5</td>\n      <td>38</td>\n      <td>54272.0</td>\n      <td>5000.0</td>\n      <td>Free</td>\n      <td>0.0</td>\n      <td>Everyone</td>\n      <td>Education</td>\n      <td>July 25, 2017</td>\n      <td>1.48</td>\n      <td>4.1 and up</td>\n      <td>0.0</td>\n    </tr>\n    <tr>\n      <th>10836</th>\n      <td>10837</td>\n      <td>Fr. Mike Schmitz Audio Teachings</td>\n      <td>FAMILY</td>\n      <td>5.0</td>\n      <td>4</td>\n      <td>3686.4</td>\n      <td>100.0</td>\n      <td>Free</td>\n      <td>0.0</td>\n      <td>Everyone</td>\n      <td>Education</td>\n      <td>July 6, 2018</td>\n      <td>1.0</td>\n      <td>4.1 and up</td>\n      <td>0.0</td>\n    </tr>\n    <tr>\n      <th>10837</th>\n      <td>10838</td>\n      <td>Parkinson Exercices FR</td>\n      <td>MEDICAL</td>\n      <td>-1.0</td>\n      <td>3</td>\n      <td>9728.0</td>\n      <td>1000.0</td>\n      <td>Free</td>\n      <td>0.0</td>\n      <td>Everyone</td>\n      <td>Medical</td>\n      <td>January 20, 2017</td>\n      <td>1.0</td>\n      <td>2.2 and up</td>\n      <td>0.0</td>\n    </tr>\n    <tr>\n      <th>10838</th>\n      <td>10839</td>\n      <td>The SCP Foundation DB fr nn5n</td>\n      <td>BOOKS_AND_REFERENCE</td>\n      <td>4.5</td>\n      <td>114</td>\n      <td>0.0</td>\n      <td>1000.0</td>\n      <td>Free</td>\n      <td>0.0</td>\n      <td>Mature 17+</td>\n      <td>Books &amp; Reference</td>\n      <td>January 19, 2015</td>\n      <td>Varies with device</td>\n      <td>Varies with device</td>\n      <td>0.0</td>\n    </tr>\n    <tr>\n      <th>10839</th>\n      <td>10840</td>\n      <td>iHoroscope - 2018 Daily Horoscope &amp; Astrology</td>\n      <td>LIFESTYLE</td>\n      <td>4.5</td>\n      <td>398307</td>\n      <td>19456.0</td>\n      <td>10000000.0</td>\n      <td>Free</td>\n      <td>0.0</td>\n      <td>Everyone</td>\n      <td>Lifestyle</td>\n      <td>July 25, 2018</td>\n      <td>Varies with device</td>\n      <td>Varies with device</td>\n      <td>0.0</td>\n    </tr>\n  </tbody>\n</table>\n<p>10839 rows × 15 columns</p>\n</div>"
     },
     "execution_count": 58,
     "metadata": {},
     "output_type": "execute_result"
    }
   ],
   "source": [
    "df"
   ],
   "metadata": {
    "collapsed": false,
    "ExecuteTime": {
     "end_time": "2024-03-03T06:18:47.296512Z",
     "start_time": "2024-03-03T06:18:47.285938Z"
    }
   },
   "id": "376743c8cabc3ca5",
   "execution_count": 58
  },
  {
   "cell_type": "markdown",
   "source": [
    "1. Создай новый столбец, в котором будет храниться количество жанров. Назови его 'Number of genres'.\n",
    "2. Какое максимальное количество жанров ('Number of genres') хранится в датасете?"
   ],
   "metadata": {
    "collapsed": false
   },
   "id": "26ba5227ccaf2bd9"
  },
  {
   "cell_type": "code",
   "outputs": [],
   "source": [
    "def make_ng(data):\n",
    "    data = str(data)\n",
    "    data = data.split(';')\n",
    "    return len(data)"
   ],
   "metadata": {
    "collapsed": false,
    "ExecuteTime": {
     "end_time": "2024-03-03T06:42:59.540911Z",
     "start_time": "2024-03-03T06:42:59.537018Z"
    }
   },
   "id": "161fe9bdec63a353",
   "execution_count": 59
  },
  {
   "cell_type": "code",
   "outputs": [
    {
     "name": "stderr",
     "output_type": "stream",
     "text": [
      "C:\\Users\\Пользователь\\AppData\\Local\\Temp\\ipykernel_12804\\1066330071.py:1: SettingWithCopyWarning: \n",
      "A value is trying to be set on a copy of a slice from a DataFrame.\n",
      "Try using .loc[row_indexer,col_indexer] = value instead\n",
      "\n",
      "See the caveats in the documentation: https://pandas.pydata.org/pandas-docs/stable/user_guide/indexing.html#returning-a-view-versus-a-copy\n",
      "  df['Number of genres'] = df['Genres'].apply(make_ng)\n"
     ]
    }
   ],
   "source": [
    "df['Number of genres'] = df['Genres'].apply(make_ng)"
   ],
   "metadata": {
    "collapsed": false,
    "ExecuteTime": {
     "end_time": "2024-03-03T06:43:56.231006Z",
     "start_time": "2024-03-03T06:43:56.223039Z"
    }
   },
   "id": "d43748c5bc2c012b",
   "execution_count": 60
  },
  {
   "cell_type": "code",
   "outputs": [
    {
     "data": {
      "text/plain": "2"
     },
     "execution_count": 62,
     "metadata": {},
     "output_type": "execute_result"
    }
   ],
   "source": [
    "df['Number of genres'].max()"
   ],
   "metadata": {
    "collapsed": false,
    "ExecuteTime": {
     "end_time": "2024-03-03T06:45:16.050849Z",
     "start_time": "2024-03-03T06:45:16.046065Z"
    }
   },
   "id": "f93437dde41f4399",
   "execution_count": 62
  },
  {
   "cell_type": "markdown",
   "source": [
    "1. Создай новый столбец, хранящий МЕСЯЦ, в котором было произведено последнее обновление ('Last Updated') приложения. Назови его 'Season'.\n",
    "2. Выведи на экран МЕСЯЦЫ и их количество в датасете."
   ],
   "metadata": {
    "collapsed": false
   },
   "id": "9d9363133da2282b"
  },
  {
   "cell_type": "code",
   "outputs": [],
   "source": [],
   "metadata": {
    "collapsed": false
   },
   "id": "7cccaf72f5829868"
  }
 ],
 "metadata": {
  "kernelspec": {
   "display_name": "Python 3",
   "language": "python",
   "name": "python3"
  },
  "language_info": {
   "codemirror_mode": {
    "name": "ipython",
    "version": 2
   },
   "file_extension": ".py",
   "mimetype": "text/x-python",
   "name": "python",
   "nbconvert_exporter": "python",
   "pygments_lexer": "ipython2",
   "version": "2.7.6"
  }
 },
 "nbformat": 4,
 "nbformat_minor": 5
}
